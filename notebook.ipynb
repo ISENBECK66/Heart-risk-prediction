{
 "cells": [
  {
   "cell_type": "markdown",
   "id": "98ff07bf",
   "metadata": {},
   "source": [
    "\n",
    "### Import libraries :\n",
    "\n",
    "\n"
   ]
  },
  {
   "cell_type": "code",
   "execution_count": 2,
   "id": "cef76bb6",
   "metadata": {},
   "outputs": [],
   "source": [
    "import pandas as pd\n",
    "import numpy as np\n",
    "import matplotlib.pyplot as plt\n",
    "import seaborn as sns\n",
    "\n",
    "from IPython.display import display\n",
    "\n",
    "from tqdm.auto import tqdm\n",
    "\n",
    "from sklearn.model_selection import KFold\n",
    "from sklearn.metrics import roc_auc_score\n",
    "from sklearn.metrics import accuracy_score\n",
    "from sklearn.metrics import mutual_info_score\n",
    "from sklearn.feature_extraction import DictVectorizer\n",
    "from sklearn.linear_model import LogisticRegression\n",
    "from sklearn.model_selection import train_test_split\n",
    "\n",
    "%matplotlib inline\n",
    "\n",
    "####### dt \n",
    "\n",
    "from sklearn.tree import DecisionTreeClassifier\n",
    "\n",
    "###########  rf\n",
    "\n",
    "from sklearn.ensemble import RandomForestClassifier\n",
    "\n",
    "########### xgboost\n",
    "\n",
    "import xgboost as xgb\n",
    "\n",
    "########### export model\n",
    "\n",
    "import pickle"
   ]
  },
  {
   "cell_type": "markdown",
   "id": "815bd7ff",
   "metadata": {},
   "source": [
    "\n",
    "### Import DATA :\n",
    "\n"
   ]
  },
  {
   "cell_type": "code",
   "execution_count": 3,
   "id": "10182836",
   "metadata": {},
   "outputs": [],
   "source": [
    "df = pd.read_csv('heart_attack_prediction_dataset.csv') "
   ]
  },
  {
   "cell_type": "code",
   "execution_count": 4,
   "id": "05f59aa5",
   "metadata": {},
   "outputs": [
    {
     "data": {
      "text/html": [
       "<div>\n",
       "<style scoped>\n",
       "    .dataframe tbody tr th:only-of-type {\n",
       "        vertical-align: middle;\n",
       "    }\n",
       "\n",
       "    .dataframe tbody tr th {\n",
       "        vertical-align: top;\n",
       "    }\n",
       "\n",
       "    .dataframe thead th {\n",
       "        text-align: right;\n",
       "    }\n",
       "</style>\n",
       "<table border=\"1\" class=\"dataframe\">\n",
       "  <thead>\n",
       "    <tr style=\"text-align: right;\">\n",
       "      <th></th>\n",
       "      <th>Patient ID</th>\n",
       "      <th>Age</th>\n",
       "      <th>Sex</th>\n",
       "      <th>Cholesterol</th>\n",
       "      <th>Blood Pressure</th>\n",
       "      <th>Heart Rate</th>\n",
       "      <th>Diabetes</th>\n",
       "      <th>Family History</th>\n",
       "      <th>Smoking</th>\n",
       "      <th>Obesity</th>\n",
       "      <th>...</th>\n",
       "      <th>Sedentary Hours Per Day</th>\n",
       "      <th>Income</th>\n",
       "      <th>BMI</th>\n",
       "      <th>Triglycerides</th>\n",
       "      <th>Physical Activity Days Per Week</th>\n",
       "      <th>Sleep Hours Per Day</th>\n",
       "      <th>Country</th>\n",
       "      <th>Continent</th>\n",
       "      <th>Hemisphere</th>\n",
       "      <th>Heart Attack Risk</th>\n",
       "    </tr>\n",
       "  </thead>\n",
       "  <tbody>\n",
       "    <tr>\n",
       "      <th>0</th>\n",
       "      <td>BMW7812</td>\n",
       "      <td>67</td>\n",
       "      <td>Male</td>\n",
       "      <td>208</td>\n",
       "      <td>158/88</td>\n",
       "      <td>72</td>\n",
       "      <td>0</td>\n",
       "      <td>0</td>\n",
       "      <td>1</td>\n",
       "      <td>0</td>\n",
       "      <td>...</td>\n",
       "      <td>6.615001</td>\n",
       "      <td>261404</td>\n",
       "      <td>31.251233</td>\n",
       "      <td>286</td>\n",
       "      <td>0</td>\n",
       "      <td>6</td>\n",
       "      <td>Argentina</td>\n",
       "      <td>South America</td>\n",
       "      <td>Southern Hemisphere</td>\n",
       "      <td>0</td>\n",
       "    </tr>\n",
       "    <tr>\n",
       "      <th>1</th>\n",
       "      <td>CZE1114</td>\n",
       "      <td>21</td>\n",
       "      <td>Male</td>\n",
       "      <td>389</td>\n",
       "      <td>165/93</td>\n",
       "      <td>98</td>\n",
       "      <td>1</td>\n",
       "      <td>1</td>\n",
       "      <td>1</td>\n",
       "      <td>1</td>\n",
       "      <td>...</td>\n",
       "      <td>4.963459</td>\n",
       "      <td>285768</td>\n",
       "      <td>27.194973</td>\n",
       "      <td>235</td>\n",
       "      <td>1</td>\n",
       "      <td>7</td>\n",
       "      <td>Canada</td>\n",
       "      <td>North America</td>\n",
       "      <td>Northern Hemisphere</td>\n",
       "      <td>0</td>\n",
       "    </tr>\n",
       "    <tr>\n",
       "      <th>2</th>\n",
       "      <td>BNI9906</td>\n",
       "      <td>21</td>\n",
       "      <td>Female</td>\n",
       "      <td>324</td>\n",
       "      <td>174/99</td>\n",
       "      <td>72</td>\n",
       "      <td>1</td>\n",
       "      <td>0</td>\n",
       "      <td>0</td>\n",
       "      <td>0</td>\n",
       "      <td>...</td>\n",
       "      <td>9.463426</td>\n",
       "      <td>235282</td>\n",
       "      <td>28.176571</td>\n",
       "      <td>587</td>\n",
       "      <td>4</td>\n",
       "      <td>4</td>\n",
       "      <td>France</td>\n",
       "      <td>Europe</td>\n",
       "      <td>Northern Hemisphere</td>\n",
       "      <td>0</td>\n",
       "    </tr>\n",
       "    <tr>\n",
       "      <th>3</th>\n",
       "      <td>JLN3497</td>\n",
       "      <td>84</td>\n",
       "      <td>Male</td>\n",
       "      <td>383</td>\n",
       "      <td>163/100</td>\n",
       "      <td>73</td>\n",
       "      <td>1</td>\n",
       "      <td>1</td>\n",
       "      <td>1</td>\n",
       "      <td>0</td>\n",
       "      <td>...</td>\n",
       "      <td>7.648981</td>\n",
       "      <td>125640</td>\n",
       "      <td>36.464704</td>\n",
       "      <td>378</td>\n",
       "      <td>3</td>\n",
       "      <td>4</td>\n",
       "      <td>Canada</td>\n",
       "      <td>North America</td>\n",
       "      <td>Northern Hemisphere</td>\n",
       "      <td>0</td>\n",
       "    </tr>\n",
       "    <tr>\n",
       "      <th>4</th>\n",
       "      <td>GFO8847</td>\n",
       "      <td>66</td>\n",
       "      <td>Male</td>\n",
       "      <td>318</td>\n",
       "      <td>91/88</td>\n",
       "      <td>93</td>\n",
       "      <td>1</td>\n",
       "      <td>1</td>\n",
       "      <td>1</td>\n",
       "      <td>1</td>\n",
       "      <td>...</td>\n",
       "      <td>1.514821</td>\n",
       "      <td>160555</td>\n",
       "      <td>21.809144</td>\n",
       "      <td>231</td>\n",
       "      <td>1</td>\n",
       "      <td>5</td>\n",
       "      <td>Thailand</td>\n",
       "      <td>Asia</td>\n",
       "      <td>Northern Hemisphere</td>\n",
       "      <td>0</td>\n",
       "    </tr>\n",
       "  </tbody>\n",
       "</table>\n",
       "<p>5 rows × 26 columns</p>\n",
       "</div>"
      ],
      "text/plain": [
       "  Patient ID  Age     Sex  Cholesterol Blood Pressure  Heart Rate  Diabetes  \\\n",
       "0    BMW7812   67    Male          208         158/88          72         0   \n",
       "1    CZE1114   21    Male          389         165/93          98         1   \n",
       "2    BNI9906   21  Female          324         174/99          72         1   \n",
       "3    JLN3497   84    Male          383        163/100          73         1   \n",
       "4    GFO8847   66    Male          318          91/88          93         1   \n",
       "\n",
       "   Family History  Smoking  Obesity  ...  Sedentary Hours Per Day  Income  \\\n",
       "0               0        1        0  ...                 6.615001  261404   \n",
       "1               1        1        1  ...                 4.963459  285768   \n",
       "2               0        0        0  ...                 9.463426  235282   \n",
       "3               1        1        0  ...                 7.648981  125640   \n",
       "4               1        1        1  ...                 1.514821  160555   \n",
       "\n",
       "         BMI  Triglycerides  Physical Activity Days Per Week  \\\n",
       "0  31.251233            286                                0   \n",
       "1  27.194973            235                                1   \n",
       "2  28.176571            587                                4   \n",
       "3  36.464704            378                                3   \n",
       "4  21.809144            231                                1   \n",
       "\n",
       "   Sleep Hours Per Day    Country      Continent           Hemisphere  \\\n",
       "0                    6  Argentina  South America  Southern Hemisphere   \n",
       "1                    7     Canada  North America  Northern Hemisphere   \n",
       "2                    4     France         Europe  Northern Hemisphere   \n",
       "3                    4     Canada  North America  Northern Hemisphere   \n",
       "4                    5   Thailand           Asia  Northern Hemisphere   \n",
       "\n",
       "   Heart Attack Risk  \n",
       "0                  0  \n",
       "1                  0  \n",
       "2                  0  \n",
       "3                  0  \n",
       "4                  0  \n",
       "\n",
       "[5 rows x 26 columns]"
      ]
     },
     "execution_count": 4,
     "metadata": {},
     "output_type": "execute_result"
    }
   ],
   "source": [
    "df.head()"
   ]
  },
  {
   "cell_type": "markdown",
   "id": "fcb6c860",
   "metadata": {},
   "source": [
    "### Uniforming the name of the columns and the string content :"
   ]
  },
  {
   "cell_type": "code",
   "execution_count": 5,
   "id": "86136d0c",
   "metadata": {},
   "outputs": [],
   "source": [
    "df.columns=df.columns.str.lower().str.replace(' ','_')"
   ]
  },
  {
   "cell_type": "code",
   "execution_count": 6,
   "id": "74f93ee7",
   "metadata": {},
   "outputs": [
    {
     "data": {
      "text/html": [
       "<div>\n",
       "<style scoped>\n",
       "    .dataframe tbody tr th:only-of-type {\n",
       "        vertical-align: middle;\n",
       "    }\n",
       "\n",
       "    .dataframe tbody tr th {\n",
       "        vertical-align: top;\n",
       "    }\n",
       "\n",
       "    .dataframe thead th {\n",
       "        text-align: right;\n",
       "    }\n",
       "</style>\n",
       "<table border=\"1\" class=\"dataframe\">\n",
       "  <thead>\n",
       "    <tr style=\"text-align: right;\">\n",
       "      <th></th>\n",
       "      <th>patient_id</th>\n",
       "      <th>age</th>\n",
       "      <th>sex</th>\n",
       "      <th>cholesterol</th>\n",
       "      <th>blood_pressure</th>\n",
       "      <th>heart_rate</th>\n",
       "      <th>diabetes</th>\n",
       "      <th>family_history</th>\n",
       "      <th>smoking</th>\n",
       "      <th>obesity</th>\n",
       "      <th>...</th>\n",
       "      <th>sedentary_hours_per_day</th>\n",
       "      <th>income</th>\n",
       "      <th>bmi</th>\n",
       "      <th>triglycerides</th>\n",
       "      <th>physical_activity_days_per_week</th>\n",
       "      <th>sleep_hours_per_day</th>\n",
       "      <th>country</th>\n",
       "      <th>continent</th>\n",
       "      <th>hemisphere</th>\n",
       "      <th>heart_attack_risk</th>\n",
       "    </tr>\n",
       "  </thead>\n",
       "  <tbody>\n",
       "    <tr>\n",
       "      <th>0</th>\n",
       "      <td>BMW7812</td>\n",
       "      <td>67</td>\n",
       "      <td>Male</td>\n",
       "      <td>208</td>\n",
       "      <td>158/88</td>\n",
       "      <td>72</td>\n",
       "      <td>0</td>\n",
       "      <td>0</td>\n",
       "      <td>1</td>\n",
       "      <td>0</td>\n",
       "      <td>...</td>\n",
       "      <td>6.615001</td>\n",
       "      <td>261404</td>\n",
       "      <td>31.251233</td>\n",
       "      <td>286</td>\n",
       "      <td>0</td>\n",
       "      <td>6</td>\n",
       "      <td>Argentina</td>\n",
       "      <td>South America</td>\n",
       "      <td>Southern Hemisphere</td>\n",
       "      <td>0</td>\n",
       "    </tr>\n",
       "    <tr>\n",
       "      <th>1</th>\n",
       "      <td>CZE1114</td>\n",
       "      <td>21</td>\n",
       "      <td>Male</td>\n",
       "      <td>389</td>\n",
       "      <td>165/93</td>\n",
       "      <td>98</td>\n",
       "      <td>1</td>\n",
       "      <td>1</td>\n",
       "      <td>1</td>\n",
       "      <td>1</td>\n",
       "      <td>...</td>\n",
       "      <td>4.963459</td>\n",
       "      <td>285768</td>\n",
       "      <td>27.194973</td>\n",
       "      <td>235</td>\n",
       "      <td>1</td>\n",
       "      <td>7</td>\n",
       "      <td>Canada</td>\n",
       "      <td>North America</td>\n",
       "      <td>Northern Hemisphere</td>\n",
       "      <td>0</td>\n",
       "    </tr>\n",
       "    <tr>\n",
       "      <th>2</th>\n",
       "      <td>BNI9906</td>\n",
       "      <td>21</td>\n",
       "      <td>Female</td>\n",
       "      <td>324</td>\n",
       "      <td>174/99</td>\n",
       "      <td>72</td>\n",
       "      <td>1</td>\n",
       "      <td>0</td>\n",
       "      <td>0</td>\n",
       "      <td>0</td>\n",
       "      <td>...</td>\n",
       "      <td>9.463426</td>\n",
       "      <td>235282</td>\n",
       "      <td>28.176571</td>\n",
       "      <td>587</td>\n",
       "      <td>4</td>\n",
       "      <td>4</td>\n",
       "      <td>France</td>\n",
       "      <td>Europe</td>\n",
       "      <td>Northern Hemisphere</td>\n",
       "      <td>0</td>\n",
       "    </tr>\n",
       "    <tr>\n",
       "      <th>3</th>\n",
       "      <td>JLN3497</td>\n",
       "      <td>84</td>\n",
       "      <td>Male</td>\n",
       "      <td>383</td>\n",
       "      <td>163/100</td>\n",
       "      <td>73</td>\n",
       "      <td>1</td>\n",
       "      <td>1</td>\n",
       "      <td>1</td>\n",
       "      <td>0</td>\n",
       "      <td>...</td>\n",
       "      <td>7.648981</td>\n",
       "      <td>125640</td>\n",
       "      <td>36.464704</td>\n",
       "      <td>378</td>\n",
       "      <td>3</td>\n",
       "      <td>4</td>\n",
       "      <td>Canada</td>\n",
       "      <td>North America</td>\n",
       "      <td>Northern Hemisphere</td>\n",
       "      <td>0</td>\n",
       "    </tr>\n",
       "    <tr>\n",
       "      <th>4</th>\n",
       "      <td>GFO8847</td>\n",
       "      <td>66</td>\n",
       "      <td>Male</td>\n",
       "      <td>318</td>\n",
       "      <td>91/88</td>\n",
       "      <td>93</td>\n",
       "      <td>1</td>\n",
       "      <td>1</td>\n",
       "      <td>1</td>\n",
       "      <td>1</td>\n",
       "      <td>...</td>\n",
       "      <td>1.514821</td>\n",
       "      <td>160555</td>\n",
       "      <td>21.809144</td>\n",
       "      <td>231</td>\n",
       "      <td>1</td>\n",
       "      <td>5</td>\n",
       "      <td>Thailand</td>\n",
       "      <td>Asia</td>\n",
       "      <td>Northern Hemisphere</td>\n",
       "      <td>0</td>\n",
       "    </tr>\n",
       "  </tbody>\n",
       "</table>\n",
       "<p>5 rows × 26 columns</p>\n",
       "</div>"
      ],
      "text/plain": [
       "  patient_id  age     sex  cholesterol blood_pressure  heart_rate  diabetes  \\\n",
       "0    BMW7812   67    Male          208         158/88          72         0   \n",
       "1    CZE1114   21    Male          389         165/93          98         1   \n",
       "2    BNI9906   21  Female          324         174/99          72         1   \n",
       "3    JLN3497   84    Male          383        163/100          73         1   \n",
       "4    GFO8847   66    Male          318          91/88          93         1   \n",
       "\n",
       "   family_history  smoking  obesity  ...  sedentary_hours_per_day  income  \\\n",
       "0               0        1        0  ...                 6.615001  261404   \n",
       "1               1        1        1  ...                 4.963459  285768   \n",
       "2               0        0        0  ...                 9.463426  235282   \n",
       "3               1        1        0  ...                 7.648981  125640   \n",
       "4               1        1        1  ...                 1.514821  160555   \n",
       "\n",
       "         bmi  triglycerides  physical_activity_days_per_week  \\\n",
       "0  31.251233            286                                0   \n",
       "1  27.194973            235                                1   \n",
       "2  28.176571            587                                4   \n",
       "3  36.464704            378                                3   \n",
       "4  21.809144            231                                1   \n",
       "\n",
       "   sleep_hours_per_day    country      continent           hemisphere  \\\n",
       "0                    6  Argentina  South America  Southern Hemisphere   \n",
       "1                    7     Canada  North America  Northern Hemisphere   \n",
       "2                    4     France         Europe  Northern Hemisphere   \n",
       "3                    4     Canada  North America  Northern Hemisphere   \n",
       "4                    5   Thailand           Asia  Northern Hemisphere   \n",
       "\n",
       "   heart_attack_risk  \n",
       "0                  0  \n",
       "1                  0  \n",
       "2                  0  \n",
       "3                  0  \n",
       "4                  0  \n",
       "\n",
       "[5 rows x 26 columns]"
      ]
     },
     "execution_count": 6,
     "metadata": {},
     "output_type": "execute_result"
    }
   ],
   "source": [
    "df.head()"
   ]
  },
  {
   "cell_type": "code",
   "execution_count": 7,
   "id": "2821d70a",
   "metadata": {},
   "outputs": [
    {
     "data": {
      "text/plain": [
       "patient_id                          object\n",
       "age                                  int64\n",
       "sex                                 object\n",
       "cholesterol                          int64\n",
       "blood_pressure                      object\n",
       "heart_rate                           int64\n",
       "diabetes                             int64\n",
       "family_history                       int64\n",
       "smoking                              int64\n",
       "obesity                              int64\n",
       "alcohol_consumption                  int64\n",
       "exercise_hours_per_week            float64\n",
       "diet                                object\n",
       "previous_heart_problems              int64\n",
       "medication_use                       int64\n",
       "stress_level                         int64\n",
       "sedentary_hours_per_day            float64\n",
       "income                               int64\n",
       "bmi                                float64\n",
       "triglycerides                        int64\n",
       "physical_activity_days_per_week      int64\n",
       "sleep_hours_per_day                  int64\n",
       "country                             object\n",
       "continent                           object\n",
       "hemisphere                          object\n",
       "heart_attack_risk                    int64\n",
       "dtype: object"
      ]
     },
     "execution_count": 7,
     "metadata": {},
     "output_type": "execute_result"
    }
   ],
   "source": [
    "df.dtypes"
   ]
  },
  {
   "cell_type": "code",
   "execution_count": 8,
   "id": "d8487981",
   "metadata": {},
   "outputs": [
    {
     "data": {
      "text/plain": [
       "Index(['patient_id', 'sex', 'blood_pressure', 'diet', 'country', 'continent',\n",
       "       'hemisphere'],\n",
       "      dtype='object')"
      ]
     },
     "execution_count": 8,
     "metadata": {},
     "output_type": "execute_result"
    }
   ],
   "source": [
    "strings=df.dtypes[df.dtypes=='object'].index\n",
    "strings"
   ]
  },
  {
   "cell_type": "code",
   "execution_count": 9,
   "id": "ca72cbb9",
   "metadata": {},
   "outputs": [
    {
     "data": {
      "text/html": [
       "<div>\n",
       "<style scoped>\n",
       "    .dataframe tbody tr th:only-of-type {\n",
       "        vertical-align: middle;\n",
       "    }\n",
       "\n",
       "    .dataframe tbody tr th {\n",
       "        vertical-align: top;\n",
       "    }\n",
       "\n",
       "    .dataframe thead th {\n",
       "        text-align: right;\n",
       "    }\n",
       "</style>\n",
       "<table border=\"1\" class=\"dataframe\">\n",
       "  <thead>\n",
       "    <tr style=\"text-align: right;\">\n",
       "      <th></th>\n",
       "      <th>patient_id</th>\n",
       "      <th>sex</th>\n",
       "      <th>blood_pressure</th>\n",
       "      <th>diet</th>\n",
       "      <th>country</th>\n",
       "      <th>continent</th>\n",
       "      <th>hemisphere</th>\n",
       "    </tr>\n",
       "  </thead>\n",
       "  <tbody>\n",
       "    <tr>\n",
       "      <th>0</th>\n",
       "      <td>BMW7812</td>\n",
       "      <td>Male</td>\n",
       "      <td>158/88</td>\n",
       "      <td>Average</td>\n",
       "      <td>Argentina</td>\n",
       "      <td>South America</td>\n",
       "      <td>Southern Hemisphere</td>\n",
       "    </tr>\n",
       "    <tr>\n",
       "      <th>1</th>\n",
       "      <td>CZE1114</td>\n",
       "      <td>Male</td>\n",
       "      <td>165/93</td>\n",
       "      <td>Unhealthy</td>\n",
       "      <td>Canada</td>\n",
       "      <td>North America</td>\n",
       "      <td>Northern Hemisphere</td>\n",
       "    </tr>\n",
       "    <tr>\n",
       "      <th>2</th>\n",
       "      <td>BNI9906</td>\n",
       "      <td>Female</td>\n",
       "      <td>174/99</td>\n",
       "      <td>Healthy</td>\n",
       "      <td>France</td>\n",
       "      <td>Europe</td>\n",
       "      <td>Northern Hemisphere</td>\n",
       "    </tr>\n",
       "    <tr>\n",
       "      <th>3</th>\n",
       "      <td>JLN3497</td>\n",
       "      <td>Male</td>\n",
       "      <td>163/100</td>\n",
       "      <td>Average</td>\n",
       "      <td>Canada</td>\n",
       "      <td>North America</td>\n",
       "      <td>Northern Hemisphere</td>\n",
       "    </tr>\n",
       "    <tr>\n",
       "      <th>4</th>\n",
       "      <td>GFO8847</td>\n",
       "      <td>Male</td>\n",
       "      <td>91/88</td>\n",
       "      <td>Unhealthy</td>\n",
       "      <td>Thailand</td>\n",
       "      <td>Asia</td>\n",
       "      <td>Northern Hemisphere</td>\n",
       "    </tr>\n",
       "  </tbody>\n",
       "</table>\n",
       "</div>"
      ],
      "text/plain": [
       "  patient_id     sex blood_pressure       diet    country      continent  \\\n",
       "0    BMW7812    Male         158/88    Average  Argentina  South America   \n",
       "1    CZE1114    Male         165/93  Unhealthy     Canada  North America   \n",
       "2    BNI9906  Female         174/99    Healthy     France         Europe   \n",
       "3    JLN3497    Male        163/100    Average     Canada  North America   \n",
       "4    GFO8847    Male          91/88  Unhealthy   Thailand           Asia   \n",
       "\n",
       "            hemisphere  \n",
       "0  Southern Hemisphere  \n",
       "1  Northern Hemisphere  \n",
       "2  Northern Hemisphere  \n",
       "3  Northern Hemisphere  \n",
       "4  Northern Hemisphere  "
      ]
     },
     "execution_count": 9,
     "metadata": {},
     "output_type": "execute_result"
    }
   ],
   "source": [
    "df[strings].head()"
   ]
  },
  {
   "cell_type": "code",
   "execution_count": 10,
   "id": "d66b3752",
   "metadata": {},
   "outputs": [],
   "source": [
    "for s in strings:\n",
    "    df[s] = df[s].str.lower().str.replace(\" \",\"_\")"
   ]
  },
  {
   "cell_type": "code",
   "execution_count": 11,
   "id": "e7dc5434",
   "metadata": {},
   "outputs": [
    {
     "data": {
      "text/html": [
       "<div>\n",
       "<style scoped>\n",
       "    .dataframe tbody tr th:only-of-type {\n",
       "        vertical-align: middle;\n",
       "    }\n",
       "\n",
       "    .dataframe tbody tr th {\n",
       "        vertical-align: top;\n",
       "    }\n",
       "\n",
       "    .dataframe thead th {\n",
       "        text-align: right;\n",
       "    }\n",
       "</style>\n",
       "<table border=\"1\" class=\"dataframe\">\n",
       "  <thead>\n",
       "    <tr style=\"text-align: right;\">\n",
       "      <th></th>\n",
       "      <th>patient_id</th>\n",
       "      <th>sex</th>\n",
       "      <th>blood_pressure</th>\n",
       "      <th>diet</th>\n",
       "      <th>country</th>\n",
       "      <th>continent</th>\n",
       "      <th>hemisphere</th>\n",
       "    </tr>\n",
       "  </thead>\n",
       "  <tbody>\n",
       "    <tr>\n",
       "      <th>0</th>\n",
       "      <td>bmw7812</td>\n",
       "      <td>male</td>\n",
       "      <td>158/88</td>\n",
       "      <td>average</td>\n",
       "      <td>argentina</td>\n",
       "      <td>south_america</td>\n",
       "      <td>southern_hemisphere</td>\n",
       "    </tr>\n",
       "    <tr>\n",
       "      <th>1</th>\n",
       "      <td>cze1114</td>\n",
       "      <td>male</td>\n",
       "      <td>165/93</td>\n",
       "      <td>unhealthy</td>\n",
       "      <td>canada</td>\n",
       "      <td>north_america</td>\n",
       "      <td>northern_hemisphere</td>\n",
       "    </tr>\n",
       "    <tr>\n",
       "      <th>2</th>\n",
       "      <td>bni9906</td>\n",
       "      <td>female</td>\n",
       "      <td>174/99</td>\n",
       "      <td>healthy</td>\n",
       "      <td>france</td>\n",
       "      <td>europe</td>\n",
       "      <td>northern_hemisphere</td>\n",
       "    </tr>\n",
       "    <tr>\n",
       "      <th>3</th>\n",
       "      <td>jln3497</td>\n",
       "      <td>male</td>\n",
       "      <td>163/100</td>\n",
       "      <td>average</td>\n",
       "      <td>canada</td>\n",
       "      <td>north_america</td>\n",
       "      <td>northern_hemisphere</td>\n",
       "    </tr>\n",
       "    <tr>\n",
       "      <th>4</th>\n",
       "      <td>gfo8847</td>\n",
       "      <td>male</td>\n",
       "      <td>91/88</td>\n",
       "      <td>unhealthy</td>\n",
       "      <td>thailand</td>\n",
       "      <td>asia</td>\n",
       "      <td>northern_hemisphere</td>\n",
       "    </tr>\n",
       "  </tbody>\n",
       "</table>\n",
       "</div>"
      ],
      "text/plain": [
       "  patient_id     sex blood_pressure       diet    country      continent  \\\n",
       "0    bmw7812    male         158/88    average  argentina  south_america   \n",
       "1    cze1114    male         165/93  unhealthy     canada  north_america   \n",
       "2    bni9906  female         174/99    healthy     france         europe   \n",
       "3    jln3497    male        163/100    average     canada  north_america   \n",
       "4    gfo8847    male          91/88  unhealthy   thailand           asia   \n",
       "\n",
       "            hemisphere  \n",
       "0  southern_hemisphere  \n",
       "1  northern_hemisphere  \n",
       "2  northern_hemisphere  \n",
       "3  northern_hemisphere  \n",
       "4  northern_hemisphere  "
      ]
     },
     "execution_count": 11,
     "metadata": {},
     "output_type": "execute_result"
    }
   ],
   "source": [
    "df[strings].head()"
   ]
  },
  {
   "cell_type": "markdown",
   "id": "0656caab",
   "metadata": {},
   "source": [
    "### Data cleaning and adjustment :\n",
    "\n",
    "\n",
    "\n"
   ]
  },
  {
   "cell_type": "code",
   "execution_count": 12,
   "id": "fb145410",
   "metadata": {},
   "outputs": [
    {
     "data": {
      "text/plain": [
       "8763"
      ]
     },
     "execution_count": 12,
     "metadata": {},
     "output_type": "execute_result"
    }
   ],
   "source": [
    "len(df)"
   ]
  },
  {
   "cell_type": "code",
   "execution_count": 13,
   "id": "85b8c64e",
   "metadata": {},
   "outputs": [],
   "source": [
    "blood_pressure = df['blood_pressure'].values\n",
    "\n",
    "blood_pressure_max = []\n",
    "blood_pressure_min = []\n",
    "\n",
    "for i in range(0,len(df)): \n",
    "    blood_pressure_max.append(int(blood_pressure[i].split('/')[0]))\n",
    "    blood_pressure_min.append(int(blood_pressure[i].split('/')[1]))\n",
    "    \n",
    "df['blood_pressure_min'] = blood_pressure_min\n",
    "df['blood_pressure_max'] = blood_pressure_max"
   ]
  },
  {
   "cell_type": "code",
   "execution_count": 14,
   "id": "cf3a46c4",
   "metadata": {},
   "outputs": [
    {
     "data": {
      "text/plain": [
       "('138/67', 138, 67)"
      ]
     },
     "execution_count": 14,
     "metadata": {},
     "output_type": "execute_result"
    }
   ],
   "source": [
    "blood_pressure[-1],blood_pressure_max[-1],blood_pressure_min[-1]"
   ]
  },
  {
   "cell_type": "code",
   "execution_count": 15,
   "id": "b9ef463d",
   "metadata": {},
   "outputs": [
    {
     "data": {
      "text/html": [
       "<div>\n",
       "<style scoped>\n",
       "    .dataframe tbody tr th:only-of-type {\n",
       "        vertical-align: middle;\n",
       "    }\n",
       "\n",
       "    .dataframe tbody tr th {\n",
       "        vertical-align: top;\n",
       "    }\n",
       "\n",
       "    .dataframe thead th {\n",
       "        text-align: right;\n",
       "    }\n",
       "</style>\n",
       "<table border=\"1\" class=\"dataframe\">\n",
       "  <thead>\n",
       "    <tr style=\"text-align: right;\">\n",
       "      <th></th>\n",
       "      <th>patient_id</th>\n",
       "      <th>age</th>\n",
       "      <th>sex</th>\n",
       "      <th>cholesterol</th>\n",
       "      <th>blood_pressure</th>\n",
       "      <th>heart_rate</th>\n",
       "      <th>diabetes</th>\n",
       "      <th>family_history</th>\n",
       "      <th>smoking</th>\n",
       "      <th>obesity</th>\n",
       "      <th>...</th>\n",
       "      <th>bmi</th>\n",
       "      <th>triglycerides</th>\n",
       "      <th>physical_activity_days_per_week</th>\n",
       "      <th>sleep_hours_per_day</th>\n",
       "      <th>country</th>\n",
       "      <th>continent</th>\n",
       "      <th>hemisphere</th>\n",
       "      <th>heart_attack_risk</th>\n",
       "      <th>blood_pressure_min</th>\n",
       "      <th>blood_pressure_max</th>\n",
       "    </tr>\n",
       "  </thead>\n",
       "  <tbody>\n",
       "    <tr>\n",
       "      <th>0</th>\n",
       "      <td>bmw7812</td>\n",
       "      <td>67</td>\n",
       "      <td>male</td>\n",
       "      <td>208</td>\n",
       "      <td>158/88</td>\n",
       "      <td>72</td>\n",
       "      <td>0</td>\n",
       "      <td>0</td>\n",
       "      <td>1</td>\n",
       "      <td>0</td>\n",
       "      <td>...</td>\n",
       "      <td>31.251233</td>\n",
       "      <td>286</td>\n",
       "      <td>0</td>\n",
       "      <td>6</td>\n",
       "      <td>argentina</td>\n",
       "      <td>south_america</td>\n",
       "      <td>southern_hemisphere</td>\n",
       "      <td>0</td>\n",
       "      <td>88</td>\n",
       "      <td>158</td>\n",
       "    </tr>\n",
       "    <tr>\n",
       "      <th>1</th>\n",
       "      <td>cze1114</td>\n",
       "      <td>21</td>\n",
       "      <td>male</td>\n",
       "      <td>389</td>\n",
       "      <td>165/93</td>\n",
       "      <td>98</td>\n",
       "      <td>1</td>\n",
       "      <td>1</td>\n",
       "      <td>1</td>\n",
       "      <td>1</td>\n",
       "      <td>...</td>\n",
       "      <td>27.194973</td>\n",
       "      <td>235</td>\n",
       "      <td>1</td>\n",
       "      <td>7</td>\n",
       "      <td>canada</td>\n",
       "      <td>north_america</td>\n",
       "      <td>northern_hemisphere</td>\n",
       "      <td>0</td>\n",
       "      <td>93</td>\n",
       "      <td>165</td>\n",
       "    </tr>\n",
       "    <tr>\n",
       "      <th>2</th>\n",
       "      <td>bni9906</td>\n",
       "      <td>21</td>\n",
       "      <td>female</td>\n",
       "      <td>324</td>\n",
       "      <td>174/99</td>\n",
       "      <td>72</td>\n",
       "      <td>1</td>\n",
       "      <td>0</td>\n",
       "      <td>0</td>\n",
       "      <td>0</td>\n",
       "      <td>...</td>\n",
       "      <td>28.176571</td>\n",
       "      <td>587</td>\n",
       "      <td>4</td>\n",
       "      <td>4</td>\n",
       "      <td>france</td>\n",
       "      <td>europe</td>\n",
       "      <td>northern_hemisphere</td>\n",
       "      <td>0</td>\n",
       "      <td>99</td>\n",
       "      <td>174</td>\n",
       "    </tr>\n",
       "    <tr>\n",
       "      <th>3</th>\n",
       "      <td>jln3497</td>\n",
       "      <td>84</td>\n",
       "      <td>male</td>\n",
       "      <td>383</td>\n",
       "      <td>163/100</td>\n",
       "      <td>73</td>\n",
       "      <td>1</td>\n",
       "      <td>1</td>\n",
       "      <td>1</td>\n",
       "      <td>0</td>\n",
       "      <td>...</td>\n",
       "      <td>36.464704</td>\n",
       "      <td>378</td>\n",
       "      <td>3</td>\n",
       "      <td>4</td>\n",
       "      <td>canada</td>\n",
       "      <td>north_america</td>\n",
       "      <td>northern_hemisphere</td>\n",
       "      <td>0</td>\n",
       "      <td>100</td>\n",
       "      <td>163</td>\n",
       "    </tr>\n",
       "    <tr>\n",
       "      <th>4</th>\n",
       "      <td>gfo8847</td>\n",
       "      <td>66</td>\n",
       "      <td>male</td>\n",
       "      <td>318</td>\n",
       "      <td>91/88</td>\n",
       "      <td>93</td>\n",
       "      <td>1</td>\n",
       "      <td>1</td>\n",
       "      <td>1</td>\n",
       "      <td>1</td>\n",
       "      <td>...</td>\n",
       "      <td>21.809144</td>\n",
       "      <td>231</td>\n",
       "      <td>1</td>\n",
       "      <td>5</td>\n",
       "      <td>thailand</td>\n",
       "      <td>asia</td>\n",
       "      <td>northern_hemisphere</td>\n",
       "      <td>0</td>\n",
       "      <td>88</td>\n",
       "      <td>91</td>\n",
       "    </tr>\n",
       "  </tbody>\n",
       "</table>\n",
       "<p>5 rows × 28 columns</p>\n",
       "</div>"
      ],
      "text/plain": [
       "  patient_id  age     sex  cholesterol blood_pressure  heart_rate  diabetes  \\\n",
       "0    bmw7812   67    male          208         158/88          72         0   \n",
       "1    cze1114   21    male          389         165/93          98         1   \n",
       "2    bni9906   21  female          324         174/99          72         1   \n",
       "3    jln3497   84    male          383        163/100          73         1   \n",
       "4    gfo8847   66    male          318          91/88          93         1   \n",
       "\n",
       "   family_history  smoking  obesity  ...        bmi  triglycerides  \\\n",
       "0               0        1        0  ...  31.251233            286   \n",
       "1               1        1        1  ...  27.194973            235   \n",
       "2               0        0        0  ...  28.176571            587   \n",
       "3               1        1        0  ...  36.464704            378   \n",
       "4               1        1        1  ...  21.809144            231   \n",
       "\n",
       "  physical_activity_days_per_week  sleep_hours_per_day    country  \\\n",
       "0                               0                    6  argentina   \n",
       "1                               1                    7     canada   \n",
       "2                               4                    4     france   \n",
       "3                               3                    4     canada   \n",
       "4                               1                    5   thailand   \n",
       "\n",
       "       continent           hemisphere  heart_attack_risk  blood_pressure_min  \\\n",
       "0  south_america  southern_hemisphere                  0                  88   \n",
       "1  north_america  northern_hemisphere                  0                  93   \n",
       "2         europe  northern_hemisphere                  0                  99   \n",
       "3  north_america  northern_hemisphere                  0                 100   \n",
       "4           asia  northern_hemisphere                  0                  88   \n",
       "\n",
       "   blood_pressure_max  \n",
       "0                 158  \n",
       "1                 165  \n",
       "2                 174  \n",
       "3                 163  \n",
       "4                  91  \n",
       "\n",
       "[5 rows x 28 columns]"
      ]
     },
     "execution_count": 15,
     "metadata": {},
     "output_type": "execute_result"
    }
   ],
   "source": [
    "df.head()"
   ]
  },
  {
   "cell_type": "code",
   "execution_count": 16,
   "id": "b94e774f",
   "metadata": {},
   "outputs": [],
   "source": [
    "del df['blood_pressure']"
   ]
  },
  {
   "cell_type": "code",
   "execution_count": 17,
   "id": "802bf1c2",
   "metadata": {},
   "outputs": [
    {
     "data": {
      "text/html": [
       "<div>\n",
       "<style scoped>\n",
       "    .dataframe tbody tr th:only-of-type {\n",
       "        vertical-align: middle;\n",
       "    }\n",
       "\n",
       "    .dataframe tbody tr th {\n",
       "        vertical-align: top;\n",
       "    }\n",
       "\n",
       "    .dataframe thead th {\n",
       "        text-align: right;\n",
       "    }\n",
       "</style>\n",
       "<table border=\"1\" class=\"dataframe\">\n",
       "  <thead>\n",
       "    <tr style=\"text-align: right;\">\n",
       "      <th></th>\n",
       "      <th>patient_id</th>\n",
       "      <th>age</th>\n",
       "      <th>sex</th>\n",
       "      <th>cholesterol</th>\n",
       "      <th>heart_rate</th>\n",
       "      <th>diabetes</th>\n",
       "      <th>family_history</th>\n",
       "      <th>smoking</th>\n",
       "      <th>obesity</th>\n",
       "      <th>alcohol_consumption</th>\n",
       "      <th>...</th>\n",
       "      <th>bmi</th>\n",
       "      <th>triglycerides</th>\n",
       "      <th>physical_activity_days_per_week</th>\n",
       "      <th>sleep_hours_per_day</th>\n",
       "      <th>country</th>\n",
       "      <th>continent</th>\n",
       "      <th>hemisphere</th>\n",
       "      <th>heart_attack_risk</th>\n",
       "      <th>blood_pressure_min</th>\n",
       "      <th>blood_pressure_max</th>\n",
       "    </tr>\n",
       "  </thead>\n",
       "  <tbody>\n",
       "    <tr>\n",
       "      <th>0</th>\n",
       "      <td>bmw7812</td>\n",
       "      <td>67</td>\n",
       "      <td>male</td>\n",
       "      <td>208</td>\n",
       "      <td>72</td>\n",
       "      <td>0</td>\n",
       "      <td>0</td>\n",
       "      <td>1</td>\n",
       "      <td>0</td>\n",
       "      <td>0</td>\n",
       "      <td>...</td>\n",
       "      <td>31.251233</td>\n",
       "      <td>286</td>\n",
       "      <td>0</td>\n",
       "      <td>6</td>\n",
       "      <td>argentina</td>\n",
       "      <td>south_america</td>\n",
       "      <td>southern_hemisphere</td>\n",
       "      <td>0</td>\n",
       "      <td>88</td>\n",
       "      <td>158</td>\n",
       "    </tr>\n",
       "    <tr>\n",
       "      <th>1</th>\n",
       "      <td>cze1114</td>\n",
       "      <td>21</td>\n",
       "      <td>male</td>\n",
       "      <td>389</td>\n",
       "      <td>98</td>\n",
       "      <td>1</td>\n",
       "      <td>1</td>\n",
       "      <td>1</td>\n",
       "      <td>1</td>\n",
       "      <td>1</td>\n",
       "      <td>...</td>\n",
       "      <td>27.194973</td>\n",
       "      <td>235</td>\n",
       "      <td>1</td>\n",
       "      <td>7</td>\n",
       "      <td>canada</td>\n",
       "      <td>north_america</td>\n",
       "      <td>northern_hemisphere</td>\n",
       "      <td>0</td>\n",
       "      <td>93</td>\n",
       "      <td>165</td>\n",
       "    </tr>\n",
       "    <tr>\n",
       "      <th>2</th>\n",
       "      <td>bni9906</td>\n",
       "      <td>21</td>\n",
       "      <td>female</td>\n",
       "      <td>324</td>\n",
       "      <td>72</td>\n",
       "      <td>1</td>\n",
       "      <td>0</td>\n",
       "      <td>0</td>\n",
       "      <td>0</td>\n",
       "      <td>0</td>\n",
       "      <td>...</td>\n",
       "      <td>28.176571</td>\n",
       "      <td>587</td>\n",
       "      <td>4</td>\n",
       "      <td>4</td>\n",
       "      <td>france</td>\n",
       "      <td>europe</td>\n",
       "      <td>northern_hemisphere</td>\n",
       "      <td>0</td>\n",
       "      <td>99</td>\n",
       "      <td>174</td>\n",
       "    </tr>\n",
       "    <tr>\n",
       "      <th>3</th>\n",
       "      <td>jln3497</td>\n",
       "      <td>84</td>\n",
       "      <td>male</td>\n",
       "      <td>383</td>\n",
       "      <td>73</td>\n",
       "      <td>1</td>\n",
       "      <td>1</td>\n",
       "      <td>1</td>\n",
       "      <td>0</td>\n",
       "      <td>1</td>\n",
       "      <td>...</td>\n",
       "      <td>36.464704</td>\n",
       "      <td>378</td>\n",
       "      <td>3</td>\n",
       "      <td>4</td>\n",
       "      <td>canada</td>\n",
       "      <td>north_america</td>\n",
       "      <td>northern_hemisphere</td>\n",
       "      <td>0</td>\n",
       "      <td>100</td>\n",
       "      <td>163</td>\n",
       "    </tr>\n",
       "    <tr>\n",
       "      <th>4</th>\n",
       "      <td>gfo8847</td>\n",
       "      <td>66</td>\n",
       "      <td>male</td>\n",
       "      <td>318</td>\n",
       "      <td>93</td>\n",
       "      <td>1</td>\n",
       "      <td>1</td>\n",
       "      <td>1</td>\n",
       "      <td>1</td>\n",
       "      <td>0</td>\n",
       "      <td>...</td>\n",
       "      <td>21.809144</td>\n",
       "      <td>231</td>\n",
       "      <td>1</td>\n",
       "      <td>5</td>\n",
       "      <td>thailand</td>\n",
       "      <td>asia</td>\n",
       "      <td>northern_hemisphere</td>\n",
       "      <td>0</td>\n",
       "      <td>88</td>\n",
       "      <td>91</td>\n",
       "    </tr>\n",
       "  </tbody>\n",
       "</table>\n",
       "<p>5 rows × 27 columns</p>\n",
       "</div>"
      ],
      "text/plain": [
       "  patient_id  age     sex  cholesterol  heart_rate  diabetes  family_history  \\\n",
       "0    bmw7812   67    male          208          72         0               0   \n",
       "1    cze1114   21    male          389          98         1               1   \n",
       "2    bni9906   21  female          324          72         1               0   \n",
       "3    jln3497   84    male          383          73         1               1   \n",
       "4    gfo8847   66    male          318          93         1               1   \n",
       "\n",
       "   smoking  obesity  alcohol_consumption  ...        bmi triglycerides  \\\n",
       "0        1        0                    0  ...  31.251233           286   \n",
       "1        1        1                    1  ...  27.194973           235   \n",
       "2        0        0                    0  ...  28.176571           587   \n",
       "3        1        0                    1  ...  36.464704           378   \n",
       "4        1        1                    0  ...  21.809144           231   \n",
       "\n",
       "   physical_activity_days_per_week  sleep_hours_per_day    country  \\\n",
       "0                                0                    6  argentina   \n",
       "1                                1                    7     canada   \n",
       "2                                4                    4     france   \n",
       "3                                3                    4     canada   \n",
       "4                                1                    5   thailand   \n",
       "\n",
       "       continent           hemisphere  heart_attack_risk  blood_pressure_min  \\\n",
       "0  south_america  southern_hemisphere                  0                  88   \n",
       "1  north_america  northern_hemisphere                  0                  93   \n",
       "2         europe  northern_hemisphere                  0                  99   \n",
       "3  north_america  northern_hemisphere                  0                 100   \n",
       "4           asia  northern_hemisphere                  0                  88   \n",
       "\n",
       "   blood_pressure_max  \n",
       "0                 158  \n",
       "1                 165  \n",
       "2                 174  \n",
       "3                 163  \n",
       "4                  91  \n",
       "\n",
       "[5 rows x 27 columns]"
      ]
     },
     "execution_count": 17,
     "metadata": {},
     "output_type": "execute_result"
    }
   ],
   "source": [
    "df.head()"
   ]
  },
  {
   "cell_type": "code",
   "execution_count": 18,
   "id": "7f097f8c",
   "metadata": {},
   "outputs": [
    {
     "data": {
      "text/plain": [
       "Index(['patient_id', 'sex', 'diet', 'country', 'continent', 'hemisphere'], dtype='object')"
      ]
     },
     "execution_count": 18,
     "metadata": {},
     "output_type": "execute_result"
    }
   ],
   "source": [
    "strings=df.dtypes[df.dtypes=='object'].index\n",
    "strings"
   ]
  },
  {
   "cell_type": "code",
   "execution_count": 19,
   "id": "72993b7b",
   "metadata": {},
   "outputs": [
    {
     "data": {
      "text/plain": [
       "healthy      2960\n",
       "average      2912\n",
       "unhealthy    2891\n",
       "Name: diet, dtype: int64"
      ]
     },
     "execution_count": 19,
     "metadata": {},
     "output_type": "execute_result"
    }
   ],
   "source": [
    "df.diet.value_counts()"
   ]
  },
  {
   "cell_type": "code",
   "execution_count": 20,
   "id": "409c69b0",
   "metadata": {},
   "outputs": [],
   "source": [
    "columns = df.columns"
   ]
  },
  {
   "cell_type": "code",
   "execution_count": 21,
   "id": "d1df34fd",
   "metadata": {},
   "outputs": [
    {
     "name": "stdout",
     "output_type": "stream",
     "text": [
      "patient_id\n",
      "['bmw7812' 'cze1114' 'bni9906' 'jln3497' 'gfo8847']\n",
      "8763\n",
      "\n",
      "age\n",
      "[67 21 84 66 54]\n",
      "73\n",
      "\n",
      "sex\n",
      "['male' 'female']\n",
      "2\n",
      "\n",
      "cholesterol\n",
      "[208 389 324 383 318]\n",
      "281\n",
      "\n",
      "heart_rate\n",
      "[72 98 73 93 48]\n",
      "71\n",
      "\n",
      "diabetes\n",
      "[0 1]\n",
      "2\n",
      "\n",
      "family_history\n",
      "[0 1]\n",
      "2\n",
      "\n",
      "smoking\n",
      "[1 0]\n",
      "2\n",
      "\n",
      "obesity\n",
      "[0 1]\n",
      "2\n",
      "\n",
      "alcohol_consumption\n",
      "[0 1]\n",
      "2\n",
      "\n",
      "exercise_hours_per_week\n",
      "[4.16818884 1.81324162 2.07835299 9.82812959 5.80429882]\n",
      "8763\n",
      "\n",
      "diet\n",
      "['average' 'unhealthy' 'healthy']\n",
      "3\n",
      "\n",
      "previous_heart_problems\n",
      "[0 1]\n",
      "2\n",
      "\n",
      "medication_use\n",
      "[0 1]\n",
      "2\n",
      "\n",
      "stress_level\n",
      "[9 1 6 2 7]\n",
      "10\n",
      "\n",
      "sedentary_hours_per_day\n",
      "[6.61500145 4.96345884 9.46342584 7.64898082 1.51482093]\n",
      "8763\n",
      "\n",
      "income\n",
      "[261404 285768 235282 125640 160555]\n",
      "8615\n",
      "\n",
      "bmi\n",
      "[31.25123273 27.19497335 28.17657068 36.46470429 21.80914418]\n",
      "8763\n",
      "\n",
      "triglycerides\n",
      "[286 235 587 378 231]\n",
      "771\n",
      "\n",
      "physical_activity_days_per_week\n",
      "[0 1 4 3 5]\n",
      "8\n",
      "\n",
      "sleep_hours_per_day\n",
      "[ 6  7  4  5 10]\n",
      "7\n",
      "\n",
      "country\n",
      "['argentina' 'canada' 'france' 'thailand' 'germany']\n",
      "20\n",
      "\n",
      "continent\n",
      "['south_america' 'north_america' 'europe' 'asia' 'africa']\n",
      "6\n",
      "\n",
      "hemisphere\n",
      "['southern_hemisphere' 'northern_hemisphere']\n",
      "2\n",
      "\n",
      "heart_attack_risk\n",
      "[0 1]\n",
      "2\n",
      "\n",
      "blood_pressure_min\n",
      "[ 88  93  99 100  86]\n",
      "51\n",
      "\n",
      "blood_pressure_max\n",
      "[158 165 174 163  91]\n",
      "91\n",
      "\n"
     ]
    }
   ],
   "source": [
    "for col in columns:\n",
    "    print(col)\n",
    "    print(df[col].unique()[:5])\n",
    "    print(df[col].nunique())\n",
    "    print()"
   ]
  },
  {
   "cell_type": "code",
   "execution_count": 22,
   "id": "2cb62f88",
   "metadata": {},
   "outputs": [
    {
     "data": {
      "text/plain": [
       "4"
      ]
     },
     "execution_count": 22,
     "metadata": {},
     "output_type": "execute_result"
    }
   ],
   "source": [
    "int(df['exercise_hours_per_week'][0])"
   ]
  },
  {
   "cell_type": "code",
   "execution_count": 23,
   "id": "267c9646",
   "metadata": {},
   "outputs": [],
   "source": [
    "exercise_hours_per_week = []\n",
    "sedentary_hours_per_day = []\n",
    "\n",
    "for i in range(0,len(df)): \n",
    "    exercise_hours_per_week.append(round(df['exercise_hours_per_week'][i]))\n",
    "    sedentary_hours_per_day.append(round(df['sedentary_hours_per_day'][i]))\n",
    "    \n",
    "df['exercise_hours_per_week'] = exercise_hours_per_week\n",
    "df['sedentary_hours_per_day'] = sedentary_hours_per_day"
   ]
  },
  {
   "cell_type": "code",
   "execution_count": 24,
   "id": "092be6cd",
   "metadata": {},
   "outputs": [
    {
     "name": "stdout",
     "output_type": "stream",
     "text": [
      "patient_id\n",
      "['bmw7812' 'cze1114' 'bni9906' 'jln3497' 'gfo8847']\n",
      "8763\n",
      "\n",
      "age\n",
      "[67 21 84 66 54]\n",
      "73\n",
      "\n",
      "sex\n",
      "['male' 'female']\n",
      "2\n",
      "\n",
      "cholesterol\n",
      "[208 389 324 383 318]\n",
      "281\n",
      "\n",
      "heart_rate\n",
      "[72 98 73 93 48]\n",
      "71\n",
      "\n",
      "diabetes\n",
      "[0 1]\n",
      "2\n",
      "\n",
      "family_history\n",
      "[0 1]\n",
      "2\n",
      "\n",
      "smoking\n",
      "[1 0]\n",
      "2\n",
      "\n",
      "obesity\n",
      "[0 1]\n",
      "2\n",
      "\n",
      "alcohol_consumption\n",
      "[0 1]\n",
      "2\n",
      "\n",
      "exercise_hours_per_week\n",
      "[ 4  2 10  6  1]\n",
      "21\n",
      "\n",
      "diet\n",
      "['average' 'unhealthy' 'healthy']\n",
      "3\n",
      "\n",
      "previous_heart_problems\n",
      "[0 1]\n",
      "2\n",
      "\n",
      "medication_use\n",
      "[0 1]\n",
      "2\n",
      "\n",
      "stress_level\n",
      "[9 1 6 2 7]\n",
      "10\n",
      "\n",
      "sedentary_hours_per_day\n",
      "[7 5 9 8 2]\n",
      "13\n",
      "\n",
      "income\n",
      "[261404 285768 235282 125640 160555]\n",
      "8615\n",
      "\n",
      "bmi\n",
      "[31.25123273 27.19497335 28.17657068 36.46470429 21.80914418]\n",
      "8763\n",
      "\n",
      "triglycerides\n",
      "[286 235 587 378 231]\n",
      "771\n",
      "\n",
      "physical_activity_days_per_week\n",
      "[0 1 4 3 5]\n",
      "8\n",
      "\n",
      "sleep_hours_per_day\n",
      "[ 6  7  4  5 10]\n",
      "7\n",
      "\n",
      "country\n",
      "['argentina' 'canada' 'france' 'thailand' 'germany']\n",
      "20\n",
      "\n",
      "continent\n",
      "['south_america' 'north_america' 'europe' 'asia' 'africa']\n",
      "6\n",
      "\n",
      "hemisphere\n",
      "['southern_hemisphere' 'northern_hemisphere']\n",
      "2\n",
      "\n",
      "heart_attack_risk\n",
      "[0 1]\n",
      "2\n",
      "\n",
      "blood_pressure_min\n",
      "[ 88  93  99 100  86]\n",
      "51\n",
      "\n",
      "blood_pressure_max\n",
      "[158 165 174 163  91]\n",
      "91\n",
      "\n"
     ]
    }
   ],
   "source": [
    "columns = df.columns\n",
    "for col in columns:\n",
    "    print(col)\n",
    "    print(df[col].unique()[:5])\n",
    "    print(df[col].nunique())\n",
    "    print()"
   ]
  },
  {
   "cell_type": "code",
   "execution_count": 25,
   "id": "a01110b7",
   "metadata": {},
   "outputs": [
    {
     "data": {
      "text/plain": [
       "199"
      ]
     },
     "execution_count": 25,
     "metadata": {},
     "output_type": "execute_result"
    }
   ],
   "source": [
    "int(df['income'][90]/1000)"
   ]
  },
  {
   "cell_type": "code",
   "execution_count": 26,
   "id": "f6efcdbc",
   "metadata": {},
   "outputs": [],
   "source": [
    "income_30k = []\n",
    "\n",
    "for i in range(0,len(df)): \n",
    "    income_30k.append(int(df['income'][i]/30000))\n",
    "    \n",
    "df['income_30k'] = income_30k"
   ]
  },
  {
   "cell_type": "code",
   "execution_count": 27,
   "id": "385c180c",
   "metadata": {},
   "outputs": [
    {
     "name": "stdout",
     "output_type": "stream",
     "text": [
      "patient_id\n",
      "['bmw7812' 'cze1114' 'bni9906' 'jln3497' 'gfo8847']\n",
      "8763\n",
      "\n",
      "age\n",
      "[67 21 84 66 54]\n",
      "73\n",
      "\n",
      "sex\n",
      "['male' 'female']\n",
      "2\n",
      "\n",
      "cholesterol\n",
      "[208 389 324 383 318]\n",
      "281\n",
      "\n",
      "heart_rate\n",
      "[72 98 73 93 48]\n",
      "71\n",
      "\n",
      "diabetes\n",
      "[0 1]\n",
      "2\n",
      "\n",
      "family_history\n",
      "[0 1]\n",
      "2\n",
      "\n",
      "smoking\n",
      "[1 0]\n",
      "2\n",
      "\n",
      "obesity\n",
      "[0 1]\n",
      "2\n",
      "\n",
      "alcohol_consumption\n",
      "[0 1]\n",
      "2\n",
      "\n",
      "exercise_hours_per_week\n",
      "[ 4  2 10  6  1]\n",
      "21\n",
      "\n",
      "diet\n",
      "['average' 'unhealthy' 'healthy']\n",
      "3\n",
      "\n",
      "previous_heart_problems\n",
      "[0 1]\n",
      "2\n",
      "\n",
      "medication_use\n",
      "[0 1]\n",
      "2\n",
      "\n",
      "stress_level\n",
      "[9 1 6 2 7]\n",
      "10\n",
      "\n",
      "sedentary_hours_per_day\n",
      "[7 5 9 8 2]\n",
      "13\n",
      "\n",
      "income\n",
      "[261404 285768 235282 125640 160555]\n",
      "8615\n",
      "\n",
      "bmi\n",
      "[31.25123273 27.19497335 28.17657068 36.46470429 21.80914418]\n",
      "8763\n",
      "\n",
      "triglycerides\n",
      "[286 235 587 378 231]\n",
      "771\n",
      "\n",
      "physical_activity_days_per_week\n",
      "[0 1 4 3 5]\n",
      "8\n",
      "\n",
      "sleep_hours_per_day\n",
      "[ 6  7  4  5 10]\n",
      "7\n",
      "\n",
      "country\n",
      "['argentina' 'canada' 'france' 'thailand' 'germany']\n",
      "20\n",
      "\n",
      "continent\n",
      "['south_america' 'north_america' 'europe' 'asia' 'africa']\n",
      "6\n",
      "\n",
      "hemisphere\n",
      "['southern_hemisphere' 'northern_hemisphere']\n",
      "2\n",
      "\n",
      "heart_attack_risk\n",
      "[0 1]\n",
      "2\n",
      "\n",
      "blood_pressure_min\n",
      "[ 88  93  99 100  86]\n",
      "51\n",
      "\n",
      "blood_pressure_max\n",
      "[158 165 174 163  91]\n",
      "91\n",
      "\n",
      "income_30k\n",
      "[8 9 7 4 5]\n",
      "10\n",
      "\n"
     ]
    }
   ],
   "source": [
    "columns = df.columns\n",
    "for col in columns:\n",
    "    print(col)\n",
    "    print(df[col].unique()[:5])\n",
    "    print(df[col].nunique())\n",
    "    print()"
   ]
  },
  {
   "cell_type": "code",
   "execution_count": 28,
   "id": "6d5abc8a",
   "metadata": {},
   "outputs": [
    {
     "data": {
      "text/plain": [
       "299954"
      ]
     },
     "execution_count": 28,
     "metadata": {},
     "output_type": "execute_result"
    }
   ],
   "source": [
    "df['income'].max()"
   ]
  },
  {
   "cell_type": "code",
   "execution_count": 29,
   "id": "c1374589",
   "metadata": {},
   "outputs": [],
   "source": [
    "del df['income']"
   ]
  },
  {
   "cell_type": "code",
   "execution_count": 30,
   "id": "8a8fe21d",
   "metadata": {},
   "outputs": [
    {
     "name": "stdout",
     "output_type": "stream",
     "text": [
      "patient_id\n",
      "['bmw7812' 'cze1114' 'bni9906' 'jln3497' 'gfo8847']\n",
      "8763\n",
      "\n",
      "age\n",
      "[67 21 84 66 54]\n",
      "73\n",
      "\n",
      "sex\n",
      "['male' 'female']\n",
      "2\n",
      "\n",
      "cholesterol\n",
      "[208 389 324 383 318]\n",
      "281\n",
      "\n",
      "heart_rate\n",
      "[72 98 73 93 48]\n",
      "71\n",
      "\n",
      "diabetes\n",
      "[0 1]\n",
      "2\n",
      "\n",
      "family_history\n",
      "[0 1]\n",
      "2\n",
      "\n",
      "smoking\n",
      "[1 0]\n",
      "2\n",
      "\n",
      "obesity\n",
      "[0 1]\n",
      "2\n",
      "\n",
      "alcohol_consumption\n",
      "[0 1]\n",
      "2\n",
      "\n",
      "exercise_hours_per_week\n",
      "[ 4  2 10  6  1]\n",
      "21\n",
      "\n",
      "diet\n",
      "['average' 'unhealthy' 'healthy']\n",
      "3\n",
      "\n",
      "previous_heart_problems\n",
      "[0 1]\n",
      "2\n",
      "\n",
      "medication_use\n",
      "[0 1]\n",
      "2\n",
      "\n",
      "stress_level\n",
      "[9 1 6 2 7]\n",
      "10\n",
      "\n",
      "sedentary_hours_per_day\n",
      "[7 5 9 8 2]\n",
      "13\n",
      "\n",
      "bmi\n",
      "[31.25123273 27.19497335 28.17657068 36.46470429 21.80914418]\n",
      "8763\n",
      "\n",
      "triglycerides\n",
      "[286 235 587 378 231]\n",
      "771\n",
      "\n",
      "physical_activity_days_per_week\n",
      "[0 1 4 3 5]\n",
      "8\n",
      "\n",
      "sleep_hours_per_day\n",
      "[ 6  7  4  5 10]\n",
      "7\n",
      "\n",
      "country\n",
      "['argentina' 'canada' 'france' 'thailand' 'germany']\n",
      "20\n",
      "\n",
      "continent\n",
      "['south_america' 'north_america' 'europe' 'asia' 'africa']\n",
      "6\n",
      "\n",
      "hemisphere\n",
      "['southern_hemisphere' 'northern_hemisphere']\n",
      "2\n",
      "\n",
      "heart_attack_risk\n",
      "[0 1]\n",
      "2\n",
      "\n",
      "blood_pressure_min\n",
      "[ 88  93  99 100  86]\n",
      "51\n",
      "\n",
      "blood_pressure_max\n",
      "[158 165 174 163  91]\n",
      "91\n",
      "\n",
      "income_30k\n",
      "[8 9 7 4 5]\n",
      "10\n",
      "\n"
     ]
    }
   ],
   "source": [
    "columns = df.columns\n",
    "for col in columns:\n",
    "    print(col)\n",
    "    print(df[col].unique()[:5])\n",
    "    print(df[col].nunique())\n",
    "    print()"
   ]
  },
  {
   "cell_type": "code",
   "execution_count": 31,
   "id": "c1f806a8",
   "metadata": {},
   "outputs": [
    {
     "data": {
      "text/plain": [
       "<Axes: xlabel='income_30k', ylabel='Count'>"
      ]
     },
     "execution_count": 31,
     "metadata": {},
     "output_type": "execute_result"
    },
    {
     "data": {
      "image/png": "[encoded data removed]",
      "text/plain": [
       "<Figure size 640x480 with 1 Axes>"
      ]
     },
     "metadata": {},
     "output_type": "display_data"
    }
   ],
   "source": [
    "sns.histplot(df.income_30k, bins=50)"
   ]
  },
  {
   "cell_type": "code",
   "execution_count": 32,
   "id": "bbd0ff40",
   "metadata": {
    "scrolled": true
   },
   "outputs": [
    {
     "data": {
      "text/plain": [
       "patient_id                         0\n",
       "age                                0\n",
       "sex                                0\n",
       "cholesterol                        0\n",
       "heart_rate                         0\n",
       "diabetes                           0\n",
       "family_history                     0\n",
       "smoking                            0\n",
       "obesity                            0\n",
       "alcohol_consumption                0\n",
       "exercise_hours_per_week            0\n",
       "diet                               0\n",
       "previous_heart_problems            0\n",
       "medication_use                     0\n",
       "stress_level                       0\n",
       "sedentary_hours_per_day            0\n",
       "bmi                                0\n",
       "triglycerides                      0\n",
       "physical_activity_days_per_week    0\n",
       "sleep_hours_per_day                0\n",
       "country                            0\n",
       "continent                          0\n",
       "hemisphere                         0\n",
       "heart_attack_risk                  0\n",
       "blood_pressure_min                 0\n",
       "blood_pressure_max                 0\n",
       "income_30k                         0\n",
       "dtype: int64"
      ]
     },
     "execution_count": 32,
     "metadata": {},
     "output_type": "execute_result"
    }
   ],
   "source": [
    "df.isnull().sum()"
   ]
  },
  {
   "cell_type": "code",
   "execution_count": 33,
   "id": "c2bfdf28",
   "metadata": {},
   "outputs": [
    {
     "data": {
      "text/plain": [
       "Index(['patient_id', 'sex', 'diet', 'country', 'continent', 'hemisphere'], dtype='object')"
      ]
     },
     "execution_count": 33,
     "metadata": {},
     "output_type": "execute_result"
    }
   ],
   "source": [
    "strings=df.dtypes[df.dtypes=='object'].index\n",
    "strings"
   ]
  },
  {
   "cell_type": "code",
   "execution_count": 34,
   "id": "2ee82cec",
   "metadata": {},
   "outputs": [
    {
     "data": {
      "text/plain": [
       "0       0\n",
       "1       1\n",
       "2       0\n",
       "3       1\n",
       "4       1\n",
       "       ..\n",
       "8758    1\n",
       "8759    0\n",
       "8760    1\n",
       "8761    0\n",
       "8762    1\n",
       "Name: family_history, Length: 8763, dtype: int64"
      ]
     },
     "execution_count": 34,
     "metadata": {},
     "output_type": "execute_result"
    }
   ],
   "source": [
    "df['family_history']"
   ]
  },
  {
   "cell_type": "code",
   "execution_count": 35,
   "id": "e6fe1e2d",
   "metadata": {},
   "outputs": [
    {
     "data": {
      "text/plain": [
       "(250, 248)"
      ]
     },
     "execution_count": 35,
     "metadata": {},
     "output_type": "execute_result"
    }
   ],
   "source": [
    "round(df['cholesterol'][9]/10)*10, df['cholesterol'][9]"
   ]
  },
  {
   "cell_type": "code",
   "execution_count": 36,
   "id": "2e0a3959",
   "metadata": {},
   "outputs": [
    {
     "data": {
      "text/plain": [
       "(22.2218617394038, 22.2, 22.0)"
      ]
     },
     "execution_count": 36,
     "metadata": {},
     "output_type": "execute_result"
    }
   ],
   "source": [
    "df['bmi'][7],df['bmi'][7].round(1),df['bmi'][7].round()"
   ]
  },
  {
   "cell_type": "code",
   "execution_count": 37,
   "id": "bde459a4",
   "metadata": {},
   "outputs": [],
   "source": [
    "cholesterol = []\n",
    "triglycerides = []\n",
    "bmi = []\n",
    "\n",
    "for i in range(0,len(df)): \n",
    "    cholesterol.append(round(df['cholesterol'][i]/10)*10)\n",
    "    triglycerides.append(round(df['triglycerides'][i]/10)*10)\n",
    "    bmi.append(int(df['bmi'][i].round()))\n",
    "    \n",
    "df['cholesterol'] = cholesterol\n",
    "df['triglycerides'] = cholesterol\n",
    "df['bmi']= bmi"
   ]
  },
  {
   "cell_type": "code",
   "execution_count": 38,
   "id": "25e131d0",
   "metadata": {},
   "outputs": [
    {
     "name": "stdout",
     "output_type": "stream",
     "text": [
      "patient_id\n",
      "['bmw7812' 'cze1114' 'bni9906' 'jln3497' 'gfo8847']\n",
      "8763\n",
      "\n",
      "age\n",
      "[67 21 84 66 54]\n",
      "73\n",
      "\n",
      "sex\n",
      "['male' 'female']\n",
      "2\n",
      "\n",
      "cholesterol\n",
      "[210 390 320 380 300]\n",
      "29\n",
      "\n",
      "heart_rate\n",
      "[72 98 73 93 48]\n",
      "71\n",
      "\n",
      "diabetes\n",
      "[0 1]\n",
      "2\n",
      "\n",
      "family_history\n",
      "[0 1]\n",
      "2\n",
      "\n",
      "smoking\n",
      "[1 0]\n",
      "2\n",
      "\n",
      "obesity\n",
      "[0 1]\n",
      "2\n",
      "\n",
      "alcohol_consumption\n",
      "[0 1]\n",
      "2\n",
      "\n",
      "exercise_hours_per_week\n",
      "[ 4  2 10  6  1]\n",
      "21\n",
      "\n",
      "diet\n",
      "['average' 'unhealthy' 'healthy']\n",
      "3\n",
      "\n",
      "previous_heart_problems\n",
      "[0 1]\n",
      "2\n",
      "\n",
      "medication_use\n",
      "[0 1]\n",
      "2\n",
      "\n",
      "stress_level\n",
      "[9 1 6 2 7]\n",
      "10\n",
      "\n",
      "sedentary_hours_per_day\n",
      "[7 5 9 8 2]\n",
      "13\n",
      "\n",
      "bmi\n",
      "[31 27 28 36 22]\n",
      "23\n",
      "\n",
      "triglycerides\n",
      "[210 390 320 380 300]\n",
      "29\n",
      "\n",
      "physical_activity_days_per_week\n",
      "[0 1 4 3 5]\n",
      "8\n",
      "\n",
      "sleep_hours_per_day\n",
      "[ 6  7  4  5 10]\n",
      "7\n",
      "\n",
      "country\n",
      "['argentina' 'canada' 'france' 'thailand' 'germany']\n",
      "20\n",
      "\n",
      "continent\n",
      "['south_america' 'north_america' 'europe' 'asia' 'africa']\n",
      "6\n",
      "\n",
      "hemisphere\n",
      "['southern_hemisphere' 'northern_hemisphere']\n",
      "2\n",
      "\n",
      "heart_attack_risk\n",
      "[0 1]\n",
      "2\n",
      "\n",
      "blood_pressure_min\n",
      "[ 88  93  99 100  86]\n",
      "51\n",
      "\n",
      "blood_pressure_max\n",
      "[158 165 174 163  91]\n",
      "91\n",
      "\n",
      "income_30k\n",
      "[8 9 7 4 5]\n",
      "10\n",
      "\n"
     ]
    }
   ],
   "source": [
    "columns = df.columns\n",
    "for col in columns:\n",
    "    print(col)\n",
    "    print(df[col].unique()[:5])\n",
    "    print(df[col].nunique())\n",
    "    print()"
   ]
  },
  {
   "cell_type": "code",
   "execution_count": 39,
   "id": "6ff9f0cf",
   "metadata": {},
   "outputs": [
    {
     "data": {
      "text/plain": [
       "patient_id                         object\n",
       "age                                 int64\n",
       "sex                                object\n",
       "cholesterol                         int64\n",
       "heart_rate                          int64\n",
       "diabetes                            int64\n",
       "family_history                      int64\n",
       "smoking                             int64\n",
       "obesity                             int64\n",
       "alcohol_consumption                 int64\n",
       "exercise_hours_per_week             int64\n",
       "diet                               object\n",
       "previous_heart_problems             int64\n",
       "medication_use                      int64\n",
       "stress_level                        int64\n",
       "sedentary_hours_per_day             int64\n",
       "bmi                                 int64\n",
       "triglycerides                       int64\n",
       "physical_activity_days_per_week     int64\n",
       "sleep_hours_per_day                 int64\n",
       "country                            object\n",
       "continent                          object\n",
       "hemisphere                         object\n",
       "heart_attack_risk                   int64\n",
       "blood_pressure_min                  int64\n",
       "blood_pressure_max                  int64\n",
       "income_30k                          int64\n",
       "dtype: object"
      ]
     },
     "execution_count": 39,
     "metadata": {},
     "output_type": "execute_result"
    }
   ],
   "source": [
    "df.dtypes"
   ]
  },
  {
   "cell_type": "code",
   "execution_count": 40,
   "id": "91522ac1",
   "metadata": {},
   "outputs": [
    {
     "data": {
      "text/html": [
       "<div>\n",
       "<style scoped>\n",
       "    .dataframe tbody tr th:only-of-type {\n",
       "        vertical-align: middle;\n",
       "    }\n",
       "\n",
       "    .dataframe tbody tr th {\n",
       "        vertical-align: top;\n",
       "    }\n",
       "\n",
       "    .dataframe thead th {\n",
       "        text-align: right;\n",
       "    }\n",
       "</style>\n",
       "<table border=\"1\" class=\"dataframe\">\n",
       "  <thead>\n",
       "    <tr style=\"text-align: right;\">\n",
       "      <th></th>\n",
       "      <th>0</th>\n",
       "      <th>1</th>\n",
       "      <th>2</th>\n",
       "      <th>3</th>\n",
       "      <th>4</th>\n",
       "      <th>5</th>\n",
       "      <th>6</th>\n",
       "      <th>7</th>\n",
       "      <th>8</th>\n",
       "      <th>9</th>\n",
       "      <th>...</th>\n",
       "      <th>8753</th>\n",
       "      <th>8754</th>\n",
       "      <th>8755</th>\n",
       "      <th>8756</th>\n",
       "      <th>8757</th>\n",
       "      <th>8758</th>\n",
       "      <th>8759</th>\n",
       "      <th>8760</th>\n",
       "      <th>8761</th>\n",
       "      <th>8762</th>\n",
       "    </tr>\n",
       "  </thead>\n",
       "  <tbody>\n",
       "    <tr>\n",
       "      <th>patient_id</th>\n",
       "      <td>bmw7812</td>\n",
       "      <td>cze1114</td>\n",
       "      <td>bni9906</td>\n",
       "      <td>jln3497</td>\n",
       "      <td>gfo8847</td>\n",
       "      <td>zoo7941</td>\n",
       "      <td>wyv0966</td>\n",
       "      <td>xxm0972</td>\n",
       "      <td>xcq5937</td>\n",
       "      <td>ftj5456</td>\n",
       "      <td>...</td>\n",
       "      <td>nvc8704</td>\n",
       "      <td>lzm3606</td>\n",
       "      <td>kqr8949</td>\n",
       "      <td>bue0416</td>\n",
       "      <td>ydx2478</td>\n",
       "      <td>msv9918</td>\n",
       "      <td>qsv6764</td>\n",
       "      <td>xka5925</td>\n",
       "      <td>epe6801</td>\n",
       "      <td>zwn9666</td>\n",
       "    </tr>\n",
       "    <tr>\n",
       "      <th>age</th>\n",
       "      <td>67</td>\n",
       "      <td>21</td>\n",
       "      <td>21</td>\n",
       "      <td>84</td>\n",
       "      <td>66</td>\n",
       "      <td>54</td>\n",
       "      <td>90</td>\n",
       "      <td>84</td>\n",
       "      <td>20</td>\n",
       "      <td>43</td>\n",
       "      <td>...</td>\n",
       "      <td>82</td>\n",
       "      <td>80</td>\n",
       "      <td>25</td>\n",
       "      <td>22</td>\n",
       "      <td>59</td>\n",
       "      <td>60</td>\n",
       "      <td>28</td>\n",
       "      <td>47</td>\n",
       "      <td>36</td>\n",
       "      <td>25</td>\n",
       "    </tr>\n",
       "    <tr>\n",
       "      <th>sex</th>\n",
       "      <td>male</td>\n",
       "      <td>male</td>\n",
       "      <td>female</td>\n",
       "      <td>male</td>\n",
       "      <td>male</td>\n",
       "      <td>female</td>\n",
       "      <td>male</td>\n",
       "      <td>male</td>\n",
       "      <td>male</td>\n",
       "      <td>female</td>\n",
       "      <td>...</td>\n",
       "      <td>male</td>\n",
       "      <td>female</td>\n",
       "      <td>male</td>\n",
       "      <td>male</td>\n",
       "      <td>female</td>\n",
       "      <td>male</td>\n",
       "      <td>female</td>\n",
       "      <td>male</td>\n",
       "      <td>male</td>\n",
       "      <td>female</td>\n",
       "    </tr>\n",
       "    <tr>\n",
       "      <th>cholesterol</th>\n",
       "      <td>210</td>\n",
       "      <td>390</td>\n",
       "      <td>320</td>\n",
       "      <td>380</td>\n",
       "      <td>320</td>\n",
       "      <td>300</td>\n",
       "      <td>360</td>\n",
       "      <td>220</td>\n",
       "      <td>140</td>\n",
       "      <td>250</td>\n",
       "      <td>...</td>\n",
       "      <td>310</td>\n",
       "      <td>380</td>\n",
       "      <td>310</td>\n",
       "      <td>350</td>\n",
       "      <td>380</td>\n",
       "      <td>120</td>\n",
       "      <td>120</td>\n",
       "      <td>250</td>\n",
       "      <td>180</td>\n",
       "      <td>360</td>\n",
       "    </tr>\n",
       "    <tr>\n",
       "      <th>heart_rate</th>\n",
       "      <td>72</td>\n",
       "      <td>98</td>\n",
       "      <td>72</td>\n",
       "      <td>73</td>\n",
       "      <td>93</td>\n",
       "      <td>48</td>\n",
       "      <td>84</td>\n",
       "      <td>107</td>\n",
       "      <td>68</td>\n",
       "      <td>55</td>\n",
       "      <td>...</td>\n",
       "      <td>87</td>\n",
       "      <td>91</td>\n",
       "      <td>78</td>\n",
       "      <td>108</td>\n",
       "      <td>99</td>\n",
       "      <td>61</td>\n",
       "      <td>73</td>\n",
       "      <td>105</td>\n",
       "      <td>60</td>\n",
       "      <td>75</td>\n",
       "    </tr>\n",
       "    <tr>\n",
       "      <th>diabetes</th>\n",
       "      <td>0</td>\n",
       "      <td>1</td>\n",
       "      <td>1</td>\n",
       "      <td>1</td>\n",
       "      <td>1</td>\n",
       "      <td>1</td>\n",
       "      <td>0</td>\n",
       "      <td>0</td>\n",
       "      <td>1</td>\n",
       "      <td>0</td>\n",
       "      <td>...</td>\n",
       "      <td>0</td>\n",
       "      <td>1</td>\n",
       "      <td>0</td>\n",
       "      <td>0</td>\n",
       "      <td>0</td>\n",
       "      <td>1</td>\n",
       "      <td>1</td>\n",
       "      <td>0</td>\n",
       "      <td>1</td>\n",
       "      <td>1</td>\n",
       "    </tr>\n",
       "    <tr>\n",
       "      <th>family_history</th>\n",
       "      <td>0</td>\n",
       "      <td>1</td>\n",
       "      <td>0</td>\n",
       "      <td>1</td>\n",
       "      <td>1</td>\n",
       "      <td>1</td>\n",
       "      <td>0</td>\n",
       "      <td>0</td>\n",
       "      <td>0</td>\n",
       "      <td>1</td>\n",
       "      <td>...</td>\n",
       "      <td>1</td>\n",
       "      <td>1</td>\n",
       "      <td>1</td>\n",
       "      <td>1</td>\n",
       "      <td>1</td>\n",
       "      <td>1</td>\n",
       "      <td>0</td>\n",
       "      <td>1</td>\n",
       "      <td>0</td>\n",
       "      <td>1</td>\n",
       "    </tr>\n",
       "    <tr>\n",
       "      <th>smoking</th>\n",
       "      <td>1</td>\n",
       "      <td>1</td>\n",
       "      <td>0</td>\n",
       "      <td>1</td>\n",
       "      <td>1</td>\n",
       "      <td>1</td>\n",
       "      <td>1</td>\n",
       "      <td>1</td>\n",
       "      <td>1</td>\n",
       "      <td>1</td>\n",
       "      <td>...</td>\n",
       "      <td>1</td>\n",
       "      <td>1</td>\n",
       "      <td>1</td>\n",
       "      <td>1</td>\n",
       "      <td>1</td>\n",
       "      <td>1</td>\n",
       "      <td>0</td>\n",
       "      <td>1</td>\n",
       "      <td>1</td>\n",
       "      <td>0</td>\n",
       "    </tr>\n",
       "    <tr>\n",
       "      <th>obesity</th>\n",
       "      <td>0</td>\n",
       "      <td>1</td>\n",
       "      <td>0</td>\n",
       "      <td>0</td>\n",
       "      <td>1</td>\n",
       "      <td>0</td>\n",
       "      <td>0</td>\n",
       "      <td>1</td>\n",
       "      <td>1</td>\n",
       "      <td>1</td>\n",
       "      <td>...</td>\n",
       "      <td>1</td>\n",
       "      <td>0</td>\n",
       "      <td>0</td>\n",
       "      <td>0</td>\n",
       "      <td>1</td>\n",
       "      <td>0</td>\n",
       "      <td>1</td>\n",
       "      <td>1</td>\n",
       "      <td>0</td>\n",
       "      <td>0</td>\n",
       "    </tr>\n",
       "    <tr>\n",
       "      <th>alcohol_consumption</th>\n",
       "      <td>0</td>\n",
       "      <td>1</td>\n",
       "      <td>0</td>\n",
       "      <td>1</td>\n",
       "      <td>0</td>\n",
       "      <td>1</td>\n",
       "      <td>1</td>\n",
       "      <td>1</td>\n",
       "      <td>0</td>\n",
       "      <td>1</td>\n",
       "      <td>...</td>\n",
       "      <td>1</td>\n",
       "      <td>1</td>\n",
       "      <td>1</td>\n",
       "      <td>1</td>\n",
       "      <td>0</td>\n",
       "      <td>1</td>\n",
       "      <td>0</td>\n",
       "      <td>1</td>\n",
       "      <td>0</td>\n",
       "      <td>1</td>\n",
       "    </tr>\n",
       "    <tr>\n",
       "      <th>exercise_hours_per_week</th>\n",
       "      <td>4</td>\n",
       "      <td>2</td>\n",
       "      <td>2</td>\n",
       "      <td>10</td>\n",
       "      <td>6</td>\n",
       "      <td>1</td>\n",
       "      <td>4</td>\n",
       "      <td>3</td>\n",
       "      <td>17</td>\n",
       "      <td>0</td>\n",
       "      <td>...</td>\n",
       "      <td>8</td>\n",
       "      <td>6</td>\n",
       "      <td>3</td>\n",
       "      <td>4</td>\n",
       "      <td>2</td>\n",
       "      <td>8</td>\n",
       "      <td>17</td>\n",
       "      <td>3</td>\n",
       "      <td>4</td>\n",
       "      <td>18</td>\n",
       "    </tr>\n",
       "    <tr>\n",
       "      <th>diet</th>\n",
       "      <td>average</td>\n",
       "      <td>unhealthy</td>\n",
       "      <td>healthy</td>\n",
       "      <td>average</td>\n",
       "      <td>unhealthy</td>\n",
       "      <td>unhealthy</td>\n",
       "      <td>healthy</td>\n",
       "      <td>average</td>\n",
       "      <td>average</td>\n",
       "      <td>unhealthy</td>\n",
       "      <td>...</td>\n",
       "      <td>unhealthy</td>\n",
       "      <td>healthy</td>\n",
       "      <td>average</td>\n",
       "      <td>healthy</td>\n",
       "      <td>healthy</td>\n",
       "      <td>healthy</td>\n",
       "      <td>healthy</td>\n",
       "      <td>average</td>\n",
       "      <td>unhealthy</td>\n",
       "      <td>healthy</td>\n",
       "    </tr>\n",
       "    <tr>\n",
       "      <th>previous_heart_problems</th>\n",
       "      <td>0</td>\n",
       "      <td>1</td>\n",
       "      <td>1</td>\n",
       "      <td>1</td>\n",
       "      <td>1</td>\n",
       "      <td>1</td>\n",
       "      <td>0</td>\n",
       "      <td>0</td>\n",
       "      <td>0</td>\n",
       "      <td>0</td>\n",
       "      <td>...</td>\n",
       "      <td>1</td>\n",
       "      <td>1</td>\n",
       "      <td>0</td>\n",
       "      <td>1</td>\n",
       "      <td>0</td>\n",
       "      <td>1</td>\n",
       "      <td>0</td>\n",
       "      <td>1</td>\n",
       "      <td>1</td>\n",
       "      <td>0</td>\n",
       "    </tr>\n",
       "    <tr>\n",
       "      <th>medication_use</th>\n",
       "      <td>0</td>\n",
       "      <td>0</td>\n",
       "      <td>1</td>\n",
       "      <td>0</td>\n",
       "      <td>0</td>\n",
       "      <td>1</td>\n",
       "      <td>0</td>\n",
       "      <td>1</td>\n",
       "      <td>0</td>\n",
       "      <td>0</td>\n",
       "      <td>...</td>\n",
       "      <td>0</td>\n",
       "      <td>1</td>\n",
       "      <td>0</td>\n",
       "      <td>1</td>\n",
       "      <td>0</td>\n",
       "      <td>1</td>\n",
       "      <td>0</td>\n",
       "      <td>0</td>\n",
       "      <td>1</td>\n",
       "      <td>0</td>\n",
       "    </tr>\n",
       "    <tr>\n",
       "      <th>stress_level</th>\n",
       "      <td>9</td>\n",
       "      <td>1</td>\n",
       "      <td>9</td>\n",
       "      <td>9</td>\n",
       "      <td>6</td>\n",
       "      <td>2</td>\n",
       "      <td>7</td>\n",
       "      <td>4</td>\n",
       "      <td>5</td>\n",
       "      <td>4</td>\n",
       "      <td>...</td>\n",
       "      <td>7</td>\n",
       "      <td>3</td>\n",
       "      <td>3</td>\n",
       "      <td>1</td>\n",
       "      <td>4</td>\n",
       "      <td>8</td>\n",
       "      <td>8</td>\n",
       "      <td>5</td>\n",
       "      <td>5</td>\n",
       "      <td>8</td>\n",
       "    </tr>\n",
       "    <tr>\n",
       "      <th>sedentary_hours_per_day</th>\n",
       "      <td>7</td>\n",
       "      <td>5</td>\n",
       "      <td>9</td>\n",
       "      <td>8</td>\n",
       "      <td>2</td>\n",
       "      <td>8</td>\n",
       "      <td>1</td>\n",
       "      <td>11</td>\n",
       "      <td>11</td>\n",
       "      <td>4</td>\n",
       "      <td>...</td>\n",
       "      <td>8</td>\n",
       "      <td>8</td>\n",
       "      <td>11</td>\n",
       "      <td>7</td>\n",
       "      <td>7</td>\n",
       "      <td>11</td>\n",
       "      <td>4</td>\n",
       "      <td>2</td>\n",
       "      <td>0</td>\n",
       "      <td>9</td>\n",
       "    </tr>\n",
       "    <tr>\n",
       "      <th>bmi</th>\n",
       "      <td>31</td>\n",
       "      <td>27</td>\n",
       "      <td>28</td>\n",
       "      <td>36</td>\n",
       "      <td>22</td>\n",
       "      <td>20</td>\n",
       "      <td>29</td>\n",
       "      <td>22</td>\n",
       "      <td>36</td>\n",
       "      <td>23</td>\n",
       "      <td>...</td>\n",
       "      <td>28</td>\n",
       "      <td>20</td>\n",
       "      <td>33</td>\n",
       "      <td>20</td>\n",
       "      <td>40</td>\n",
       "      <td>20</td>\n",
       "      <td>24</td>\n",
       "      <td>35</td>\n",
       "      <td>27</td>\n",
       "      <td>33</td>\n",
       "    </tr>\n",
       "    <tr>\n",
       "      <th>triglycerides</th>\n",
       "      <td>210</td>\n",
       "      <td>390</td>\n",
       "      <td>320</td>\n",
       "      <td>380</td>\n",
       "      <td>320</td>\n",
       "      <td>300</td>\n",
       "      <td>360</td>\n",
       "      <td>220</td>\n",
       "      <td>140</td>\n",
       "      <td>250</td>\n",
       "      <td>...</td>\n",
       "      <td>310</td>\n",
       "      <td>380</td>\n",
       "      <td>310</td>\n",
       "      <td>350</td>\n",
       "      <td>380</td>\n",
       "      <td>120</td>\n",
       "      <td>120</td>\n",
       "      <td>250</td>\n",
       "      <td>180</td>\n",
       "      <td>360</td>\n",
       "    </tr>\n",
       "    <tr>\n",
       "      <th>physical_activity_days_per_week</th>\n",
       "      <td>0</td>\n",
       "      <td>1</td>\n",
       "      <td>4</td>\n",
       "      <td>3</td>\n",
       "      <td>1</td>\n",
       "      <td>5</td>\n",
       "      <td>4</td>\n",
       "      <td>6</td>\n",
       "      <td>7</td>\n",
       "      <td>7</td>\n",
       "      <td>...</td>\n",
       "      <td>1</td>\n",
       "      <td>3</td>\n",
       "      <td>7</td>\n",
       "      <td>2</td>\n",
       "      <td>1</td>\n",
       "      <td>7</td>\n",
       "      <td>4</td>\n",
       "      <td>4</td>\n",
       "      <td>2</td>\n",
       "      <td>7</td>\n",
       "    </tr>\n",
       "    <tr>\n",
       "      <th>sleep_hours_per_day</th>\n",
       "      <td>6</td>\n",
       "      <td>7</td>\n",
       "      <td>4</td>\n",
       "      <td>4</td>\n",
       "      <td>5</td>\n",
       "      <td>10</td>\n",
       "      <td>10</td>\n",
       "      <td>7</td>\n",
       "      <td>4</td>\n",
       "      <td>7</td>\n",
       "      <td>...</td>\n",
       "      <td>5</td>\n",
       "      <td>4</td>\n",
       "      <td>5</td>\n",
       "      <td>9</td>\n",
       "      <td>9</td>\n",
       "      <td>7</td>\n",
       "      <td>9</td>\n",
       "      <td>4</td>\n",
       "      <td>8</td>\n",
       "      <td>4</td>\n",
       "    </tr>\n",
       "    <tr>\n",
       "      <th>country</th>\n",
       "      <td>argentina</td>\n",
       "      <td>canada</td>\n",
       "      <td>france</td>\n",
       "      <td>canada</td>\n",
       "      <td>thailand</td>\n",
       "      <td>germany</td>\n",
       "      <td>canada</td>\n",
       "      <td>japan</td>\n",
       "      <td>brazil</td>\n",
       "      <td>japan</td>\n",
       "      <td>...</td>\n",
       "      <td>australia</td>\n",
       "      <td>argentina</td>\n",
       "      <td>spain</td>\n",
       "      <td>canada</td>\n",
       "      <td>china</td>\n",
       "      <td>thailand</td>\n",
       "      <td>canada</td>\n",
       "      <td>brazil</td>\n",
       "      <td>brazil</td>\n",
       "      <td>united_kingdom</td>\n",
       "    </tr>\n",
       "    <tr>\n",
       "      <th>continent</th>\n",
       "      <td>south_america</td>\n",
       "      <td>north_america</td>\n",
       "      <td>europe</td>\n",
       "      <td>north_america</td>\n",
       "      <td>asia</td>\n",
       "      <td>europe</td>\n",
       "      <td>north_america</td>\n",
       "      <td>asia</td>\n",
       "      <td>south_america</td>\n",
       "      <td>asia</td>\n",
       "      <td>...</td>\n",
       "      <td>australia</td>\n",
       "      <td>south_america</td>\n",
       "      <td>europe</td>\n",
       "      <td>north_america</td>\n",
       "      <td>asia</td>\n",
       "      <td>asia</td>\n",
       "      <td>north_america</td>\n",
       "      <td>south_america</td>\n",
       "      <td>south_america</td>\n",
       "      <td>europe</td>\n",
       "    </tr>\n",
       "    <tr>\n",
       "      <th>hemisphere</th>\n",
       "      <td>southern_hemisphere</td>\n",
       "      <td>northern_hemisphere</td>\n",
       "      <td>northern_hemisphere</td>\n",
       "      <td>northern_hemisphere</td>\n",
       "      <td>northern_hemisphere</td>\n",
       "      <td>northern_hemisphere</td>\n",
       "      <td>northern_hemisphere</td>\n",
       "      <td>northern_hemisphere</td>\n",
       "      <td>southern_hemisphere</td>\n",
       "      <td>northern_hemisphere</td>\n",
       "      <td>...</td>\n",
       "      <td>southern_hemisphere</td>\n",
       "      <td>southern_hemisphere</td>\n",
       "      <td>southern_hemisphere</td>\n",
       "      <td>northern_hemisphere</td>\n",
       "      <td>northern_hemisphere</td>\n",
       "      <td>northern_hemisphere</td>\n",
       "      <td>northern_hemisphere</td>\n",
       "      <td>southern_hemisphere</td>\n",
       "      <td>southern_hemisphere</td>\n",
       "      <td>northern_hemisphere</td>\n",
       "    </tr>\n",
       "    <tr>\n",
       "      <th>heart_attack_risk</th>\n",
       "      <td>0</td>\n",
       "      <td>0</td>\n",
       "      <td>0</td>\n",
       "      <td>0</td>\n",
       "      <td>0</td>\n",
       "      <td>1</td>\n",
       "      <td>1</td>\n",
       "      <td>1</td>\n",
       "      <td>0</td>\n",
       "      <td>0</td>\n",
       "      <td>...</td>\n",
       "      <td>1</td>\n",
       "      <td>1</td>\n",
       "      <td>0</td>\n",
       "      <td>1</td>\n",
       "      <td>0</td>\n",
       "      <td>0</td>\n",
       "      <td>0</td>\n",
       "      <td>1</td>\n",
       "      <td>0</td>\n",
       "      <td>1</td>\n",
       "    </tr>\n",
       "    <tr>\n",
       "      <th>blood_pressure_min</th>\n",
       "      <td>88</td>\n",
       "      <td>93</td>\n",
       "      <td>99</td>\n",
       "      <td>100</td>\n",
       "      <td>88</td>\n",
       "      <td>86</td>\n",
       "      <td>73</td>\n",
       "      <td>68</td>\n",
       "      <td>105</td>\n",
       "      <td>70</td>\n",
       "      <td>...</td>\n",
       "      <td>108</td>\n",
       "      <td>96</td>\n",
       "      <td>94</td>\n",
       "      <td>87</td>\n",
       "      <td>78</td>\n",
       "      <td>76</td>\n",
       "      <td>102</td>\n",
       "      <td>75</td>\n",
       "      <td>67</td>\n",
       "      <td>67</td>\n",
       "    </tr>\n",
       "    <tr>\n",
       "      <th>blood_pressure_max</th>\n",
       "      <td>158</td>\n",
       "      <td>165</td>\n",
       "      <td>174</td>\n",
       "      <td>163</td>\n",
       "      <td>91</td>\n",
       "      <td>172</td>\n",
       "      <td>102</td>\n",
       "      <td>131</td>\n",
       "      <td>144</td>\n",
       "      <td>160</td>\n",
       "      <td>...</td>\n",
       "      <td>126</td>\n",
       "      <td>153</td>\n",
       "      <td>137</td>\n",
       "      <td>115</td>\n",
       "      <td>93</td>\n",
       "      <td>94</td>\n",
       "      <td>157</td>\n",
       "      <td>161</td>\n",
       "      <td>119</td>\n",
       "      <td>138</td>\n",
       "    </tr>\n",
       "    <tr>\n",
       "      <th>income_30k</th>\n",
       "      <td>8</td>\n",
       "      <td>9</td>\n",
       "      <td>7</td>\n",
       "      <td>4</td>\n",
       "      <td>5</td>\n",
       "      <td>8</td>\n",
       "      <td>6</td>\n",
       "      <td>4</td>\n",
       "      <td>0</td>\n",
       "      <td>6</td>\n",
       "      <td>...</td>\n",
       "      <td>4</td>\n",
       "      <td>3</td>\n",
       "      <td>2</td>\n",
       "      <td>7</td>\n",
       "      <td>2</td>\n",
       "      <td>7</td>\n",
       "      <td>7</td>\n",
       "      <td>1</td>\n",
       "      <td>6</td>\n",
       "      <td>8</td>\n",
       "    </tr>\n",
       "  </tbody>\n",
       "</table>\n",
       "<p>27 rows × 8763 columns</p>\n",
       "</div>"
      ],
      "text/plain": [
       "                                                0                    1     \\\n",
       "patient_id                                   bmw7812              cze1114   \n",
       "age                                               67                   21   \n",
       "sex                                             male                 male   \n",
       "cholesterol                                      210                  390   \n",
       "heart_rate                                        72                   98   \n",
       "diabetes                                           0                    1   \n",
       "family_history                                     0                    1   \n",
       "smoking                                            1                    1   \n",
       "obesity                                            0                    1   \n",
       "alcohol_consumption                                0                    1   \n",
       "exercise_hours_per_week                            4                    2   \n",
       "diet                                         average            unhealthy   \n",
       "previous_heart_problems                            0                    1   \n",
       "medication_use                                     0                    0   \n",
       "stress_level                                       9                    1   \n",
       "sedentary_hours_per_day                            7                    5   \n",
       "bmi                                               31                   27   \n",
       "triglycerides                                    210                  390   \n",
       "physical_activity_days_per_week                    0                    1   \n",
       "sleep_hours_per_day                                6                    7   \n",
       "country                                    argentina               canada   \n",
       "continent                              south_america        north_america   \n",
       "hemisphere                       southern_hemisphere  northern_hemisphere   \n",
       "heart_attack_risk                                  0                    0   \n",
       "blood_pressure_min                                88                   93   \n",
       "blood_pressure_max                               158                  165   \n",
       "income_30k                                         8                    9   \n",
       "\n",
       "                                                2                    3     \\\n",
       "patient_id                                   bni9906              jln3497   \n",
       "age                                               21                   84   \n",
       "sex                                           female                 male   \n",
       "cholesterol                                      320                  380   \n",
       "heart_rate                                        72                   73   \n",
       "diabetes                                           1                    1   \n",
       "family_history                                     0                    1   \n",
       "smoking                                            0                    1   \n",
       "obesity                                            0                    0   \n",
       "alcohol_consumption                                0                    1   \n",
       "exercise_hours_per_week                            2                   10   \n",
       "diet                                         healthy              average   \n",
       "previous_heart_problems                            1                    1   \n",
       "medication_use                                     1                    0   \n",
       "stress_level                                       9                    9   \n",
       "sedentary_hours_per_day                            9                    8   \n",
       "bmi                                               28                   36   \n",
       "triglycerides                                    320                  380   \n",
       "physical_activity_days_per_week                    4                    3   \n",
       "sleep_hours_per_day                                4                    4   \n",
       "country                                       france               canada   \n",
       "continent                                     europe        north_america   \n",
       "hemisphere                       northern_hemisphere  northern_hemisphere   \n",
       "heart_attack_risk                                  0                    0   \n",
       "blood_pressure_min                                99                  100   \n",
       "blood_pressure_max                               174                  163   \n",
       "income_30k                                         7                    4   \n",
       "\n",
       "                                                4                    5     \\\n",
       "patient_id                                   gfo8847              zoo7941   \n",
       "age                                               66                   54   \n",
       "sex                                             male               female   \n",
       "cholesterol                                      320                  300   \n",
       "heart_rate                                        93                   48   \n",
       "diabetes                                           1                    1   \n",
       "family_history                                     1                    1   \n",
       "smoking                                            1                    1   \n",
       "obesity                                            1                    0   \n",
       "alcohol_consumption                                0                    1   \n",
       "exercise_hours_per_week                            6                    1   \n",
       "diet                                       unhealthy            unhealthy   \n",
       "previous_heart_problems                            1                    1   \n",
       "medication_use                                     0                    1   \n",
       "stress_level                                       6                    2   \n",
       "sedentary_hours_per_day                            2                    8   \n",
       "bmi                                               22                   20   \n",
       "triglycerides                                    320                  300   \n",
       "physical_activity_days_per_week                    1                    5   \n",
       "sleep_hours_per_day                                5                   10   \n",
       "country                                     thailand              germany   \n",
       "continent                                       asia               europe   \n",
       "hemisphere                       northern_hemisphere  northern_hemisphere   \n",
       "heart_attack_risk                                  0                    1   \n",
       "blood_pressure_min                                88                   86   \n",
       "blood_pressure_max                                91                  172   \n",
       "income_30k                                         5                    8   \n",
       "\n",
       "                                                6                    7     \\\n",
       "patient_id                                   wyv0966              xxm0972   \n",
       "age                                               90                   84   \n",
       "sex                                             male                 male   \n",
       "cholesterol                                      360                  220   \n",
       "heart_rate                                        84                  107   \n",
       "diabetes                                           0                    0   \n",
       "family_history                                     0                    0   \n",
       "smoking                                            1                    1   \n",
       "obesity                                            0                    1   \n",
       "alcohol_consumption                                1                    1   \n",
       "exercise_hours_per_week                            4                    3   \n",
       "diet                                         healthy              average   \n",
       "previous_heart_problems                            0                    0   \n",
       "medication_use                                     0                    1   \n",
       "stress_level                                       7                    4   \n",
       "sedentary_hours_per_day                            1                   11   \n",
       "bmi                                               29                   22   \n",
       "triglycerides                                    360                  220   \n",
       "physical_activity_days_per_week                    4                    6   \n",
       "sleep_hours_per_day                               10                    7   \n",
       "country                                       canada                japan   \n",
       "continent                              north_america                 asia   \n",
       "hemisphere                       northern_hemisphere  northern_hemisphere   \n",
       "heart_attack_risk                                  1                    1   \n",
       "blood_pressure_min                                73                   68   \n",
       "blood_pressure_max                               102                  131   \n",
       "income_30k                                         6                    4   \n",
       "\n",
       "                                                8                    9     \\\n",
       "patient_id                                   xcq5937              ftj5456   \n",
       "age                                               20                   43   \n",
       "sex                                             male               female   \n",
       "cholesterol                                      140                  250   \n",
       "heart_rate                                        68                   55   \n",
       "diabetes                                           1                    0   \n",
       "family_history                                     0                    1   \n",
       "smoking                                            1                    1   \n",
       "obesity                                            1                    1   \n",
       "alcohol_consumption                                0                    1   \n",
       "exercise_hours_per_week                           17                    0   \n",
       "diet                                         average            unhealthy   \n",
       "previous_heart_problems                            0                    0   \n",
       "medication_use                                     0                    0   \n",
       "stress_level                                       5                    4   \n",
       "sedentary_hours_per_day                           11                    4   \n",
       "bmi                                               36                   23   \n",
       "triglycerides                                    140                  250   \n",
       "physical_activity_days_per_week                    7                    7   \n",
       "sleep_hours_per_day                                4                    7   \n",
       "country                                       brazil                japan   \n",
       "continent                              south_america                 asia   \n",
       "hemisphere                       southern_hemisphere  northern_hemisphere   \n",
       "heart_attack_risk                                  0                    0   \n",
       "blood_pressure_min                               105                   70   \n",
       "blood_pressure_max                               144                  160   \n",
       "income_30k                                         0                    6   \n",
       "\n",
       "                                 ...                 8753  \\\n",
       "patient_id                       ...              nvc8704   \n",
       "age                              ...                   82   \n",
       "sex                              ...                 male   \n",
       "cholesterol                      ...                  310   \n",
       "heart_rate                       ...                   87   \n",
       "diabetes                         ...                    0   \n",
       "family_history                   ...                    1   \n",
       "smoking                          ...                    1   \n",
       "obesity                          ...                    1   \n",
       "alcohol_consumption              ...                    1   \n",
       "exercise_hours_per_week          ...                    8   \n",
       "diet                             ...            unhealthy   \n",
       "previous_heart_problems          ...                    1   \n",
       "medication_use                   ...                    0   \n",
       "stress_level                     ...                    7   \n",
       "sedentary_hours_per_day          ...                    8   \n",
       "bmi                              ...                   28   \n",
       "triglycerides                    ...                  310   \n",
       "physical_activity_days_per_week  ...                    1   \n",
       "sleep_hours_per_day              ...                    5   \n",
       "country                          ...            australia   \n",
       "continent                        ...            australia   \n",
       "hemisphere                       ...  southern_hemisphere   \n",
       "heart_attack_risk                ...                    1   \n",
       "blood_pressure_min               ...                  108   \n",
       "blood_pressure_max               ...                  126   \n",
       "income_30k                       ...                    4   \n",
       "\n",
       "                                                8754                 8755  \\\n",
       "patient_id                                   lzm3606              kqr8949   \n",
       "age                                               80                   25   \n",
       "sex                                           female                 male   \n",
       "cholesterol                                      380                  310   \n",
       "heart_rate                                        91                   78   \n",
       "diabetes                                           1                    0   \n",
       "family_history                                     1                    1   \n",
       "smoking                                            1                    1   \n",
       "obesity                                            0                    0   \n",
       "alcohol_consumption                                1                    1   \n",
       "exercise_hours_per_week                            6                    3   \n",
       "diet                                         healthy              average   \n",
       "previous_heart_problems                            1                    0   \n",
       "medication_use                                     1                    0   \n",
       "stress_level                                       3                    3   \n",
       "sedentary_hours_per_day                            8                   11   \n",
       "bmi                                               20                   33   \n",
       "triglycerides                                    380                  310   \n",
       "physical_activity_days_per_week                    3                    7   \n",
       "sleep_hours_per_day                                4                    5   \n",
       "country                                    argentina                spain   \n",
       "continent                              south_america               europe   \n",
       "hemisphere                       southern_hemisphere  southern_hemisphere   \n",
       "heart_attack_risk                                  1                    0   \n",
       "blood_pressure_min                                96                   94   \n",
       "blood_pressure_max                               153                  137   \n",
       "income_30k                                         3                    2   \n",
       "\n",
       "                                                8756                 8757  \\\n",
       "patient_id                                   bue0416              ydx2478   \n",
       "age                                               22                   59   \n",
       "sex                                             male               female   \n",
       "cholesterol                                      350                  380   \n",
       "heart_rate                                       108                   99   \n",
       "diabetes                                           0                    0   \n",
       "family_history                                     1                    1   \n",
       "smoking                                            1                    1   \n",
       "obesity                                            0                    1   \n",
       "alcohol_consumption                                1                    0   \n",
       "exercise_hours_per_week                            4                    2   \n",
       "diet                                         healthy              healthy   \n",
       "previous_heart_problems                            1                    0   \n",
       "medication_use                                     1                    0   \n",
       "stress_level                                       1                    4   \n",
       "sedentary_hours_per_day                            7                    7   \n",
       "bmi                                               20                   40   \n",
       "triglycerides                                    350                  380   \n",
       "physical_activity_days_per_week                    2                    1   \n",
       "sleep_hours_per_day                                9                    9   \n",
       "country                                       canada                china   \n",
       "continent                              north_america                 asia   \n",
       "hemisphere                       northern_hemisphere  northern_hemisphere   \n",
       "heart_attack_risk                                  1                    0   \n",
       "blood_pressure_min                                87                   78   \n",
       "blood_pressure_max                               115                   93   \n",
       "income_30k                                         7                    2   \n",
       "\n",
       "                                                8758                 8759  \\\n",
       "patient_id                                   msv9918              qsv6764   \n",
       "age                                               60                   28   \n",
       "sex                                             male               female   \n",
       "cholesterol                                      120                  120   \n",
       "heart_rate                                        61                   73   \n",
       "diabetes                                           1                    1   \n",
       "family_history                                     1                    0   \n",
       "smoking                                            1                    0   \n",
       "obesity                                            0                    1   \n",
       "alcohol_consumption                                1                    0   \n",
       "exercise_hours_per_week                            8                   17   \n",
       "diet                                         healthy              healthy   \n",
       "previous_heart_problems                            1                    0   \n",
       "medication_use                                     1                    0   \n",
       "stress_level                                       8                    8   \n",
       "sedentary_hours_per_day                           11                    4   \n",
       "bmi                                               20                   24   \n",
       "triglycerides                                    120                  120   \n",
       "physical_activity_days_per_week                    7                    4   \n",
       "sleep_hours_per_day                                7                    9   \n",
       "country                                     thailand               canada   \n",
       "continent                                       asia        north_america   \n",
       "hemisphere                       northern_hemisphere  northern_hemisphere   \n",
       "heart_attack_risk                                  0                    0   \n",
       "blood_pressure_min                                76                  102   \n",
       "blood_pressure_max                                94                  157   \n",
       "income_30k                                         7                    7   \n",
       "\n",
       "                                                8760                 8761  \\\n",
       "patient_id                                   xka5925              epe6801   \n",
       "age                                               47                   36   \n",
       "sex                                             male                 male   \n",
       "cholesterol                                      250                  180   \n",
       "heart_rate                                       105                   60   \n",
       "diabetes                                           0                    1   \n",
       "family_history                                     1                    0   \n",
       "smoking                                            1                    1   \n",
       "obesity                                            1                    0   \n",
       "alcohol_consumption                                1                    0   \n",
       "exercise_hours_per_week                            3                    4   \n",
       "diet                                         average            unhealthy   \n",
       "previous_heart_problems                            1                    1   \n",
       "medication_use                                     0                    1   \n",
       "stress_level                                       5                    5   \n",
       "sedentary_hours_per_day                            2                    0   \n",
       "bmi                                               35                   27   \n",
       "triglycerides                                    250                  180   \n",
       "physical_activity_days_per_week                    4                    2   \n",
       "sleep_hours_per_day                                4                    8   \n",
       "country                                       brazil               brazil   \n",
       "continent                              south_america        south_america   \n",
       "hemisphere                       southern_hemisphere  southern_hemisphere   \n",
       "heart_attack_risk                                  1                    0   \n",
       "blood_pressure_min                                75                   67   \n",
       "blood_pressure_max                               161                  119   \n",
       "income_30k                                         1                    6   \n",
       "\n",
       "                                                8762  \n",
       "patient_id                                   zwn9666  \n",
       "age                                               25  \n",
       "sex                                           female  \n",
       "cholesterol                                      360  \n",
       "heart_rate                                        75  \n",
       "diabetes                                           1  \n",
       "family_history                                     1  \n",
       "smoking                                            0  \n",
       "obesity                                            0  \n",
       "alcohol_consumption                                1  \n",
       "exercise_hours_per_week                           18  \n",
       "diet                                         healthy  \n",
       "previous_heart_problems                            0  \n",
       "medication_use                                     0  \n",
       "stress_level                                       8  \n",
       "sedentary_hours_per_day                            9  \n",
       "bmi                                               33  \n",
       "triglycerides                                    360  \n",
       "physical_activity_days_per_week                    7  \n",
       "sleep_hours_per_day                                4  \n",
       "country                               united_kingdom  \n",
       "continent                                     europe  \n",
       "hemisphere                       northern_hemisphere  \n",
       "heart_attack_risk                                  1  \n",
       "blood_pressure_min                                67  \n",
       "blood_pressure_max                               138  \n",
       "income_30k                                         8  \n",
       "\n",
       "[27 rows x 8763 columns]"
      ]
     },
     "execution_count": 40,
     "metadata": {},
     "output_type": "execute_result"
    }
   ],
   "source": [
    "df.T"
   ]
  },
  {
   "cell_type": "code",
   "execution_count": 41,
   "id": "3f543786",
   "metadata": {},
   "outputs": [
    {
     "data": {
      "text/plain": [
       "0.3582106584503024"
      ]
     },
     "execution_count": 41,
     "metadata": {},
     "output_type": "execute_result"
    }
   ],
   "source": [
    "df['heart_attack_risk'].mean()"
   ]
  },
  {
   "cell_type": "markdown",
   "id": "5039ce06",
   "metadata": {},
   "source": [
    "## Setting up the validation framework :"
   ]
  },
  {
   "cell_type": "code",
   "execution_count": 42,
   "id": "4cf1d1ad",
   "metadata": {},
   "outputs": [
    {
     "data": {
      "text/plain": [
       "0    5624\n",
       "1    3139\n",
       "Name: heart_attack_risk, dtype: int64"
      ]
     },
     "execution_count": 42,
     "metadata": {},
     "output_type": "execute_result"
    }
   ],
   "source": [
    "df.heart_attack_risk.value_counts()"
   ]
  },
  {
   "cell_type": "markdown",
   "id": "3c7e2288",
   "metadata": {},
   "source": [
    "### Split df :"
   ]
  },
  {
   "cell_type": "code",
   "execution_count": 43,
   "id": "d4645ea1",
   "metadata": {},
   "outputs": [],
   "source": [
    "df_full_train, df_test = train_test_split(df, test_size=0.2, random_state=1)"
   ]
  },
  {
   "cell_type": "code",
   "execution_count": 44,
   "id": "d0323ff6",
   "metadata": {},
   "outputs": [],
   "source": [
    "df_train, df_val = train_test_split(df_full_train, test_size=0.25, random_state=1) "
   ]
  },
  {
   "cell_type": "code",
   "execution_count": 45,
   "id": "3e53e56d",
   "metadata": {},
   "outputs": [
    {
     "data": {
      "text/plain": [
       "(8763, 7010, 1753, 1753, 5257)"
      ]
     },
     "execution_count": 45,
     "metadata": {},
     "output_type": "execute_result"
    }
   ],
   "source": [
    "len(df), len(df_full_train), len(df_test), len(df_val), len(df_train)"
   ]
  },
  {
   "cell_type": "code",
   "execution_count": 46,
   "id": "ca8d1b85",
   "metadata": {},
   "outputs": [
    {
     "data": {
      "text/plain": [
       "(True, True)"
      ]
     },
     "execution_count": 46,
     "metadata": {},
     "output_type": "execute_result"
    }
   ],
   "source": [
    "len(df_train)+len(df_val)==len(df_full_train), len(df_full_train)+len(df_test)==len(df)"
   ]
  },
  {
   "cell_type": "code",
   "execution_count": 47,
   "id": "c1781846",
   "metadata": {},
   "outputs": [
    {
     "data": {
      "text/html": [
       "<div>\n",
       "<style scoped>\n",
       "    .dataframe tbody tr th:only-of-type {\n",
       "        vertical-align: middle;\n",
       "    }\n",
       "\n",
       "    .dataframe tbody tr th {\n",
       "        vertical-align: top;\n",
       "    }\n",
       "\n",
       "    .dataframe thead th {\n",
       "        text-align: right;\n",
       "    }\n",
       "</style>\n",
       "<table border=\"1\" class=\"dataframe\">\n",
       "  <thead>\n",
       "    <tr style=\"text-align: right;\">\n",
       "      <th></th>\n",
       "      <th>patient_id</th>\n",
       "      <th>age</th>\n",
       "      <th>sex</th>\n",
       "      <th>cholesterol</th>\n",
       "      <th>heart_rate</th>\n",
       "      <th>diabetes</th>\n",
       "      <th>family_history</th>\n",
       "      <th>smoking</th>\n",
       "      <th>obesity</th>\n",
       "      <th>alcohol_consumption</th>\n",
       "      <th>...</th>\n",
       "      <th>triglycerides</th>\n",
       "      <th>physical_activity_days_per_week</th>\n",
       "      <th>sleep_hours_per_day</th>\n",
       "      <th>country</th>\n",
       "      <th>continent</th>\n",
       "      <th>hemisphere</th>\n",
       "      <th>heart_attack_risk</th>\n",
       "      <th>blood_pressure_min</th>\n",
       "      <th>blood_pressure_max</th>\n",
       "      <th>income_30k</th>\n",
       "    </tr>\n",
       "  </thead>\n",
       "  <tbody>\n",
       "    <tr>\n",
       "      <th>7969</th>\n",
       "      <td>dyf5450</td>\n",
       "      <td>89</td>\n",
       "      <td>male</td>\n",
       "      <td>280</td>\n",
       "      <td>60</td>\n",
       "      <td>0</td>\n",
       "      <td>1</td>\n",
       "      <td>1</td>\n",
       "      <td>0</td>\n",
       "      <td>0</td>\n",
       "      <td>...</td>\n",
       "      <td>280</td>\n",
       "      <td>0</td>\n",
       "      <td>4</td>\n",
       "      <td>south_korea</td>\n",
       "      <td>asia</td>\n",
       "      <td>northern_hemisphere</td>\n",
       "      <td>1</td>\n",
       "      <td>88</td>\n",
       "      <td>164</td>\n",
       "      <td>3</td>\n",
       "    </tr>\n",
       "    <tr>\n",
       "      <th>4685</th>\n",
       "      <td>qha1490</td>\n",
       "      <td>61</td>\n",
       "      <td>male</td>\n",
       "      <td>140</td>\n",
       "      <td>95</td>\n",
       "      <td>1</td>\n",
       "      <td>1</td>\n",
       "      <td>1</td>\n",
       "      <td>0</td>\n",
       "      <td>1</td>\n",
       "      <td>...</td>\n",
       "      <td>140</td>\n",
       "      <td>7</td>\n",
       "      <td>4</td>\n",
       "      <td>germany</td>\n",
       "      <td>europe</td>\n",
       "      <td>northern_hemisphere</td>\n",
       "      <td>1</td>\n",
       "      <td>86</td>\n",
       "      <td>115</td>\n",
       "      <td>2</td>\n",
       "    </tr>\n",
       "    <tr>\n",
       "      <th>8068</th>\n",
       "      <td>xmx0258</td>\n",
       "      <td>89</td>\n",
       "      <td>male</td>\n",
       "      <td>400</td>\n",
       "      <td>64</td>\n",
       "      <td>0</td>\n",
       "      <td>1</td>\n",
       "      <td>1</td>\n",
       "      <td>0</td>\n",
       "      <td>0</td>\n",
       "      <td>...</td>\n",
       "      <td>400</td>\n",
       "      <td>2</td>\n",
       "      <td>8</td>\n",
       "      <td>south_africa</td>\n",
       "      <td>africa</td>\n",
       "      <td>southern_hemisphere</td>\n",
       "      <td>1</td>\n",
       "      <td>104</td>\n",
       "      <td>114</td>\n",
       "      <td>9</td>\n",
       "    </tr>\n",
       "    <tr>\n",
       "      <th>7100</th>\n",
       "      <td>idq7248</td>\n",
       "      <td>75</td>\n",
       "      <td>male</td>\n",
       "      <td>360</td>\n",
       "      <td>80</td>\n",
       "      <td>1</td>\n",
       "      <td>0</td>\n",
       "      <td>1</td>\n",
       "      <td>0</td>\n",
       "      <td>1</td>\n",
       "      <td>...</td>\n",
       "      <td>360</td>\n",
       "      <td>4</td>\n",
       "      <td>10</td>\n",
       "      <td>united_states</td>\n",
       "      <td>north_america</td>\n",
       "      <td>northern_hemisphere</td>\n",
       "      <td>0</td>\n",
       "      <td>96</td>\n",
       "      <td>113</td>\n",
       "      <td>9</td>\n",
       "    </tr>\n",
       "    <tr>\n",
       "      <th>5027</th>\n",
       "      <td>mpp9335</td>\n",
       "      <td>42</td>\n",
       "      <td>female</td>\n",
       "      <td>350</td>\n",
       "      <td>90</td>\n",
       "      <td>1</td>\n",
       "      <td>1</td>\n",
       "      <td>1</td>\n",
       "      <td>0</td>\n",
       "      <td>0</td>\n",
       "      <td>...</td>\n",
       "      <td>350</td>\n",
       "      <td>2</td>\n",
       "      <td>10</td>\n",
       "      <td>france</td>\n",
       "      <td>europe</td>\n",
       "      <td>northern_hemisphere</td>\n",
       "      <td>1</td>\n",
       "      <td>101</td>\n",
       "      <td>121</td>\n",
       "      <td>9</td>\n",
       "    </tr>\n",
       "  </tbody>\n",
       "</table>\n",
       "<p>5 rows × 27 columns</p>\n",
       "</div>"
      ],
      "text/plain": [
       "     patient_id  age     sex  cholesterol  heart_rate  diabetes  \\\n",
       "7969    dyf5450   89    male          280          60         0   \n",
       "4685    qha1490   61    male          140          95         1   \n",
       "8068    xmx0258   89    male          400          64         0   \n",
       "7100    idq7248   75    male          360          80         1   \n",
       "5027    mpp9335   42  female          350          90         1   \n",
       "\n",
       "      family_history  smoking  obesity  alcohol_consumption  ...  \\\n",
       "7969               1        1        0                    0  ...   \n",
       "4685               1        1        0                    1  ...   \n",
       "8068               1        1        0                    0  ...   \n",
       "7100               0        1        0                    1  ...   \n",
       "5027               1        1        0                    0  ...   \n",
       "\n",
       "      triglycerides physical_activity_days_per_week  sleep_hours_per_day  \\\n",
       "7969            280                               0                    4   \n",
       "4685            140                               7                    4   \n",
       "8068            400                               2                    8   \n",
       "7100            360                               4                   10   \n",
       "5027            350                               2                   10   \n",
       "\n",
       "            country      continent           hemisphere  heart_attack_risk  \\\n",
       "7969    south_korea           asia  northern_hemisphere                  1   \n",
       "4685        germany         europe  northern_hemisphere                  1   \n",
       "8068   south_africa         africa  southern_hemisphere                  1   \n",
       "7100  united_states  north_america  northern_hemisphere                  0   \n",
       "5027         france         europe  northern_hemisphere                  1   \n",
       "\n",
       "      blood_pressure_min  blood_pressure_max  income_30k  \n",
       "7969                  88                 164           3  \n",
       "4685                  86                 115           2  \n",
       "8068                 104                 114           9  \n",
       "7100                  96                 113           9  \n",
       "5027                 101                 121           9  \n",
       "\n",
       "[5 rows x 27 columns]"
      ]
     },
     "execution_count": 47,
     "metadata": {},
     "output_type": "execute_result"
    }
   ],
   "source": [
    "df_train.head()"
   ]
  },
  {
   "cell_type": "markdown",
   "id": "08c7b5f1",
   "metadata": {},
   "source": [
    "### Index reset :"
   ]
  },
  {
   "cell_type": "code",
   "execution_count": 48,
   "id": "1f2393d9",
   "metadata": {},
   "outputs": [],
   "source": [
    "df_train = df_train.reset_index(drop=True)\n",
    "df_val = df_val.reset_index(drop=True)\n",
    "df_test = df_test.reset_index(drop=True)"
   ]
  },
  {
   "cell_type": "code",
   "execution_count": 49,
   "id": "77b70815",
   "metadata": {},
   "outputs": [
    {
     "data": {
      "text/html": [
       "<div>\n",
       "<style scoped>\n",
       "    .dataframe tbody tr th:only-of-type {\n",
       "        vertical-align: middle;\n",
       "    }\n",
       "\n",
       "    .dataframe tbody tr th {\n",
       "        vertical-align: top;\n",
       "    }\n",
       "\n",
       "    .dataframe thead th {\n",
       "        text-align: right;\n",
       "    }\n",
       "</style>\n",
       "<table border=\"1\" class=\"dataframe\">\n",
       "  <thead>\n",
       "    <tr style=\"text-align: right;\">\n",
       "      <th></th>\n",
       "      <th>patient_id</th>\n",
       "      <th>age</th>\n",
       "      <th>sex</th>\n",
       "      <th>cholesterol</th>\n",
       "      <th>heart_rate</th>\n",
       "      <th>diabetes</th>\n",
       "      <th>family_history</th>\n",
       "      <th>smoking</th>\n",
       "      <th>obesity</th>\n",
       "      <th>alcohol_consumption</th>\n",
       "      <th>...</th>\n",
       "      <th>triglycerides</th>\n",
       "      <th>physical_activity_days_per_week</th>\n",
       "      <th>sleep_hours_per_day</th>\n",
       "      <th>country</th>\n",
       "      <th>continent</th>\n",
       "      <th>hemisphere</th>\n",
       "      <th>heart_attack_risk</th>\n",
       "      <th>blood_pressure_min</th>\n",
       "      <th>blood_pressure_max</th>\n",
       "      <th>income_30k</th>\n",
       "    </tr>\n",
       "  </thead>\n",
       "  <tbody>\n",
       "    <tr>\n",
       "      <th>0</th>\n",
       "      <td>dyf5450</td>\n",
       "      <td>89</td>\n",
       "      <td>male</td>\n",
       "      <td>280</td>\n",
       "      <td>60</td>\n",
       "      <td>0</td>\n",
       "      <td>1</td>\n",
       "      <td>1</td>\n",
       "      <td>0</td>\n",
       "      <td>0</td>\n",
       "      <td>...</td>\n",
       "      <td>280</td>\n",
       "      <td>0</td>\n",
       "      <td>4</td>\n",
       "      <td>south_korea</td>\n",
       "      <td>asia</td>\n",
       "      <td>northern_hemisphere</td>\n",
       "      <td>1</td>\n",
       "      <td>88</td>\n",
       "      <td>164</td>\n",
       "      <td>3</td>\n",
       "    </tr>\n",
       "    <tr>\n",
       "      <th>1</th>\n",
       "      <td>qha1490</td>\n",
       "      <td>61</td>\n",
       "      <td>male</td>\n",
       "      <td>140</td>\n",
       "      <td>95</td>\n",
       "      <td>1</td>\n",
       "      <td>1</td>\n",
       "      <td>1</td>\n",
       "      <td>0</td>\n",
       "      <td>1</td>\n",
       "      <td>...</td>\n",
       "      <td>140</td>\n",
       "      <td>7</td>\n",
       "      <td>4</td>\n",
       "      <td>germany</td>\n",
       "      <td>europe</td>\n",
       "      <td>northern_hemisphere</td>\n",
       "      <td>1</td>\n",
       "      <td>86</td>\n",
       "      <td>115</td>\n",
       "      <td>2</td>\n",
       "    </tr>\n",
       "    <tr>\n",
       "      <th>2</th>\n",
       "      <td>xmx0258</td>\n",
       "      <td>89</td>\n",
       "      <td>male</td>\n",
       "      <td>400</td>\n",
       "      <td>64</td>\n",
       "      <td>0</td>\n",
       "      <td>1</td>\n",
       "      <td>1</td>\n",
       "      <td>0</td>\n",
       "      <td>0</td>\n",
       "      <td>...</td>\n",
       "      <td>400</td>\n",
       "      <td>2</td>\n",
       "      <td>8</td>\n",
       "      <td>south_africa</td>\n",
       "      <td>africa</td>\n",
       "      <td>southern_hemisphere</td>\n",
       "      <td>1</td>\n",
       "      <td>104</td>\n",
       "      <td>114</td>\n",
       "      <td>9</td>\n",
       "    </tr>\n",
       "    <tr>\n",
       "      <th>3</th>\n",
       "      <td>idq7248</td>\n",
       "      <td>75</td>\n",
       "      <td>male</td>\n",
       "      <td>360</td>\n",
       "      <td>80</td>\n",
       "      <td>1</td>\n",
       "      <td>0</td>\n",
       "      <td>1</td>\n",
       "      <td>0</td>\n",
       "      <td>1</td>\n",
       "      <td>...</td>\n",
       "      <td>360</td>\n",
       "      <td>4</td>\n",
       "      <td>10</td>\n",
       "      <td>united_states</td>\n",
       "      <td>north_america</td>\n",
       "      <td>northern_hemisphere</td>\n",
       "      <td>0</td>\n",
       "      <td>96</td>\n",
       "      <td>113</td>\n",
       "      <td>9</td>\n",
       "    </tr>\n",
       "    <tr>\n",
       "      <th>4</th>\n",
       "      <td>mpp9335</td>\n",
       "      <td>42</td>\n",
       "      <td>female</td>\n",
       "      <td>350</td>\n",
       "      <td>90</td>\n",
       "      <td>1</td>\n",
       "      <td>1</td>\n",
       "      <td>1</td>\n",
       "      <td>0</td>\n",
       "      <td>0</td>\n",
       "      <td>...</td>\n",
       "      <td>350</td>\n",
       "      <td>2</td>\n",
       "      <td>10</td>\n",
       "      <td>france</td>\n",
       "      <td>europe</td>\n",
       "      <td>northern_hemisphere</td>\n",
       "      <td>1</td>\n",
       "      <td>101</td>\n",
       "      <td>121</td>\n",
       "      <td>9</td>\n",
       "    </tr>\n",
       "  </tbody>\n",
       "</table>\n",
       "<p>5 rows × 27 columns</p>\n",
       "</div>"
      ],
      "text/plain": [
       "  patient_id  age     sex  cholesterol  heart_rate  diabetes  family_history  \\\n",
       "0    dyf5450   89    male          280          60         0               1   \n",
       "1    qha1490   61    male          140          95         1               1   \n",
       "2    xmx0258   89    male          400          64         0               1   \n",
       "3    idq7248   75    male          360          80         1               0   \n",
       "4    mpp9335   42  female          350          90         1               1   \n",
       "\n",
       "   smoking  obesity  alcohol_consumption  ...  triglycerides  \\\n",
       "0        1        0                    0  ...            280   \n",
       "1        1        0                    1  ...            140   \n",
       "2        1        0                    0  ...            400   \n",
       "3        1        0                    1  ...            360   \n",
       "4        1        0                    0  ...            350   \n",
       "\n",
       "  physical_activity_days_per_week  sleep_hours_per_day        country  \\\n",
       "0                               0                    4    south_korea   \n",
       "1                               7                    4        germany   \n",
       "2                               2                    8   south_africa   \n",
       "3                               4                   10  united_states   \n",
       "4                               2                   10         france   \n",
       "\n",
       "       continent           hemisphere  heart_attack_risk  blood_pressure_min  \\\n",
       "0           asia  northern_hemisphere                  1                  88   \n",
       "1         europe  northern_hemisphere                  1                  86   \n",
       "2         africa  southern_hemisphere                  1                 104   \n",
       "3  north_america  northern_hemisphere                  0                  96   \n",
       "4         europe  northern_hemisphere                  1                 101   \n",
       "\n",
       "   blood_pressure_max  income_30k  \n",
       "0                 164           3  \n",
       "1                 115           2  \n",
       "2                 114           9  \n",
       "3                 113           9  \n",
       "4                 121           9  \n",
       "\n",
       "[5 rows x 27 columns]"
      ]
     },
     "execution_count": 49,
     "metadata": {},
     "output_type": "execute_result"
    }
   ],
   "source": [
    "df_train.head()"
   ]
  },
  {
   "cell_type": "markdown",
   "id": "445b5457",
   "metadata": {},
   "source": [
    "### Popolate prediction vectors y :"
   ]
  },
  {
   "cell_type": "code",
   "execution_count": 50,
   "id": "8fd0680c",
   "metadata": {},
   "outputs": [],
   "source": [
    "y_train = df_train.heart_attack_risk.values\n",
    "y_val = df_val.heart_attack_risk.values\n",
    "y_test = df_test.heart_attack_risk.values"
   ]
  },
  {
   "cell_type": "markdown",
   "id": "ebaf1e5a",
   "metadata": {},
   "source": [
    "### Delete prediction from features data :"
   ]
  },
  {
   "cell_type": "code",
   "execution_count": 51,
   "id": "7667b306",
   "metadata": {},
   "outputs": [],
   "source": [
    "del df_train['heart_attack_risk']  \n",
    "del df_val['heart_attack_risk']\n",
    "del df_test['heart_attack_risk']"
   ]
  },
  {
   "cell_type": "markdown",
   "id": "7d3e404c",
   "metadata": {},
   "source": [
    "### Verify :"
   ]
  },
  {
   "cell_type": "code",
   "execution_count": 52,
   "id": "9d680775",
   "metadata": {},
   "outputs": [
    {
     "data": {
      "text/plain": [
       "array([0, 1, 1, ..., 0, 0, 1])"
      ]
     },
     "execution_count": 52,
     "metadata": {},
     "output_type": "execute_result"
    }
   ],
   "source": [
    "y_val"
   ]
  },
  {
   "cell_type": "code",
   "execution_count": 54,
   "id": "9d05df8f",
   "metadata": {},
   "outputs": [
    {
     "data": {
      "text/html": [
       "<div>\n",
       "<style scoped>\n",
       "    .dataframe tbody tr th:only-of-type {\n",
       "        vertical-align: middle;\n",
       "    }\n",
       "\n",
       "    .dataframe tbody tr th {\n",
       "        vertical-align: top;\n",
       "    }\n",
       "\n",
       "    .dataframe thead th {\n",
       "        text-align: right;\n",
       "    }\n",
       "</style>\n",
       "<table border=\"1\" class=\"dataframe\">\n",
       "  <thead>\n",
       "    <tr style=\"text-align: right;\">\n",
       "      <th></th>\n",
       "      <th>patient_id</th>\n",
       "      <th>age</th>\n",
       "      <th>sex</th>\n",
       "      <th>cholesterol</th>\n",
       "      <th>heart_rate</th>\n",
       "      <th>diabetes</th>\n",
       "      <th>family_history</th>\n",
       "      <th>smoking</th>\n",
       "      <th>obesity</th>\n",
       "      <th>alcohol_consumption</th>\n",
       "      <th>...</th>\n",
       "      <th>bmi</th>\n",
       "      <th>triglycerides</th>\n",
       "      <th>physical_activity_days_per_week</th>\n",
       "      <th>sleep_hours_per_day</th>\n",
       "      <th>country</th>\n",
       "      <th>continent</th>\n",
       "      <th>hemisphere</th>\n",
       "      <th>blood_pressure_min</th>\n",
       "      <th>blood_pressure_max</th>\n",
       "      <th>income_30k</th>\n",
       "    </tr>\n",
       "  </thead>\n",
       "  <tbody>\n",
       "    <tr>\n",
       "      <th>0</th>\n",
       "      <td>dyf5450</td>\n",
       "      <td>89</td>\n",
       "      <td>male</td>\n",
       "      <td>280</td>\n",
       "      <td>60</td>\n",
       "      <td>0</td>\n",
       "      <td>1</td>\n",
       "      <td>1</td>\n",
       "      <td>0</td>\n",
       "      <td>0</td>\n",
       "      <td>...</td>\n",
       "      <td>21</td>\n",
       "      <td>280</td>\n",
       "      <td>0</td>\n",
       "      <td>4</td>\n",
       "      <td>south_korea</td>\n",
       "      <td>asia</td>\n",
       "      <td>northern_hemisphere</td>\n",
       "      <td>88</td>\n",
       "      <td>164</td>\n",
       "      <td>3</td>\n",
       "    </tr>\n",
       "    <tr>\n",
       "      <th>1</th>\n",
       "      <td>qha1490</td>\n",
       "      <td>61</td>\n",
       "      <td>male</td>\n",
       "      <td>140</td>\n",
       "      <td>95</td>\n",
       "      <td>1</td>\n",
       "      <td>1</td>\n",
       "      <td>1</td>\n",
       "      <td>0</td>\n",
       "      <td>1</td>\n",
       "      <td>...</td>\n",
       "      <td>33</td>\n",
       "      <td>140</td>\n",
       "      <td>7</td>\n",
       "      <td>4</td>\n",
       "      <td>germany</td>\n",
       "      <td>europe</td>\n",
       "      <td>northern_hemisphere</td>\n",
       "      <td>86</td>\n",
       "      <td>115</td>\n",
       "      <td>2</td>\n",
       "    </tr>\n",
       "    <tr>\n",
       "      <th>2</th>\n",
       "      <td>xmx0258</td>\n",
       "      <td>89</td>\n",
       "      <td>male</td>\n",
       "      <td>400</td>\n",
       "      <td>64</td>\n",
       "      <td>0</td>\n",
       "      <td>1</td>\n",
       "      <td>1</td>\n",
       "      <td>0</td>\n",
       "      <td>0</td>\n",
       "      <td>...</td>\n",
       "      <td>25</td>\n",
       "      <td>400</td>\n",
       "      <td>2</td>\n",
       "      <td>8</td>\n",
       "      <td>south_africa</td>\n",
       "      <td>africa</td>\n",
       "      <td>southern_hemisphere</td>\n",
       "      <td>104</td>\n",
       "      <td>114</td>\n",
       "      <td>9</td>\n",
       "    </tr>\n",
       "    <tr>\n",
       "      <th>3</th>\n",
       "      <td>idq7248</td>\n",
       "      <td>75</td>\n",
       "      <td>male</td>\n",
       "      <td>360</td>\n",
       "      <td>80</td>\n",
       "      <td>1</td>\n",
       "      <td>0</td>\n",
       "      <td>1</td>\n",
       "      <td>0</td>\n",
       "      <td>1</td>\n",
       "      <td>...</td>\n",
       "      <td>33</td>\n",
       "      <td>360</td>\n",
       "      <td>4</td>\n",
       "      <td>10</td>\n",
       "      <td>united_states</td>\n",
       "      <td>north_america</td>\n",
       "      <td>northern_hemisphere</td>\n",
       "      <td>96</td>\n",
       "      <td>113</td>\n",
       "      <td>9</td>\n",
       "    </tr>\n",
       "    <tr>\n",
       "      <th>4</th>\n",
       "      <td>mpp9335</td>\n",
       "      <td>42</td>\n",
       "      <td>female</td>\n",
       "      <td>350</td>\n",
       "      <td>90</td>\n",
       "      <td>1</td>\n",
       "      <td>1</td>\n",
       "      <td>1</td>\n",
       "      <td>0</td>\n",
       "      <td>0</td>\n",
       "      <td>...</td>\n",
       "      <td>32</td>\n",
       "      <td>350</td>\n",
       "      <td>2</td>\n",
       "      <td>10</td>\n",
       "      <td>france</td>\n",
       "      <td>europe</td>\n",
       "      <td>northern_hemisphere</td>\n",
       "      <td>101</td>\n",
       "      <td>121</td>\n",
       "      <td>9</td>\n",
       "    </tr>\n",
       "  </tbody>\n",
       "</table>\n",
       "<p>5 rows × 26 columns</p>\n",
       "</div>"
      ],
      "text/plain": [
       "  patient_id  age     sex  cholesterol  heart_rate  diabetes  family_history  \\\n",
       "0    dyf5450   89    male          280          60         0               1   \n",
       "1    qha1490   61    male          140          95         1               1   \n",
       "2    xmx0258   89    male          400          64         0               1   \n",
       "3    idq7248   75    male          360          80         1               0   \n",
       "4    mpp9335   42  female          350          90         1               1   \n",
       "\n",
       "   smoking  obesity  alcohol_consumption  ...  bmi triglycerides  \\\n",
       "0        1        0                    0  ...   21           280   \n",
       "1        1        0                    1  ...   33           140   \n",
       "2        1        0                    0  ...   25           400   \n",
       "3        1        0                    1  ...   33           360   \n",
       "4        1        0                    0  ...   32           350   \n",
       "\n",
       "   physical_activity_days_per_week  sleep_hours_per_day        country  \\\n",
       "0                                0                    4    south_korea   \n",
       "1                                7                    4        germany   \n",
       "2                                2                    8   south_africa   \n",
       "3                                4                   10  united_states   \n",
       "4                                2                   10         france   \n",
       "\n",
       "       continent           hemisphere  blood_pressure_min  blood_pressure_max  \\\n",
       "0           asia  northern_hemisphere                  88                 164   \n",
       "1         europe  northern_hemisphere                  86                 115   \n",
       "2         africa  southern_hemisphere                 104                 114   \n",
       "3  north_america  northern_hemisphere                  96                 113   \n",
       "4         europe  northern_hemisphere                 101                 121   \n",
       "\n",
       "   income_30k  \n",
       "0           3  \n",
       "1           2  \n",
       "2           9  \n",
       "3           9  \n",
       "4           9  \n",
       "\n",
       "[5 rows x 26 columns]"
      ]
     },
     "execution_count": 54,
     "metadata": {},
     "output_type": "execute_result"
    }
   ],
   "source": [
    "df_train.head()"
   ]
  },
  {
   "cell_type": "markdown",
   "id": "4d879586",
   "metadata": {},
   "source": [
    "## Explorative Data Analysis :"
   ]
  },
  {
   "cell_type": "code",
   "execution_count": 55,
   "id": "4e251577",
   "metadata": {},
   "outputs": [
    {
     "data": {
      "text/html": [
       "<div>\n",
       "<style scoped>\n",
       "    .dataframe tbody tr th:only-of-type {\n",
       "        vertical-align: middle;\n",
       "    }\n",
       "\n",
       "    .dataframe tbody tr th {\n",
       "        vertical-align: top;\n",
       "    }\n",
       "\n",
       "    .dataframe thead th {\n",
       "        text-align: right;\n",
       "    }\n",
       "</style>\n",
       "<table border=\"1\" class=\"dataframe\">\n",
       "  <thead>\n",
       "    <tr style=\"text-align: right;\">\n",
       "      <th></th>\n",
       "      <th>patient_id</th>\n",
       "      <th>age</th>\n",
       "      <th>sex</th>\n",
       "      <th>cholesterol</th>\n",
       "      <th>heart_rate</th>\n",
       "      <th>diabetes</th>\n",
       "      <th>family_history</th>\n",
       "      <th>smoking</th>\n",
       "      <th>obesity</th>\n",
       "      <th>alcohol_consumption</th>\n",
       "      <th>...</th>\n",
       "      <th>triglycerides</th>\n",
       "      <th>physical_activity_days_per_week</th>\n",
       "      <th>sleep_hours_per_day</th>\n",
       "      <th>country</th>\n",
       "      <th>continent</th>\n",
       "      <th>hemisphere</th>\n",
       "      <th>heart_attack_risk</th>\n",
       "      <th>blood_pressure_min</th>\n",
       "      <th>blood_pressure_max</th>\n",
       "      <th>income_30k</th>\n",
       "    </tr>\n",
       "  </thead>\n",
       "  <tbody>\n",
       "    <tr>\n",
       "      <th>7361</th>\n",
       "      <td>hrm3348</td>\n",
       "      <td>54</td>\n",
       "      <td>male</td>\n",
       "      <td>260</td>\n",
       "      <td>77</td>\n",
       "      <td>0</td>\n",
       "      <td>1</td>\n",
       "      <td>1</td>\n",
       "      <td>1</td>\n",
       "      <td>1</td>\n",
       "      <td>...</td>\n",
       "      <td>260</td>\n",
       "      <td>0</td>\n",
       "      <td>8</td>\n",
       "      <td>argentina</td>\n",
       "      <td>south_america</td>\n",
       "      <td>southern_hemisphere</td>\n",
       "      <td>1</td>\n",
       "      <td>67</td>\n",
       "      <td>165</td>\n",
       "      <td>7</td>\n",
       "    </tr>\n",
       "    <tr>\n",
       "      <th>54</th>\n",
       "      <td>yod3294</td>\n",
       "      <td>31</td>\n",
       "      <td>male</td>\n",
       "      <td>240</td>\n",
       "      <td>92</td>\n",
       "      <td>1</td>\n",
       "      <td>1</td>\n",
       "      <td>1</td>\n",
       "      <td>1</td>\n",
       "      <td>1</td>\n",
       "      <td>...</td>\n",
       "      <td>240</td>\n",
       "      <td>7</td>\n",
       "      <td>9</td>\n",
       "      <td>united_states</td>\n",
       "      <td>north_america</td>\n",
       "      <td>northern_hemisphere</td>\n",
       "      <td>0</td>\n",
       "      <td>80</td>\n",
       "      <td>100</td>\n",
       "      <td>8</td>\n",
       "    </tr>\n",
       "    <tr>\n",
       "      <th>4133</th>\n",
       "      <td>knj1597</td>\n",
       "      <td>27</td>\n",
       "      <td>male</td>\n",
       "      <td>150</td>\n",
       "      <td>106</td>\n",
       "      <td>0</td>\n",
       "      <td>1</td>\n",
       "      <td>1</td>\n",
       "      <td>1</td>\n",
       "      <td>1</td>\n",
       "      <td>...</td>\n",
       "      <td>150</td>\n",
       "      <td>7</td>\n",
       "      <td>9</td>\n",
       "      <td>canada</td>\n",
       "      <td>north_america</td>\n",
       "      <td>northern_hemisphere</td>\n",
       "      <td>0</td>\n",
       "      <td>75</td>\n",
       "      <td>138</td>\n",
       "      <td>6</td>\n",
       "    </tr>\n",
       "    <tr>\n",
       "      <th>7011</th>\n",
       "      <td>idg3112</td>\n",
       "      <td>74</td>\n",
       "      <td>male</td>\n",
       "      <td>320</td>\n",
       "      <td>82</td>\n",
       "      <td>0</td>\n",
       "      <td>1</td>\n",
       "      <td>1</td>\n",
       "      <td>0</td>\n",
       "      <td>0</td>\n",
       "      <td>...</td>\n",
       "      <td>320</td>\n",
       "      <td>7</td>\n",
       "      <td>10</td>\n",
       "      <td>united_kingdom</td>\n",
       "      <td>europe</td>\n",
       "      <td>northern_hemisphere</td>\n",
       "      <td>0</td>\n",
       "      <td>75</td>\n",
       "      <td>107</td>\n",
       "      <td>3</td>\n",
       "    </tr>\n",
       "    <tr>\n",
       "      <th>4230</th>\n",
       "      <td>gwn9220</td>\n",
       "      <td>76</td>\n",
       "      <td>male</td>\n",
       "      <td>150</td>\n",
       "      <td>42</td>\n",
       "      <td>1</td>\n",
       "      <td>0</td>\n",
       "      <td>1</td>\n",
       "      <td>0</td>\n",
       "      <td>1</td>\n",
       "      <td>...</td>\n",
       "      <td>150</td>\n",
       "      <td>5</td>\n",
       "      <td>8</td>\n",
       "      <td>vietnam</td>\n",
       "      <td>asia</td>\n",
       "      <td>northern_hemisphere</td>\n",
       "      <td>0</td>\n",
       "      <td>85</td>\n",
       "      <td>103</td>\n",
       "      <td>7</td>\n",
       "    </tr>\n",
       "  </tbody>\n",
       "</table>\n",
       "<p>5 rows × 27 columns</p>\n",
       "</div>"
      ],
      "text/plain": [
       "     patient_id  age   sex  cholesterol  heart_rate  diabetes  family_history  \\\n",
       "7361    hrm3348   54  male          260          77         0               1   \n",
       "54      yod3294   31  male          240          92         1               1   \n",
       "4133    knj1597   27  male          150         106         0               1   \n",
       "7011    idg3112   74  male          320          82         0               1   \n",
       "4230    gwn9220   76  male          150          42         1               0   \n",
       "\n",
       "      smoking  obesity  alcohol_consumption  ...  triglycerides  \\\n",
       "7361        1        1                    1  ...            260   \n",
       "54          1        1                    1  ...            240   \n",
       "4133        1        1                    1  ...            150   \n",
       "7011        1        0                    0  ...            320   \n",
       "4230        1        0                    1  ...            150   \n",
       "\n",
       "     physical_activity_days_per_week  sleep_hours_per_day         country  \\\n",
       "7361                               0                    8       argentina   \n",
       "54                                 7                    9   united_states   \n",
       "4133                               7                    9          canada   \n",
       "7011                               7                   10  united_kingdom   \n",
       "4230                               5                    8         vietnam   \n",
       "\n",
       "          continent           hemisphere  heart_attack_risk  \\\n",
       "7361  south_america  southern_hemisphere                  1   \n",
       "54    north_america  northern_hemisphere                  0   \n",
       "4133  north_america  northern_hemisphere                  0   \n",
       "7011         europe  northern_hemisphere                  0   \n",
       "4230           asia  northern_hemisphere                  0   \n",
       "\n",
       "      blood_pressure_min  blood_pressure_max  income_30k  \n",
       "7361                  67                 165           7  \n",
       "54                    80                 100           8  \n",
       "4133                  75                 138           6  \n",
       "7011                  75                 107           3  \n",
       "4230                  85                 103           7  \n",
       "\n",
       "[5 rows x 27 columns]"
      ]
     },
     "execution_count": 55,
     "metadata": {},
     "output_type": "execute_result"
    }
   ],
   "source": [
    "df_full_train.head()"
   ]
  },
  {
   "cell_type": "code",
   "execution_count": 56,
   "id": "d2770ec9",
   "metadata": {},
   "outputs": [],
   "source": [
    "df_full_train = df_full_train.reset_index(drop=True) "
   ]
  },
  {
   "cell_type": "code",
   "execution_count": 57,
   "id": "9223583c",
   "metadata": {},
   "outputs": [
    {
     "data": {
      "text/plain": [
       "patient_id                         0\n",
       "age                                0\n",
       "sex                                0\n",
       "cholesterol                        0\n",
       "heart_rate                         0\n",
       "diabetes                           0\n",
       "family_history                     0\n",
       "smoking                            0\n",
       "obesity                            0\n",
       "alcohol_consumption                0\n",
       "exercise_hours_per_week            0\n",
       "diet                               0\n",
       "previous_heart_problems            0\n",
       "medication_use                     0\n",
       "stress_level                       0\n",
       "sedentary_hours_per_day            0\n",
       "bmi                                0\n",
       "triglycerides                      0\n",
       "physical_activity_days_per_week    0\n",
       "sleep_hours_per_day                0\n",
       "country                            0\n",
       "continent                          0\n",
       "hemisphere                         0\n",
       "heart_attack_risk                  0\n",
       "blood_pressure_min                 0\n",
       "blood_pressure_max                 0\n",
       "income_30k                         0\n",
       "dtype: int64"
      ]
     },
     "execution_count": 57,
     "metadata": {},
     "output_type": "execute_result"
    }
   ],
   "source": [
    "df_full_train.isnull().sum()"
   ]
  },
  {
   "cell_type": "markdown",
   "id": "a11ae9b5",
   "metadata": {},
   "source": [
    "### Observe the target variable :"
   ]
  },
  {
   "cell_type": "code",
   "execution_count": 58,
   "id": "54184ab3",
   "metadata": {},
   "outputs": [
    {
     "data": {
      "text/plain": [
       "0    4482\n",
       "1    2528\n",
       "Name: heart_attack_risk, dtype: int64"
      ]
     },
     "execution_count": 58,
     "metadata": {},
     "output_type": "execute_result"
    }
   ],
   "source": [
    "df_full_train.heart_attack_risk.value_counts()"
   ]
  },
  {
   "cell_type": "code",
   "execution_count": 59,
   "id": "33030f64",
   "metadata": {},
   "outputs": [
    {
     "data": {
      "text/plain": [
       "0    0.639372\n",
       "1    0.360628\n",
       "Name: heart_attack_risk, dtype: float64"
      ]
     },
     "execution_count": 59,
     "metadata": {},
     "output_type": "execute_result"
    }
   ],
   "source": [
    "df_full_train.heart_attack_risk.value_counts(normalize=True) "
   ]
  },
  {
   "cell_type": "code",
   "execution_count": 60,
   "id": "d4d7f88d",
   "metadata": {},
   "outputs": [
    {
     "data": {
      "text/plain": [
       "0.36"
      ]
     },
     "execution_count": 60,
     "metadata": {},
     "output_type": "execute_result"
    }
   ],
   "source": [
    "global_heart_attack_risk_rate = df_full_train.heart_attack_risk.mean()\n",
    "round(global_heart_attack_risk_rate, 2) # %"
   ]
  },
  {
   "cell_type": "code",
   "execution_count": 61,
   "id": "278fb916",
   "metadata": {},
   "outputs": [
    {
     "data": {
      "text/plain": [
       "Index(['patient_id', 'age', 'sex', 'cholesterol', 'heart_rate', 'diabetes',\n",
       "       'family_history', 'smoking', 'obesity', 'alcohol_consumption',\n",
       "       'exercise_hours_per_week', 'diet', 'previous_heart_problems',\n",
       "       'medication_use', 'stress_level', 'sedentary_hours_per_day', 'bmi',\n",
       "       'triglycerides', 'physical_activity_days_per_week',\n",
       "       'sleep_hours_per_day', 'country', 'continent', 'hemisphere',\n",
       "       'heart_attack_risk', 'blood_pressure_min', 'blood_pressure_max',\n",
       "       'income_30k'],\n",
       "      dtype='object')"
      ]
     },
     "execution_count": 61,
     "metadata": {},
     "output_type": "execute_result"
    }
   ],
   "source": [
    "df_full_train.columns"
   ]
  },
  {
   "cell_type": "code",
   "execution_count": 62,
   "id": "8bc358ef",
   "metadata": {},
   "outputs": [
    {
     "data": {
      "text/plain": [
       "patient_id                         object\n",
       "age                                 int64\n",
       "sex                                object\n",
       "cholesterol                         int64\n",
       "heart_rate                          int64\n",
       "diabetes                            int64\n",
       "family_history                      int64\n",
       "smoking                             int64\n",
       "obesity                             int64\n",
       "alcohol_consumption                 int64\n",
       "exercise_hours_per_week             int64\n",
       "diet                               object\n",
       "previous_heart_problems             int64\n",
       "medication_use                      int64\n",
       "stress_level                        int64\n",
       "sedentary_hours_per_day             int64\n",
       "bmi                                 int64\n",
       "triglycerides                       int64\n",
       "physical_activity_days_per_week     int64\n",
       "sleep_hours_per_day                 int64\n",
       "country                            object\n",
       "continent                          object\n",
       "hemisphere                         object\n",
       "heart_attack_risk                   int64\n",
       "blood_pressure_min                  int64\n",
       "blood_pressure_max                  int64\n",
       "income_30k                          int64\n",
       "dtype: object"
      ]
     },
     "execution_count": 62,
     "metadata": {},
     "output_type": "execute_result"
    }
   ],
   "source": [
    "df_full_train.dtypes"
   ]
  },
  {
   "cell_type": "code",
   "execution_count": 63,
   "id": "d8312303",
   "metadata": {},
   "outputs": [],
   "source": [
    "numerical = ['age','cholesterol','heart_rate','diabetes',\n",
    "             'family_history','smoking','obesity',\n",
    "             'alcohol_consumption','exercise_hours_per_week',\n",
    "             'previous_heart_problems','medication_use',\n",
    "             'stress_level','sedentary_hours_per_day',\n",
    "             'bmi','triglycerides','physical_activity_days_per_week',\n",
    "             'sleep_hours_per_day','blood_pressure_min',\n",
    "             'blood_pressure_max','income_30k'\n",
    "            ]"
   ]
  },
  {
   "cell_type": "code",
   "execution_count": 64,
   "id": "cdaf4b86",
   "metadata": {},
   "outputs": [],
   "source": [
    "categorical = ['sex','diet','country','continent','hemisphere']"
   ]
  },
  {
   "cell_type": "code",
   "execution_count": 65,
   "id": "c69d04b1",
   "metadata": {},
   "outputs": [
    {
     "data": {
      "text/plain": [
       "['age',\n",
       " 'cholesterol',\n",
       " 'heart_rate',\n",
       " 'diabetes',\n",
       " 'family_history',\n",
       " 'smoking',\n",
       " 'obesity',\n",
       " 'alcohol_consumption',\n",
       " 'exercise_hours_per_week',\n",
       " 'previous_heart_problems',\n",
       " 'medication_use',\n",
       " 'stress_level',\n",
       " 'sedentary_hours_per_day',\n",
       " 'bmi',\n",
       " 'triglycerides',\n",
       " 'physical_activity_days_per_week',\n",
       " 'sleep_hours_per_day',\n",
       " 'blood_pressure_min',\n",
       " 'blood_pressure_max',\n",
       " 'income_30k']"
      ]
     },
     "execution_count": 65,
     "metadata": {},
     "output_type": "execute_result"
    }
   ],
   "source": [
    "numerical"
   ]
  },
  {
   "cell_type": "code",
   "execution_count": 66,
   "id": "860b7a45",
   "metadata": {},
   "outputs": [
    {
     "data": {
      "text/plain": [
       "['sex', 'diet', 'country', 'continent', 'hemisphere']"
      ]
     },
     "execution_count": 66,
     "metadata": {},
     "output_type": "execute_result"
    }
   ],
   "source": [
    "categorical"
   ]
  },
  {
   "cell_type": "code",
   "execution_count": 67,
   "id": "3b038c86",
   "metadata": {},
   "outputs": [
    {
     "data": {
      "text/html": [
       "<div>\n",
       "<style scoped>\n",
       "    .dataframe tbody tr th:only-of-type {\n",
       "        vertical-align: middle;\n",
       "    }\n",
       "\n",
       "    .dataframe tbody tr th {\n",
       "        vertical-align: top;\n",
       "    }\n",
       "\n",
       "    .dataframe thead th {\n",
       "        text-align: right;\n",
       "    }\n",
       "</style>\n",
       "<table border=\"1\" class=\"dataframe\">\n",
       "  <thead>\n",
       "    <tr style=\"text-align: right;\">\n",
       "      <th></th>\n",
       "      <th>age</th>\n",
       "      <th>cholesterol</th>\n",
       "      <th>heart_rate</th>\n",
       "      <th>diabetes</th>\n",
       "      <th>family_history</th>\n",
       "      <th>smoking</th>\n",
       "      <th>obesity</th>\n",
       "      <th>alcohol_consumption</th>\n",
       "      <th>exercise_hours_per_week</th>\n",
       "      <th>previous_heart_problems</th>\n",
       "      <th>medication_use</th>\n",
       "      <th>stress_level</th>\n",
       "      <th>sedentary_hours_per_day</th>\n",
       "      <th>bmi</th>\n",
       "      <th>triglycerides</th>\n",
       "      <th>physical_activity_days_per_week</th>\n",
       "      <th>sleep_hours_per_day</th>\n",
       "      <th>blood_pressure_min</th>\n",
       "      <th>blood_pressure_max</th>\n",
       "      <th>income_30k</th>\n",
       "    </tr>\n",
       "  </thead>\n",
       "  <tbody>\n",
       "    <tr>\n",
       "      <th>0</th>\n",
       "      <td>54</td>\n",
       "      <td>260</td>\n",
       "      <td>77</td>\n",
       "      <td>0</td>\n",
       "      <td>1</td>\n",
       "      <td>1</td>\n",
       "      <td>1</td>\n",
       "      <td>1</td>\n",
       "      <td>1</td>\n",
       "      <td>0</td>\n",
       "      <td>1</td>\n",
       "      <td>4</td>\n",
       "      <td>1</td>\n",
       "      <td>33</td>\n",
       "      <td>260</td>\n",
       "      <td>0</td>\n",
       "      <td>8</td>\n",
       "      <td>67</td>\n",
       "      <td>165</td>\n",
       "      <td>7</td>\n",
       "    </tr>\n",
       "    <tr>\n",
       "      <th>1</th>\n",
       "      <td>31</td>\n",
       "      <td>240</td>\n",
       "      <td>92</td>\n",
       "      <td>1</td>\n",
       "      <td>1</td>\n",
       "      <td>1</td>\n",
       "      <td>1</td>\n",
       "      <td>1</td>\n",
       "      <td>2</td>\n",
       "      <td>0</td>\n",
       "      <td>1</td>\n",
       "      <td>2</td>\n",
       "      <td>7</td>\n",
       "      <td>31</td>\n",
       "      <td>240</td>\n",
       "      <td>7</td>\n",
       "      <td>9</td>\n",
       "      <td>80</td>\n",
       "      <td>100</td>\n",
       "      <td>8</td>\n",
       "    </tr>\n",
       "    <tr>\n",
       "      <th>2</th>\n",
       "      <td>27</td>\n",
       "      <td>150</td>\n",
       "      <td>106</td>\n",
       "      <td>0</td>\n",
       "      <td>1</td>\n",
       "      <td>1</td>\n",
       "      <td>1</td>\n",
       "      <td>1</td>\n",
       "      <td>6</td>\n",
       "      <td>1</td>\n",
       "      <td>1</td>\n",
       "      <td>8</td>\n",
       "      <td>5</td>\n",
       "      <td>37</td>\n",
       "      <td>150</td>\n",
       "      <td>7</td>\n",
       "      <td>9</td>\n",
       "      <td>75</td>\n",
       "      <td>138</td>\n",
       "      <td>6</td>\n",
       "    </tr>\n",
       "    <tr>\n",
       "      <th>3</th>\n",
       "      <td>74</td>\n",
       "      <td>320</td>\n",
       "      <td>82</td>\n",
       "      <td>0</td>\n",
       "      <td>1</td>\n",
       "      <td>1</td>\n",
       "      <td>0</td>\n",
       "      <td>0</td>\n",
       "      <td>7</td>\n",
       "      <td>0</td>\n",
       "      <td>0</td>\n",
       "      <td>8</td>\n",
       "      <td>12</td>\n",
       "      <td>19</td>\n",
       "      <td>320</td>\n",
       "      <td>7</td>\n",
       "      <td>10</td>\n",
       "      <td>75</td>\n",
       "      <td>107</td>\n",
       "      <td>3</td>\n",
       "    </tr>\n",
       "    <tr>\n",
       "      <th>4</th>\n",
       "      <td>76</td>\n",
       "      <td>150</td>\n",
       "      <td>42</td>\n",
       "      <td>1</td>\n",
       "      <td>0</td>\n",
       "      <td>1</td>\n",
       "      <td>0</td>\n",
       "      <td>1</td>\n",
       "      <td>7</td>\n",
       "      <td>0</td>\n",
       "      <td>1</td>\n",
       "      <td>8</td>\n",
       "      <td>1</td>\n",
       "      <td>21</td>\n",
       "      <td>150</td>\n",
       "      <td>5</td>\n",
       "      <td>8</td>\n",
       "      <td>85</td>\n",
       "      <td>103</td>\n",
       "      <td>7</td>\n",
       "    </tr>\n",
       "  </tbody>\n",
       "</table>\n",
       "</div>"
      ],
      "text/plain": [
       "   age  cholesterol  heart_rate  diabetes  family_history  smoking  obesity  \\\n",
       "0   54          260          77         0               1        1        1   \n",
       "1   31          240          92         1               1        1        1   \n",
       "2   27          150         106         0               1        1        1   \n",
       "3   74          320          82         0               1        1        0   \n",
       "4   76          150          42         1               0        1        0   \n",
       "\n",
       "   alcohol_consumption  exercise_hours_per_week  previous_heart_problems  \\\n",
       "0                    1                        1                        0   \n",
       "1                    1                        2                        0   \n",
       "2                    1                        6                        1   \n",
       "3                    0                        7                        0   \n",
       "4                    1                        7                        0   \n",
       "\n",
       "   medication_use  stress_level  sedentary_hours_per_day  bmi  triglycerides  \\\n",
       "0               1             4                        1   33            260   \n",
       "1               1             2                        7   31            240   \n",
       "2               1             8                        5   37            150   \n",
       "3               0             8                       12   19            320   \n",
       "4               1             8                        1   21            150   \n",
       "\n",
       "   physical_activity_days_per_week  sleep_hours_per_day  blood_pressure_min  \\\n",
       "0                                0                    8                  67   \n",
       "1                                7                    9                  80   \n",
       "2                                7                    9                  75   \n",
       "3                                7                   10                  75   \n",
       "4                                5                    8                  85   \n",
       "\n",
       "   blood_pressure_max  income_30k  \n",
       "0                 165           7  \n",
       "1                 100           8  \n",
       "2                 138           6  \n",
       "3                 107           3  \n",
       "4                 103           7  "
      ]
     },
     "execution_count": 67,
     "metadata": {},
     "output_type": "execute_result"
    }
   ],
   "source": [
    "df_full_train[numerical].head()"
   ]
  },
  {
   "cell_type": "code",
   "execution_count": 68,
   "id": "3886b96c",
   "metadata": {},
   "outputs": [
    {
     "data": {
      "text/html": [
       "<div>\n",
       "<style scoped>\n",
       "    .dataframe tbody tr th:only-of-type {\n",
       "        vertical-align: middle;\n",
       "    }\n",
       "\n",
       "    .dataframe tbody tr th {\n",
       "        vertical-align: top;\n",
       "    }\n",
       "\n",
       "    .dataframe thead th {\n",
       "        text-align: right;\n",
       "    }\n",
       "</style>\n",
       "<table border=\"1\" class=\"dataframe\">\n",
       "  <thead>\n",
       "    <tr style=\"text-align: right;\">\n",
       "      <th></th>\n",
       "      <th>sex</th>\n",
       "      <th>diet</th>\n",
       "      <th>country</th>\n",
       "      <th>continent</th>\n",
       "      <th>hemisphere</th>\n",
       "    </tr>\n",
       "  </thead>\n",
       "  <tbody>\n",
       "    <tr>\n",
       "      <th>0</th>\n",
       "      <td>male</td>\n",
       "      <td>unhealthy</td>\n",
       "      <td>argentina</td>\n",
       "      <td>south_america</td>\n",
       "      <td>southern_hemisphere</td>\n",
       "    </tr>\n",
       "    <tr>\n",
       "      <th>1</th>\n",
       "      <td>male</td>\n",
       "      <td>unhealthy</td>\n",
       "      <td>united_states</td>\n",
       "      <td>north_america</td>\n",
       "      <td>northern_hemisphere</td>\n",
       "    </tr>\n",
       "    <tr>\n",
       "      <th>2</th>\n",
       "      <td>male</td>\n",
       "      <td>average</td>\n",
       "      <td>canada</td>\n",
       "      <td>north_america</td>\n",
       "      <td>northern_hemisphere</td>\n",
       "    </tr>\n",
       "    <tr>\n",
       "      <th>3</th>\n",
       "      <td>male</td>\n",
       "      <td>average</td>\n",
       "      <td>united_kingdom</td>\n",
       "      <td>europe</td>\n",
       "      <td>northern_hemisphere</td>\n",
       "    </tr>\n",
       "    <tr>\n",
       "      <th>4</th>\n",
       "      <td>male</td>\n",
       "      <td>healthy</td>\n",
       "      <td>vietnam</td>\n",
       "      <td>asia</td>\n",
       "      <td>northern_hemisphere</td>\n",
       "    </tr>\n",
       "  </tbody>\n",
       "</table>\n",
       "</div>"
      ],
      "text/plain": [
       "    sex       diet         country      continent           hemisphere\n",
       "0  male  unhealthy       argentina  south_america  southern_hemisphere\n",
       "1  male  unhealthy   united_states  north_america  northern_hemisphere\n",
       "2  male    average          canada  north_america  northern_hemisphere\n",
       "3  male    average  united_kingdom         europe  northern_hemisphere\n",
       "4  male    healthy         vietnam           asia  northern_hemisphere"
      ]
     },
     "execution_count": 68,
     "metadata": {},
     "output_type": "execute_result"
    }
   ],
   "source": [
    "df_full_train[categorical].head()"
   ]
  },
  {
   "cell_type": "code",
   "execution_count": 69,
   "id": "7fe354c5",
   "metadata": {},
   "outputs": [
    {
     "data": {
      "text/plain": [
       "sex            2\n",
       "diet           3\n",
       "country       20\n",
       "continent      6\n",
       "hemisphere     2\n",
       "dtype: int64"
      ]
     },
     "execution_count": 69,
     "metadata": {},
     "output_type": "execute_result"
    }
   ],
   "source": [
    "df_full_train[categorical].nunique()"
   ]
  },
  {
   "cell_type": "markdown",
   "id": "bf6f9906",
   "metadata": {},
   "source": [
    "## Churn rate and risk ratio :"
   ]
  },
  {
   "cell_type": "code",
   "execution_count": 70,
   "id": "d0bfc9e1",
   "metadata": {},
   "outputs": [
    {
     "data": {
      "text/plain": [
       "0.36"
      ]
     },
     "execution_count": 70,
     "metadata": {},
     "output_type": "execute_result"
    }
   ],
   "source": [
    "global_heart_attack_risk_rate.round(2)"
   ]
  },
  {
   "cell_type": "code",
   "execution_count": 71,
   "id": "15d644f0",
   "metadata": {},
   "outputs": [
    {
     "name": "stdout",
     "output_type": "stream",
     "text": [
      "sex\n"
     ]
    },
    {
     "data": {
      "text/html": [
       "<div>\n",
       "<style scoped>\n",
       "    .dataframe tbody tr th:only-of-type {\n",
       "        vertical-align: middle;\n",
       "    }\n",
       "\n",
       "    .dataframe tbody tr th {\n",
       "        vertical-align: top;\n",
       "    }\n",
       "\n",
       "    .dataframe thead th {\n",
       "        text-align: right;\n",
       "    }\n",
       "</style>\n",
       "<table border=\"1\" class=\"dataframe\">\n",
       "  <thead>\n",
       "    <tr style=\"text-align: right;\">\n",
       "      <th></th>\n",
       "      <th>mean</th>\n",
       "      <th>count</th>\n",
       "      <th>diff</th>\n",
       "      <th>risk</th>\n",
       "    </tr>\n",
       "    <tr>\n",
       "      <th>sex</th>\n",
       "      <th></th>\n",
       "      <th></th>\n",
       "      <th></th>\n",
       "      <th></th>\n",
       "    </tr>\n",
       "  </thead>\n",
       "  <tbody>\n",
       "    <tr>\n",
       "      <th>female</th>\n",
       "      <td>0.361571</td>\n",
       "      <td>2113</td>\n",
       "      <td>0.000944</td>\n",
       "      <td>1.002616</td>\n",
       "    </tr>\n",
       "    <tr>\n",
       "      <th>male</th>\n",
       "      <td>0.360221</td>\n",
       "      <td>4897</td>\n",
       "      <td>-0.000407</td>\n",
       "      <td>0.998871</td>\n",
       "    </tr>\n",
       "  </tbody>\n",
       "</table>\n",
       "</div>"
      ],
      "text/plain": [
       "            mean  count      diff      risk\n",
       "sex                                        \n",
       "female  0.361571   2113  0.000944  1.002616\n",
       "male    0.360221   4897 -0.000407  0.998871"
      ]
     },
     "metadata": {},
     "output_type": "display_data"
    },
    {
     "name": "stdout",
     "output_type": "stream",
     "text": [
      "\n",
      "diet\n"
     ]
    },
    {
     "data": {
      "text/html": [
       "<div>\n",
       "<style scoped>\n",
       "    .dataframe tbody tr th:only-of-type {\n",
       "        vertical-align: middle;\n",
       "    }\n",
       "\n",
       "    .dataframe tbody tr th {\n",
       "        vertical-align: top;\n",
       "    }\n",
       "\n",
       "    .dataframe thead th {\n",
       "        text-align: right;\n",
       "    }\n",
       "</style>\n",
       "<table border=\"1\" class=\"dataframe\">\n",
       "  <thead>\n",
       "    <tr style=\"text-align: right;\">\n",
       "      <th></th>\n",
       "      <th>mean</th>\n",
       "      <th>count</th>\n",
       "      <th>diff</th>\n",
       "      <th>risk</th>\n",
       "    </tr>\n",
       "    <tr>\n",
       "      <th>diet</th>\n",
       "      <th></th>\n",
       "      <th></th>\n",
       "      <th></th>\n",
       "      <th></th>\n",
       "    </tr>\n",
       "  </thead>\n",
       "  <tbody>\n",
       "    <tr>\n",
       "      <th>average</th>\n",
       "      <td>0.348142</td>\n",
       "      <td>2341</td>\n",
       "      <td>-0.012486</td>\n",
       "      <td>0.965377</td>\n",
       "    </tr>\n",
       "    <tr>\n",
       "      <th>healthy</th>\n",
       "      <td>0.370244</td>\n",
       "      <td>2339</td>\n",
       "      <td>0.009616</td>\n",
       "      <td>1.026665</td>\n",
       "    </tr>\n",
       "    <tr>\n",
       "      <th>unhealthy</th>\n",
       "      <td>0.363519</td>\n",
       "      <td>2330</td>\n",
       "      <td>0.002892</td>\n",
       "      <td>1.008018</td>\n",
       "    </tr>\n",
       "  </tbody>\n",
       "</table>\n",
       "</div>"
      ],
      "text/plain": [
       "               mean  count      diff      risk\n",
       "diet                                          \n",
       "average    0.348142   2341 -0.012486  0.965377\n",
       "healthy    0.370244   2339  0.009616  1.026665\n",
       "unhealthy  0.363519   2330  0.002892  1.008018"
      ]
     },
     "metadata": {},
     "output_type": "display_data"
    },
    {
     "name": "stdout",
     "output_type": "stream",
     "text": [
      "\n",
      "country\n"
     ]
    },
    {
     "data": {
      "text/html": [
       "<div>\n",
       "<style scoped>\n",
       "    .dataframe tbody tr th:only-of-type {\n",
       "        vertical-align: middle;\n",
       "    }\n",
       "\n",
       "    .dataframe tbody tr th {\n",
       "        vertical-align: top;\n",
       "    }\n",
       "\n",
       "    .dataframe thead th {\n",
       "        text-align: right;\n",
       "    }\n",
       "</style>\n",
       "<table border=\"1\" class=\"dataframe\">\n",
       "  <thead>\n",
       "    <tr style=\"text-align: right;\">\n",
       "      <th></th>\n",
       "      <th>mean</th>\n",
       "      <th>count</th>\n",
       "      <th>diff</th>\n",
       "      <th>risk</th>\n",
       "    </tr>\n",
       "    <tr>\n",
       "      <th>country</th>\n",
       "      <th></th>\n",
       "      <th></th>\n",
       "      <th></th>\n",
       "      <th></th>\n",
       "    </tr>\n",
       "  </thead>\n",
       "  <tbody>\n",
       "    <tr>\n",
       "      <th>argentina</th>\n",
       "      <td>0.367292</td>\n",
       "      <td>373</td>\n",
       "      <td>0.006665</td>\n",
       "      <td>1.018480</td>\n",
       "    </tr>\n",
       "    <tr>\n",
       "      <th>australia</th>\n",
       "      <td>0.374317</td>\n",
       "      <td>366</td>\n",
       "      <td>0.013689</td>\n",
       "      <td>1.037960</td>\n",
       "    </tr>\n",
       "    <tr>\n",
       "      <th>brazil</th>\n",
       "      <td>0.366667</td>\n",
       "      <td>360</td>\n",
       "      <td>0.006039</td>\n",
       "      <td>1.016746</td>\n",
       "    </tr>\n",
       "    <tr>\n",
       "      <th>canada</th>\n",
       "      <td>0.383523</td>\n",
       "      <td>352</td>\n",
       "      <td>0.022895</td>\n",
       "      <td>1.063487</td>\n",
       "    </tr>\n",
       "    <tr>\n",
       "      <th>china</th>\n",
       "      <td>0.363889</td>\n",
       "      <td>360</td>\n",
       "      <td>0.003261</td>\n",
       "      <td>1.009043</td>\n",
       "    </tr>\n",
       "    <tr>\n",
       "      <th>colombia</th>\n",
       "      <td>0.378299</td>\n",
       "      <td>341</td>\n",
       "      <td>0.017671</td>\n",
       "      <td>1.049002</td>\n",
       "    </tr>\n",
       "    <tr>\n",
       "      <th>france</th>\n",
       "      <td>0.365714</td>\n",
       "      <td>350</td>\n",
       "      <td>0.005087</td>\n",
       "      <td>1.014105</td>\n",
       "    </tr>\n",
       "    <tr>\n",
       "      <th>germany</th>\n",
       "      <td>0.341969</td>\n",
       "      <td>386</td>\n",
       "      <td>-0.018659</td>\n",
       "      <td>0.948260</td>\n",
       "    </tr>\n",
       "    <tr>\n",
       "      <th>india</th>\n",
       "      <td>0.320635</td>\n",
       "      <td>315</td>\n",
       "      <td>-0.039993</td>\n",
       "      <td>0.889102</td>\n",
       "    </tr>\n",
       "    <tr>\n",
       "      <th>italy</th>\n",
       "      <td>0.306748</td>\n",
       "      <td>326</td>\n",
       "      <td>-0.053879</td>\n",
       "      <td>0.850596</td>\n",
       "    </tr>\n",
       "    <tr>\n",
       "      <th>japan</th>\n",
       "      <td>0.336111</td>\n",
       "      <td>360</td>\n",
       "      <td>-0.024517</td>\n",
       "      <td>0.932017</td>\n",
       "    </tr>\n",
       "    <tr>\n",
       "      <th>new_zealand</th>\n",
       "      <td>0.361194</td>\n",
       "      <td>335</td>\n",
       "      <td>0.000566</td>\n",
       "      <td>1.001570</td>\n",
       "    </tr>\n",
       "    <tr>\n",
       "      <th>nigeria</th>\n",
       "      <td>0.377410</td>\n",
       "      <td>363</td>\n",
       "      <td>0.016783</td>\n",
       "      <td>1.046538</td>\n",
       "    </tr>\n",
       "    <tr>\n",
       "      <th>south_africa</th>\n",
       "      <td>0.337110</td>\n",
       "      <td>353</td>\n",
       "      <td>-0.023517</td>\n",
       "      <td>0.934788</td>\n",
       "    </tr>\n",
       "    <tr>\n",
       "      <th>south_korea</th>\n",
       "      <td>0.419075</td>\n",
       "      <td>346</td>\n",
       "      <td>0.058447</td>\n",
       "      <td>1.162072</td>\n",
       "    </tr>\n",
       "    <tr>\n",
       "      <th>spain</th>\n",
       "      <td>0.346154</td>\n",
       "      <td>338</td>\n",
       "      <td>-0.014474</td>\n",
       "      <td>0.959865</td>\n",
       "    </tr>\n",
       "    <tr>\n",
       "      <th>thailand</th>\n",
       "      <td>0.364943</td>\n",
       "      <td>348</td>\n",
       "      <td>0.004315</td>\n",
       "      <td>1.011965</td>\n",
       "    </tr>\n",
       "    <tr>\n",
       "      <th>united_kingdom</th>\n",
       "      <td>0.364146</td>\n",
       "      <td>357</td>\n",
       "      <td>0.003518</td>\n",
       "      <td>1.009755</td>\n",
       "    </tr>\n",
       "    <tr>\n",
       "      <th>united_states</th>\n",
       "      <td>0.387097</td>\n",
       "      <td>341</td>\n",
       "      <td>0.026469</td>\n",
       "      <td>1.073397</td>\n",
       "    </tr>\n",
       "    <tr>\n",
       "      <th>vietnam</th>\n",
       "      <td>0.344118</td>\n",
       "      <td>340</td>\n",
       "      <td>-0.016510</td>\n",
       "      <td>0.954219</td>\n",
       "    </tr>\n",
       "  </tbody>\n",
       "</table>\n",
       "</div>"
      ],
      "text/plain": [
       "                    mean  count      diff      risk\n",
       "country                                            \n",
       "argentina       0.367292    373  0.006665  1.018480\n",
       "australia       0.374317    366  0.013689  1.037960\n",
       "brazil          0.366667    360  0.006039  1.016746\n",
       "canada          0.383523    352  0.022895  1.063487\n",
       "china           0.363889    360  0.003261  1.009043\n",
       "colombia        0.378299    341  0.017671  1.049002\n",
       "france          0.365714    350  0.005087  1.014105\n",
       "germany         0.341969    386 -0.018659  0.948260\n",
       "india           0.320635    315 -0.039993  0.889102\n",
       "italy           0.306748    326 -0.053879  0.850596\n",
       "japan           0.336111    360 -0.024517  0.932017\n",
       "new_zealand     0.361194    335  0.000566  1.001570\n",
       "nigeria         0.377410    363  0.016783  1.046538\n",
       "south_africa    0.337110    353 -0.023517  0.934788\n",
       "south_korea     0.419075    346  0.058447  1.162072\n",
       "spain           0.346154    338 -0.014474  0.959865\n",
       "thailand        0.364943    348  0.004315  1.011965\n",
       "united_kingdom  0.364146    357  0.003518  1.009755\n",
       "united_states   0.387097    341  0.026469  1.073397\n",
       "vietnam         0.344118    340 -0.016510  0.954219"
      ]
     },
     "metadata": {},
     "output_type": "display_data"
    },
    {
     "name": "stdout",
     "output_type": "stream",
     "text": [
      "\n",
      "continent\n"
     ]
    },
    {
     "data": {
      "text/html": [
       "<div>\n",
       "<style scoped>\n",
       "    .dataframe tbody tr th:only-of-type {\n",
       "        vertical-align: middle;\n",
       "    }\n",
       "\n",
       "    .dataframe tbody tr th {\n",
       "        vertical-align: top;\n",
       "    }\n",
       "\n",
       "    .dataframe thead th {\n",
       "        text-align: right;\n",
       "    }\n",
       "</style>\n",
       "<table border=\"1\" class=\"dataframe\">\n",
       "  <thead>\n",
       "    <tr style=\"text-align: right;\">\n",
       "      <th></th>\n",
       "      <th>mean</th>\n",
       "      <th>count</th>\n",
       "      <th>diff</th>\n",
       "      <th>risk</th>\n",
       "    </tr>\n",
       "    <tr>\n",
       "      <th>continent</th>\n",
       "      <th></th>\n",
       "      <th></th>\n",
       "      <th></th>\n",
       "      <th></th>\n",
       "    </tr>\n",
       "  </thead>\n",
       "  <tbody>\n",
       "    <tr>\n",
       "      <th>africa</th>\n",
       "      <td>0.357542</td>\n",
       "      <td>716</td>\n",
       "      <td>-0.003086</td>\n",
       "      <td>0.991443</td>\n",
       "    </tr>\n",
       "    <tr>\n",
       "      <th>asia</th>\n",
       "      <td>0.358627</td>\n",
       "      <td>2069</td>\n",
       "      <td>-0.002000</td>\n",
       "      <td>0.994453</td>\n",
       "    </tr>\n",
       "    <tr>\n",
       "      <th>australia</th>\n",
       "      <td>0.368046</td>\n",
       "      <td>701</td>\n",
       "      <td>0.007418</td>\n",
       "      <td>1.020570</td>\n",
       "    </tr>\n",
       "    <tr>\n",
       "      <th>europe</th>\n",
       "      <td>0.345475</td>\n",
       "      <td>1757</td>\n",
       "      <td>-0.015152</td>\n",
       "      <td>0.957983</td>\n",
       "    </tr>\n",
       "    <tr>\n",
       "      <th>north_america</th>\n",
       "      <td>0.385281</td>\n",
       "      <td>693</td>\n",
       "      <td>0.024654</td>\n",
       "      <td>1.068363</td>\n",
       "    </tr>\n",
       "    <tr>\n",
       "      <th>south_america</th>\n",
       "      <td>0.370577</td>\n",
       "      <td>1074</td>\n",
       "      <td>0.009950</td>\n",
       "      <td>1.027590</td>\n",
       "    </tr>\n",
       "  </tbody>\n",
       "</table>\n",
       "</div>"
      ],
      "text/plain": [
       "                   mean  count      diff      risk\n",
       "continent                                         \n",
       "africa         0.357542    716 -0.003086  0.991443\n",
       "asia           0.358627   2069 -0.002000  0.994453\n",
       "australia      0.368046    701  0.007418  1.020570\n",
       "europe         0.345475   1757 -0.015152  0.957983\n",
       "north_america  0.385281    693  0.024654  1.068363\n",
       "south_america  0.370577   1074  0.009950  1.027590"
      ]
     },
     "metadata": {},
     "output_type": "display_data"
    },
    {
     "name": "stdout",
     "output_type": "stream",
     "text": [
      "\n",
      "hemisphere\n"
     ]
    },
    {
     "data": {
      "text/html": [
       "<div>\n",
       "<style scoped>\n",
       "    .dataframe tbody tr th:only-of-type {\n",
       "        vertical-align: middle;\n",
       "    }\n",
       "\n",
       "    .dataframe tbody tr th {\n",
       "        vertical-align: top;\n",
       "    }\n",
       "\n",
       "    .dataframe thead th {\n",
       "        text-align: right;\n",
       "    }\n",
       "</style>\n",
       "<table border=\"1\" class=\"dataframe\">\n",
       "  <thead>\n",
       "    <tr style=\"text-align: right;\">\n",
       "      <th></th>\n",
       "      <th>mean</th>\n",
       "      <th>count</th>\n",
       "      <th>diff</th>\n",
       "      <th>risk</th>\n",
       "    </tr>\n",
       "    <tr>\n",
       "      <th>hemisphere</th>\n",
       "      <th></th>\n",
       "      <th></th>\n",
       "      <th></th>\n",
       "      <th></th>\n",
       "    </tr>\n",
       "  </thead>\n",
       "  <tbody>\n",
       "    <tr>\n",
       "      <th>northern_hemisphere</th>\n",
       "      <td>0.365212</td>\n",
       "      <td>4559</td>\n",
       "      <td>0.004584</td>\n",
       "      <td>1.012711</td>\n",
       "    </tr>\n",
       "    <tr>\n",
       "      <th>southern_hemisphere</th>\n",
       "      <td>0.352101</td>\n",
       "      <td>2451</td>\n",
       "      <td>-0.008526</td>\n",
       "      <td>0.976357</td>\n",
       "    </tr>\n",
       "  </tbody>\n",
       "</table>\n",
       "</div>"
      ],
      "text/plain": [
       "                         mean  count      diff      risk\n",
       "hemisphere                                              \n",
       "northern_hemisphere  0.365212   4559  0.004584  1.012711\n",
       "southern_hemisphere  0.352101   2451 -0.008526  0.976357"
      ]
     },
     "metadata": {},
     "output_type": "display_data"
    },
    {
     "name": "stdout",
     "output_type": "stream",
     "text": [
      "\n"
     ]
    }
   ],
   "source": [
    "for c in categorical:\n",
    "    print(c)\n",
    "    df_group = df_full_train.groupby(c).heart_attack_risk.agg(['mean', 'count'])\n",
    "    df_group['diff'] = df_group['mean'] - global_heart_attack_risk_rate\n",
    "    df_group['risk'] = df_group['mean'] / global_heart_attack_risk_rate\n",
    "    display(df_group)\n",
    "    print()"
   ]
  },
  {
   "cell_type": "markdown",
   "id": "16ad1b1e",
   "metadata": {},
   "source": [
    "####  These values are very similar, there are some interesting difference only in relation with the country "
   ]
  },
  {
   "cell_type": "markdown",
   "id": "07816c2f",
   "metadata": {},
   "source": [
    "## Mutual information : order categorical variable for importance"
   ]
  },
  {
   "cell_type": "code",
   "execution_count": 72,
   "id": "85b1a30f",
   "metadata": {},
   "outputs": [
    {
     "data": {
      "text/plain": [
       "0.0001"
      ]
     },
     "execution_count": 72,
     "metadata": {},
     "output_type": "execute_result"
    }
   ],
   "source": [
    "(mutual_info_score(df_full_train.heart_attack_risk, df_full_train.hemisphere)).round(4)"
   ]
  },
  {
   "cell_type": "code",
   "execution_count": 73,
   "id": "caa1e4c3",
   "metadata": {},
   "outputs": [],
   "source": [
    "def mutual_info_heart_attack_risk_score(series):\n",
    "    return (mutual_info_score(series, df_full_train.heart_attack_risk)).round(4)"
   ]
  },
  {
   "cell_type": "code",
   "execution_count": 74,
   "id": "1ec5e398",
   "metadata": {},
   "outputs": [
    {
     "data": {
      "text/plain": [
       "country       0.0013\n",
       "continent     0.0003\n",
       "diet          0.0002\n",
       "hemisphere    0.0001\n",
       "sex           0.0000\n",
       "dtype: float64"
      ]
     },
     "execution_count": 74,
     "metadata": {},
     "output_type": "execute_result"
    }
   ],
   "source": [
    "mi = df_full_train[categorical].apply(mutual_info_heart_attack_risk_score) \n",
    "mi.sort_values(ascending=False)"
   ]
  },
  {
   "cell_type": "markdown",
   "id": "0f492ca0",
   "metadata": {},
   "source": [
    "### Poorly related categorical variable"
   ]
  },
  {
   "cell_type": "markdown",
   "id": "ba4d5bff",
   "metadata": {},
   "source": [
    "## Correlation : order numerical variable for importance"
   ]
  },
  {
   "cell_type": "code",
   "execution_count": 75,
   "id": "9ace3e37",
   "metadata": {},
   "outputs": [
    {
     "data": {
      "text/html": [
       "<div>\n",
       "<style scoped>\n",
       "    .dataframe tbody tr th:only-of-type {\n",
       "        vertical-align: middle;\n",
       "    }\n",
       "\n",
       "    .dataframe tbody tr th {\n",
       "        vertical-align: top;\n",
       "    }\n",
       "\n",
       "    .dataframe thead th {\n",
       "        text-align: right;\n",
       "    }\n",
       "</style>\n",
       "<table border=\"1\" class=\"dataframe\">\n",
       "  <thead>\n",
       "    <tr style=\"text-align: right;\">\n",
       "      <th></th>\n",
       "      <th>0</th>\n",
       "      <th>1</th>\n",
       "      <th>2</th>\n",
       "      <th>3</th>\n",
       "      <th>4</th>\n",
       "      <th>5</th>\n",
       "      <th>6</th>\n",
       "      <th>7</th>\n",
       "      <th>8</th>\n",
       "      <th>9</th>\n",
       "      <th>...</th>\n",
       "      <th>7000</th>\n",
       "      <th>7001</th>\n",
       "      <th>7002</th>\n",
       "      <th>7003</th>\n",
       "      <th>7004</th>\n",
       "      <th>7005</th>\n",
       "      <th>7006</th>\n",
       "      <th>7007</th>\n",
       "      <th>7008</th>\n",
       "      <th>7009</th>\n",
       "    </tr>\n",
       "  </thead>\n",
       "  <tbody>\n",
       "    <tr>\n",
       "      <th>age</th>\n",
       "      <td>54</td>\n",
       "      <td>31</td>\n",
       "      <td>27</td>\n",
       "      <td>74</td>\n",
       "      <td>76</td>\n",
       "      <td>59</td>\n",
       "      <td>76</td>\n",
       "      <td>32</td>\n",
       "      <td>36</td>\n",
       "      <td>34</td>\n",
       "      <td>...</td>\n",
       "      <td>66</td>\n",
       "      <td>59</td>\n",
       "      <td>37</td>\n",
       "      <td>74</td>\n",
       "      <td>63</td>\n",
       "      <td>29</td>\n",
       "      <td>70</td>\n",
       "      <td>79</td>\n",
       "      <td>50</td>\n",
       "      <td>75</td>\n",
       "    </tr>\n",
       "    <tr>\n",
       "      <th>cholesterol</th>\n",
       "      <td>260</td>\n",
       "      <td>240</td>\n",
       "      <td>150</td>\n",
       "      <td>320</td>\n",
       "      <td>150</td>\n",
       "      <td>390</td>\n",
       "      <td>380</td>\n",
       "      <td>400</td>\n",
       "      <td>360</td>\n",
       "      <td>260</td>\n",
       "      <td>...</td>\n",
       "      <td>360</td>\n",
       "      <td>200</td>\n",
       "      <td>330</td>\n",
       "      <td>280</td>\n",
       "      <td>300</td>\n",
       "      <td>400</td>\n",
       "      <td>280</td>\n",
       "      <td>140</td>\n",
       "      <td>350</td>\n",
       "      <td>390</td>\n",
       "    </tr>\n",
       "    <tr>\n",
       "      <th>heart_rate</th>\n",
       "      <td>77</td>\n",
       "      <td>92</td>\n",
       "      <td>106</td>\n",
       "      <td>82</td>\n",
       "      <td>42</td>\n",
       "      <td>65</td>\n",
       "      <td>100</td>\n",
       "      <td>109</td>\n",
       "      <td>63</td>\n",
       "      <td>44</td>\n",
       "      <td>...</td>\n",
       "      <td>84</td>\n",
       "      <td>82</td>\n",
       "      <td>68</td>\n",
       "      <td>58</td>\n",
       "      <td>77</td>\n",
       "      <td>94</td>\n",
       "      <td>88</td>\n",
       "      <td>77</td>\n",
       "      <td>68</td>\n",
       "      <td>51</td>\n",
       "    </tr>\n",
       "    <tr>\n",
       "      <th>diabetes</th>\n",
       "      <td>0</td>\n",
       "      <td>1</td>\n",
       "      <td>0</td>\n",
       "      <td>0</td>\n",
       "      <td>1</td>\n",
       "      <td>0</td>\n",
       "      <td>0</td>\n",
       "      <td>0</td>\n",
       "      <td>0</td>\n",
       "      <td>1</td>\n",
       "      <td>...</td>\n",
       "      <td>0</td>\n",
       "      <td>1</td>\n",
       "      <td>1</td>\n",
       "      <td>0</td>\n",
       "      <td>1</td>\n",
       "      <td>0</td>\n",
       "      <td>0</td>\n",
       "      <td>1</td>\n",
       "      <td>1</td>\n",
       "      <td>0</td>\n",
       "    </tr>\n",
       "    <tr>\n",
       "      <th>family_history</th>\n",
       "      <td>1</td>\n",
       "      <td>1</td>\n",
       "      <td>1</td>\n",
       "      <td>1</td>\n",
       "      <td>0</td>\n",
       "      <td>1</td>\n",
       "      <td>0</td>\n",
       "      <td>1</td>\n",
       "      <td>1</td>\n",
       "      <td>0</td>\n",
       "      <td>...</td>\n",
       "      <td>1</td>\n",
       "      <td>0</td>\n",
       "      <td>1</td>\n",
       "      <td>0</td>\n",
       "      <td>1</td>\n",
       "      <td>0</td>\n",
       "      <td>0</td>\n",
       "      <td>0</td>\n",
       "      <td>1</td>\n",
       "      <td>1</td>\n",
       "    </tr>\n",
       "    <tr>\n",
       "      <th>smoking</th>\n",
       "      <td>1</td>\n",
       "      <td>1</td>\n",
       "      <td>1</td>\n",
       "      <td>1</td>\n",
       "      <td>1</td>\n",
       "      <td>1</td>\n",
       "      <td>1</td>\n",
       "      <td>1</td>\n",
       "      <td>0</td>\n",
       "      <td>1</td>\n",
       "      <td>...</td>\n",
       "      <td>1</td>\n",
       "      <td>1</td>\n",
       "      <td>1</td>\n",
       "      <td>1</td>\n",
       "      <td>1</td>\n",
       "      <td>0</td>\n",
       "      <td>1</td>\n",
       "      <td>1</td>\n",
       "      <td>1</td>\n",
       "      <td>1</td>\n",
       "    </tr>\n",
       "    <tr>\n",
       "      <th>obesity</th>\n",
       "      <td>1</td>\n",
       "      <td>1</td>\n",
       "      <td>1</td>\n",
       "      <td>0</td>\n",
       "      <td>0</td>\n",
       "      <td>0</td>\n",
       "      <td>0</td>\n",
       "      <td>1</td>\n",
       "      <td>1</td>\n",
       "      <td>0</td>\n",
       "      <td>...</td>\n",
       "      <td>1</td>\n",
       "      <td>0</td>\n",
       "      <td>0</td>\n",
       "      <td>0</td>\n",
       "      <td>1</td>\n",
       "      <td>0</td>\n",
       "      <td>1</td>\n",
       "      <td>0</td>\n",
       "      <td>0</td>\n",
       "      <td>0</td>\n",
       "    </tr>\n",
       "    <tr>\n",
       "      <th>alcohol_consumption</th>\n",
       "      <td>1</td>\n",
       "      <td>1</td>\n",
       "      <td>1</td>\n",
       "      <td>0</td>\n",
       "      <td>1</td>\n",
       "      <td>1</td>\n",
       "      <td>1</td>\n",
       "      <td>0</td>\n",
       "      <td>0</td>\n",
       "      <td>1</td>\n",
       "      <td>...</td>\n",
       "      <td>0</td>\n",
       "      <td>1</td>\n",
       "      <td>1</td>\n",
       "      <td>1</td>\n",
       "      <td>1</td>\n",
       "      <td>1</td>\n",
       "      <td>1</td>\n",
       "      <td>0</td>\n",
       "      <td>1</td>\n",
       "      <td>0</td>\n",
       "    </tr>\n",
       "    <tr>\n",
       "      <th>exercise_hours_per_week</th>\n",
       "      <td>1</td>\n",
       "      <td>2</td>\n",
       "      <td>6</td>\n",
       "      <td>7</td>\n",
       "      <td>7</td>\n",
       "      <td>10</td>\n",
       "      <td>10</td>\n",
       "      <td>6</td>\n",
       "      <td>4</td>\n",
       "      <td>12</td>\n",
       "      <td>...</td>\n",
       "      <td>7</td>\n",
       "      <td>5</td>\n",
       "      <td>1</td>\n",
       "      <td>7</td>\n",
       "      <td>8</td>\n",
       "      <td>20</td>\n",
       "      <td>11</td>\n",
       "      <td>18</td>\n",
       "      <td>5</td>\n",
       "      <td>12</td>\n",
       "    </tr>\n",
       "    <tr>\n",
       "      <th>previous_heart_problems</th>\n",
       "      <td>0</td>\n",
       "      <td>0</td>\n",
       "      <td>1</td>\n",
       "      <td>0</td>\n",
       "      <td>0</td>\n",
       "      <td>0</td>\n",
       "      <td>1</td>\n",
       "      <td>0</td>\n",
       "      <td>1</td>\n",
       "      <td>0</td>\n",
       "      <td>...</td>\n",
       "      <td>1</td>\n",
       "      <td>0</td>\n",
       "      <td>0</td>\n",
       "      <td>0</td>\n",
       "      <td>1</td>\n",
       "      <td>1</td>\n",
       "      <td>0</td>\n",
       "      <td>1</td>\n",
       "      <td>1</td>\n",
       "      <td>0</td>\n",
       "    </tr>\n",
       "    <tr>\n",
       "      <th>medication_use</th>\n",
       "      <td>1</td>\n",
       "      <td>1</td>\n",
       "      <td>1</td>\n",
       "      <td>0</td>\n",
       "      <td>1</td>\n",
       "      <td>0</td>\n",
       "      <td>1</td>\n",
       "      <td>1</td>\n",
       "      <td>1</td>\n",
       "      <td>1</td>\n",
       "      <td>...</td>\n",
       "      <td>0</td>\n",
       "      <td>0</td>\n",
       "      <td>0</td>\n",
       "      <td>0</td>\n",
       "      <td>0</td>\n",
       "      <td>1</td>\n",
       "      <td>1</td>\n",
       "      <td>0</td>\n",
       "      <td>0</td>\n",
       "      <td>1</td>\n",
       "    </tr>\n",
       "    <tr>\n",
       "      <th>stress_level</th>\n",
       "      <td>4</td>\n",
       "      <td>2</td>\n",
       "      <td>8</td>\n",
       "      <td>8</td>\n",
       "      <td>8</td>\n",
       "      <td>2</td>\n",
       "      <td>2</td>\n",
       "      <td>4</td>\n",
       "      <td>9</td>\n",
       "      <td>4</td>\n",
       "      <td>...</td>\n",
       "      <td>7</td>\n",
       "      <td>5</td>\n",
       "      <td>8</td>\n",
       "      <td>6</td>\n",
       "      <td>8</td>\n",
       "      <td>9</td>\n",
       "      <td>7</td>\n",
       "      <td>5</td>\n",
       "      <td>5</td>\n",
       "      <td>2</td>\n",
       "    </tr>\n",
       "    <tr>\n",
       "      <th>sedentary_hours_per_day</th>\n",
       "      <td>1</td>\n",
       "      <td>7</td>\n",
       "      <td>5</td>\n",
       "      <td>12</td>\n",
       "      <td>1</td>\n",
       "      <td>2</td>\n",
       "      <td>2</td>\n",
       "      <td>11</td>\n",
       "      <td>1</td>\n",
       "      <td>2</td>\n",
       "      <td>...</td>\n",
       "      <td>8</td>\n",
       "      <td>5</td>\n",
       "      <td>3</td>\n",
       "      <td>0</td>\n",
       "      <td>2</td>\n",
       "      <td>4</td>\n",
       "      <td>6</td>\n",
       "      <td>2</td>\n",
       "      <td>2</td>\n",
       "      <td>6</td>\n",
       "    </tr>\n",
       "    <tr>\n",
       "      <th>bmi</th>\n",
       "      <td>33</td>\n",
       "      <td>31</td>\n",
       "      <td>37</td>\n",
       "      <td>19</td>\n",
       "      <td>21</td>\n",
       "      <td>35</td>\n",
       "      <td>37</td>\n",
       "      <td>35</td>\n",
       "      <td>37</td>\n",
       "      <td>24</td>\n",
       "      <td>...</td>\n",
       "      <td>25</td>\n",
       "      <td>20</td>\n",
       "      <td>36</td>\n",
       "      <td>32</td>\n",
       "      <td>24</td>\n",
       "      <td>27</td>\n",
       "      <td>35</td>\n",
       "      <td>33</td>\n",
       "      <td>40</td>\n",
       "      <td>39</td>\n",
       "    </tr>\n",
       "    <tr>\n",
       "      <th>triglycerides</th>\n",
       "      <td>260</td>\n",
       "      <td>240</td>\n",
       "      <td>150</td>\n",
       "      <td>320</td>\n",
       "      <td>150</td>\n",
       "      <td>390</td>\n",
       "      <td>380</td>\n",
       "      <td>400</td>\n",
       "      <td>360</td>\n",
       "      <td>260</td>\n",
       "      <td>...</td>\n",
       "      <td>360</td>\n",
       "      <td>200</td>\n",
       "      <td>330</td>\n",
       "      <td>280</td>\n",
       "      <td>300</td>\n",
       "      <td>400</td>\n",
       "      <td>280</td>\n",
       "      <td>140</td>\n",
       "      <td>350</td>\n",
       "      <td>390</td>\n",
       "    </tr>\n",
       "    <tr>\n",
       "      <th>physical_activity_days_per_week</th>\n",
       "      <td>0</td>\n",
       "      <td>7</td>\n",
       "      <td>7</td>\n",
       "      <td>7</td>\n",
       "      <td>5</td>\n",
       "      <td>6</td>\n",
       "      <td>5</td>\n",
       "      <td>5</td>\n",
       "      <td>4</td>\n",
       "      <td>3</td>\n",
       "      <td>...</td>\n",
       "      <td>6</td>\n",
       "      <td>0</td>\n",
       "      <td>1</td>\n",
       "      <td>0</td>\n",
       "      <td>6</td>\n",
       "      <td>7</td>\n",
       "      <td>3</td>\n",
       "      <td>2</td>\n",
       "      <td>0</td>\n",
       "      <td>1</td>\n",
       "    </tr>\n",
       "    <tr>\n",
       "      <th>sleep_hours_per_day</th>\n",
       "      <td>8</td>\n",
       "      <td>9</td>\n",
       "      <td>9</td>\n",
       "      <td>10</td>\n",
       "      <td>8</td>\n",
       "      <td>8</td>\n",
       "      <td>8</td>\n",
       "      <td>7</td>\n",
       "      <td>10</td>\n",
       "      <td>9</td>\n",
       "      <td>...</td>\n",
       "      <td>10</td>\n",
       "      <td>10</td>\n",
       "      <td>8</td>\n",
       "      <td>7</td>\n",
       "      <td>9</td>\n",
       "      <td>4</td>\n",
       "      <td>5</td>\n",
       "      <td>4</td>\n",
       "      <td>4</td>\n",
       "      <td>5</td>\n",
       "    </tr>\n",
       "    <tr>\n",
       "      <th>blood_pressure_min</th>\n",
       "      <td>67</td>\n",
       "      <td>80</td>\n",
       "      <td>75</td>\n",
       "      <td>75</td>\n",
       "      <td>85</td>\n",
       "      <td>108</td>\n",
       "      <td>96</td>\n",
       "      <td>61</td>\n",
       "      <td>66</td>\n",
       "      <td>72</td>\n",
       "      <td>...</td>\n",
       "      <td>98</td>\n",
       "      <td>98</td>\n",
       "      <td>82</td>\n",
       "      <td>79</td>\n",
       "      <td>88</td>\n",
       "      <td>90</td>\n",
       "      <td>109</td>\n",
       "      <td>76</td>\n",
       "      <td>71</td>\n",
       "      <td>107</td>\n",
       "    </tr>\n",
       "    <tr>\n",
       "      <th>blood_pressure_max</th>\n",
       "      <td>165</td>\n",
       "      <td>100</td>\n",
       "      <td>138</td>\n",
       "      <td>107</td>\n",
       "      <td>103</td>\n",
       "      <td>119</td>\n",
       "      <td>98</td>\n",
       "      <td>156</td>\n",
       "      <td>129</td>\n",
       "      <td>119</td>\n",
       "      <td>...</td>\n",
       "      <td>141</td>\n",
       "      <td>174</td>\n",
       "      <td>179</td>\n",
       "      <td>113</td>\n",
       "      <td>155</td>\n",
       "      <td>99</td>\n",
       "      <td>178</td>\n",
       "      <td>96</td>\n",
       "      <td>166</td>\n",
       "      <td>123</td>\n",
       "    </tr>\n",
       "    <tr>\n",
       "      <th>income_30k</th>\n",
       "      <td>7</td>\n",
       "      <td>8</td>\n",
       "      <td>6</td>\n",
       "      <td>3</td>\n",
       "      <td>7</td>\n",
       "      <td>7</td>\n",
       "      <td>6</td>\n",
       "      <td>2</td>\n",
       "      <td>6</td>\n",
       "      <td>1</td>\n",
       "      <td>...</td>\n",
       "      <td>5</td>\n",
       "      <td>1</td>\n",
       "      <td>6</td>\n",
       "      <td>6</td>\n",
       "      <td>4</td>\n",
       "      <td>7</td>\n",
       "      <td>0</td>\n",
       "      <td>5</td>\n",
       "      <td>4</td>\n",
       "      <td>6</td>\n",
       "    </tr>\n",
       "  </tbody>\n",
       "</table>\n",
       "<p>20 rows × 7010 columns</p>\n",
       "</div>"
      ],
      "text/plain": [
       "                                 0     1     2     3     4     5     6     \\\n",
       "age                                54    31    27    74    76    59    76   \n",
       "cholesterol                       260   240   150   320   150   390   380   \n",
       "heart_rate                         77    92   106    82    42    65   100   \n",
       "diabetes                            0     1     0     0     1     0     0   \n",
       "family_history                      1     1     1     1     0     1     0   \n",
       "smoking                             1     1     1     1     1     1     1   \n",
       "obesity                             1     1     1     0     0     0     0   \n",
       "alcohol_consumption                 1     1     1     0     1     1     1   \n",
       "exercise_hours_per_week             1     2     6     7     7    10    10   \n",
       "previous_heart_problems             0     0     1     0     0     0     1   \n",
       "medication_use                      1     1     1     0     1     0     1   \n",
       "stress_level                        4     2     8     8     8     2     2   \n",
       "sedentary_hours_per_day             1     7     5    12     1     2     2   \n",
       "bmi                                33    31    37    19    21    35    37   \n",
       "triglycerides                     260   240   150   320   150   390   380   \n",
       "physical_activity_days_per_week     0     7     7     7     5     6     5   \n",
       "sleep_hours_per_day                 8     9     9    10     8     8     8   \n",
       "blood_pressure_min                 67    80    75    75    85   108    96   \n",
       "blood_pressure_max                165   100   138   107   103   119    98   \n",
       "income_30k                          7     8     6     3     7     7     6   \n",
       "\n",
       "                                 7     8     9     ...  7000  7001  7002  \\\n",
       "age                                32    36    34  ...    66    59    37   \n",
       "cholesterol                       400   360   260  ...   360   200   330   \n",
       "heart_rate                        109    63    44  ...    84    82    68   \n",
       "diabetes                            0     0     1  ...     0     1     1   \n",
       "family_history                      1     1     0  ...     1     0     1   \n",
       "smoking                             1     0     1  ...     1     1     1   \n",
       "obesity                             1     1     0  ...     1     0     0   \n",
       "alcohol_consumption                 0     0     1  ...     0     1     1   \n",
       "exercise_hours_per_week             6     4    12  ...     7     5     1   \n",
       "previous_heart_problems             0     1     0  ...     1     0     0   \n",
       "medication_use                      1     1     1  ...     0     0     0   \n",
       "stress_level                        4     9     4  ...     7     5     8   \n",
       "sedentary_hours_per_day            11     1     2  ...     8     5     3   \n",
       "bmi                                35    37    24  ...    25    20    36   \n",
       "triglycerides                     400   360   260  ...   360   200   330   \n",
       "physical_activity_days_per_week     5     4     3  ...     6     0     1   \n",
       "sleep_hours_per_day                 7    10     9  ...    10    10     8   \n",
       "blood_pressure_min                 61    66    72  ...    98    98    82   \n",
       "blood_pressure_max                156   129   119  ...   141   174   179   \n",
       "income_30k                          2     6     1  ...     5     1     6   \n",
       "\n",
       "                                 7003  7004  7005  7006  7007  7008  7009  \n",
       "age                                74    63    29    70    79    50    75  \n",
       "cholesterol                       280   300   400   280   140   350   390  \n",
       "heart_rate                         58    77    94    88    77    68    51  \n",
       "diabetes                            0     1     0     0     1     1     0  \n",
       "family_history                      0     1     0     0     0     1     1  \n",
       "smoking                             1     1     0     1     1     1     1  \n",
       "obesity                             0     1     0     1     0     0     0  \n",
       "alcohol_consumption                 1     1     1     1     0     1     0  \n",
       "exercise_hours_per_week             7     8    20    11    18     5    12  \n",
       "previous_heart_problems             0     1     1     0     1     1     0  \n",
       "medication_use                      0     0     1     1     0     0     1  \n",
       "stress_level                        6     8     9     7     5     5     2  \n",
       "sedentary_hours_per_day             0     2     4     6     2     2     6  \n",
       "bmi                                32    24    27    35    33    40    39  \n",
       "triglycerides                     280   300   400   280   140   350   390  \n",
       "physical_activity_days_per_week     0     6     7     3     2     0     1  \n",
       "sleep_hours_per_day                 7     9     4     5     4     4     5  \n",
       "blood_pressure_min                 79    88    90   109    76    71   107  \n",
       "blood_pressure_max                113   155    99   178    96   166   123  \n",
       "income_30k                          6     4     7     0     5     4     6  \n",
       "\n",
       "[20 rows x 7010 columns]"
      ]
     },
     "execution_count": 75,
     "metadata": {},
     "output_type": "execute_result"
    }
   ],
   "source": [
    "df_full_train[numerical].T"
   ]
  },
  {
   "cell_type": "code",
   "execution_count": 76,
   "id": "28700875",
   "metadata": {},
   "outputs": [
    {
     "data": {
      "text/plain": [
       "sleep_hours_per_day                0.032389\n",
       "diabetes                           0.025089\n",
       "income_30k                         0.022371\n",
       "exercise_hours_per_week            0.018017\n",
       "age                                0.017667\n",
       "alcohol_consumption                0.017034\n",
       "blood_pressure_max                 0.015751\n",
       "cholesterol                        0.014541\n",
       "triglycerides                      0.014541\n",
       "obesity                            0.013568\n",
       "smoking                            0.009023\n",
       "blood_pressure_min                 0.008148\n",
       "heart_rate                         0.005536\n",
       "family_history                     0.004395\n",
       "bmi                                0.003941\n",
       "sedentary_hours_per_day            0.003776\n",
       "stress_level                       0.001622\n",
       "physical_activity_days_per_week    0.001617\n",
       "medication_use                     0.000380\n",
       "previous_heart_problems            0.000283\n",
       "dtype: float64"
      ]
     },
     "execution_count": 76,
     "metadata": {},
     "output_type": "execute_result"
    }
   ],
   "source": [
    "corr = df_full_train[numerical].corrwith(df_full_train.heart_attack_risk).abs()\n",
    "corr.sort_values(ascending=False)"
   ]
  },
  {
   "cell_type": "code",
   "execution_count": 77,
   "id": "e1cf2c45",
   "metadata": {},
   "outputs": [
    {
     "data": {
      "text/plain": [
       "0.37493658041603245"
      ]
     },
     "execution_count": 77,
     "metadata": {},
     "output_type": "execute_result"
    }
   ],
   "source": [
    "(df_full_train[df_full_train.sleep_hours_per_day < 6].heart_attack_risk.mean())"
   ]
  },
  {
   "cell_type": "code",
   "execution_count": 78,
   "id": "0bf451f6",
   "metadata": {},
   "outputs": [
    {
     "data": {
      "text/plain": [
       "0.36720667648502703"
      ]
     },
     "execution_count": 78,
     "metadata": {},
     "output_type": "execute_result"
    }
   ],
   "source": [
    "df_full_train[(df_full_train.sleep_hours_per_day > 6) & (df_full_train.sleep_hours_per_day <= 8)].heart_attack_risk.mean()"
   ]
  },
  {
   "cell_type": "code",
   "execution_count": 79,
   "id": "c24395a4",
   "metadata": {},
   "outputs": [
    {
     "data": {
      "text/plain": [
       "0.33383458646616543"
      ]
     },
     "execution_count": 79,
     "metadata": {},
     "output_type": "execute_result"
    }
   ],
   "source": [
    "(df_full_train[df_full_train.sleep_hours_per_day > 8].heart_attack_risk.mean())"
   ]
  },
  {
   "cell_type": "code",
   "execution_count": 80,
   "id": "c9a3d361",
   "metadata": {},
   "outputs": [
    {
     "data": {
      "text/plain": [
       "0.34398340248962656"
      ]
     },
     "execution_count": 80,
     "metadata": {},
     "output_type": "execute_result"
    }
   ],
   "source": [
    "(df_full_train[df_full_train.diabetes==0].heart_attack_risk.mean())"
   ]
  },
  {
   "cell_type": "code",
   "execution_count": 81,
   "id": "d5d101a2",
   "metadata": {},
   "outputs": [
    {
     "data": {
      "text/plain": [
       "0.36934782608695654"
      ]
     },
     "execution_count": 81,
     "metadata": {},
     "output_type": "execute_result"
    }
   ],
   "source": [
    "(df_full_train[df_full_train.diabetes==1].heart_attack_risk.mean())"
   ]
  },
  {
   "cell_type": "code",
   "execution_count": 82,
   "id": "6ff15c34",
   "metadata": {},
   "outputs": [
    {
     "data": {
      "text/plain": [
       "0.3606276747503566"
      ]
     },
     "execution_count": 82,
     "metadata": {},
     "output_type": "execute_result"
    }
   ],
   "source": [
    "global_heart_attack_risk_rate"
   ]
  },
  {
   "cell_type": "markdown",
   "id": "d7b2a9e9",
   "metadata": {},
   "source": [
    "## Prepare the feature matrix :"
   ]
  },
  {
   "cell_type": "code",
   "execution_count": 83,
   "id": "fd70444a",
   "metadata": {},
   "outputs": [
    {
     "data": {
      "text/plain": [
       "{'sex': 'male',\n",
       " 'diet': 'unhealthy',\n",
       " 'country': 'south_korea',\n",
       " 'continent': 'asia',\n",
       " 'hemisphere': 'northern_hemisphere',\n",
       " 'age': 89,\n",
       " 'cholesterol': 280,\n",
       " 'heart_rate': 60,\n",
       " 'diabetes': 0,\n",
       " 'family_history': 1,\n",
       " 'smoking': 1,\n",
       " 'obesity': 0,\n",
       " 'alcohol_consumption': 0,\n",
       " 'exercise_hours_per_week': 7,\n",
       " 'previous_heart_problems': 0,\n",
       " 'medication_use': 0,\n",
       " 'stress_level': 7,\n",
       " 'sedentary_hours_per_day': 5,\n",
       " 'bmi': 21,\n",
       " 'triglycerides': 280,\n",
       " 'physical_activity_days_per_week': 0,\n",
       " 'sleep_hours_per_day': 4,\n",
       " 'blood_pressure_min': 88,\n",
       " 'blood_pressure_max': 164,\n",
       " 'income_30k': 3}"
      ]
     },
     "execution_count": 83,
     "metadata": {},
     "output_type": "execute_result"
    }
   ],
   "source": [
    "train_dicts = df_train[categorical + numerical].to_dict(orient='records')\n",
    "train_dicts[0]"
   ]
  },
  {
   "cell_type": "code",
   "execution_count": 84,
   "id": "ff495de0",
   "metadata": {},
   "outputs": [],
   "source": [
    "dv = DictVectorizer(sparse=False)"
   ]
  },
  {
   "cell_type": "code",
   "execution_count": 85,
   "id": "a5061b5e",
   "metadata": {},
   "outputs": [
    {
     "data": {
      "text/plain": [
       "(5257, 53)"
      ]
     },
     "execution_count": 85,
     "metadata": {},
     "output_type": "execute_result"
    }
   ],
   "source": [
    "X_train = dv.fit_transform(train_dicts)\n",
    "X_train.shape"
   ]
  },
  {
   "cell_type": "code",
   "execution_count": 86,
   "id": "d77c9031",
   "metadata": {},
   "outputs": [
    {
     "data": {
      "text/plain": [
       "(5257, 26)"
      ]
     },
     "execution_count": 86,
     "metadata": {},
     "output_type": "execute_result"
    }
   ],
   "source": [
    "df_train.shape"
   ]
  },
  {
   "cell_type": "code",
   "execution_count": 87,
   "id": "1eef652b",
   "metadata": {},
   "outputs": [],
   "source": [
    "val_dicts = df_val[categorical + numerical].to_dict(orient='records')"
   ]
  },
  {
   "cell_type": "code",
   "execution_count": 88,
   "id": "061003cc",
   "metadata": {},
   "outputs": [],
   "source": [
    "X_val = dv.transform(val_dicts)"
   ]
  },
  {
   "cell_type": "markdown",
   "id": "829dc29e",
   "metadata": {},
   "source": [
    "## Logistic regression :"
   ]
  },
  {
   "cell_type": "code",
   "execution_count": 89,
   "id": "c473b6fb",
   "metadata": {},
   "outputs": [],
   "source": [
    "def sigmoid(z):\n",
    "    return 1 / (1 + np.exp(-z))"
   ]
  },
  {
   "cell_type": "code",
   "execution_count": 90,
   "id": "16f20535",
   "metadata": {},
   "outputs": [
    {
     "data": {
      "text/plain": [
       "((5257, 53), (5257,))"
      ]
     },
     "execution_count": 90,
     "metadata": {},
     "output_type": "execute_result"
    }
   ],
   "source": [
    "X_train.shape, y_train.shape"
   ]
  },
  {
   "cell_type": "code",
   "execution_count": 91,
   "id": "ca3b19db",
   "metadata": {},
   "outputs": [],
   "source": [
    "model = LogisticRegression(max_iter=1000)"
   ]
  },
  {
   "cell_type": "code",
   "execution_count": 92,
   "id": "ce1226c9",
   "metadata": {},
   "outputs": [
    {
     "data": {
      "text/html": [
       "<style>#sk-container-id-1 {color: black;background-color: white;}#sk-container-id-1 pre{padding: 0;}#sk-container-id-1 div.sk-toggleable {background-color: white;}#sk-container-id-1 label.sk-toggleable__label {cursor: pointer;display: block;width: 100%;margin-bottom: 0;padding: 0.3em;box-sizing: border-box;text-align: center;}#sk-container-id-1 label.sk-toggleable__label-arrow:before {content: \"▸\";float: left;margin-right: 0.25em;color: #696969;}#sk-container-id-1 label.sk-toggleable__label-arrow:hover:before {color: black;}#sk-container-id-1 div.sk-estimator:hover label.sk-toggleable__label-arrow:before {color: black;}#sk-container-id-1 div.sk-toggleable__content {max-height: 0;max-width: 0;overflow: hidden;text-align: left;background-color: #f0f8ff;}#sk-container-id-1 div.sk-toggleable__content pre {margin: 0.2em;color: black;border-radius: 0.25em;background-color: #f0f8ff;}#sk-container-id-1 input.sk-toggleable__control:checked~div.sk-toggleable__content {max-height: 200px;max-width: 100%;overflow: auto;}#sk-container-id-1 input.sk-toggleable__control:checked~label.sk-toggleable__label-arrow:before {content: \"▾\";}#sk-container-id-1 div.sk-estimator input.sk-toggleable__control:checked~label.sk-toggleable__label {background-color: #d4ebff;}#sk-container-id-1 div.sk-label input.sk-toggleable__control:checked~label.sk-toggleable__label {background-color: #d4ebff;}#sk-container-id-1 input.sk-hidden--visually {border: 0;clip: rect(1px 1px 1px 1px);clip: rect(1px, 1px, 1px, 1px);height: 1px;margin: -1px;overflow: hidden;padding: 0;position: absolute;width: 1px;}#sk-container-id-1 div.sk-estimator {font-family: monospace;background-color: #f0f8ff;border: 1px dotted black;border-radius: 0.25em;box-sizing: border-box;margin-bottom: 0.5em;}#sk-container-id-1 div.sk-estimator:hover {background-color: #d4ebff;}#sk-container-id-1 div.sk-parallel-item::after {content: \"\";width: 100%;border-bottom: 1px solid gray;flex-grow: 1;}#sk-container-id-1 div.sk-label:hover label.sk-toggleable__label {background-color: #d4ebff;}#sk-container-id-1 div.sk-serial::before {content: \"\";position: absolute;border-left: 1px solid gray;box-sizing: border-box;top: 0;bottom: 0;left: 50%;z-index: 0;}#sk-container-id-1 div.sk-serial {display: flex;flex-direction: column;align-items: center;background-color: white;padding-right: 0.2em;padding-left: 0.2em;position: relative;}#sk-container-id-1 div.sk-item {position: relative;z-index: 1;}#sk-container-id-1 div.sk-parallel {display: flex;align-items: stretch;justify-content: center;background-color: white;position: relative;}#sk-container-id-1 div.sk-item::before, #sk-container-id-1 div.sk-parallel-item::before {content: \"\";position: absolute;border-left: 1px solid gray;box-sizing: border-box;top: 0;bottom: 0;left: 50%;z-index: -1;}#sk-container-id-1 div.sk-parallel-item {display: flex;flex-direction: column;z-index: 1;position: relative;background-color: white;}#sk-container-id-1 div.sk-parallel-item:first-child::after {align-self: flex-end;width: 50%;}#sk-container-id-1 div.sk-parallel-item:last-child::after {align-self: flex-start;width: 50%;}#sk-container-id-1 div.sk-parallel-item:only-child::after {width: 0;}#sk-container-id-1 div.sk-dashed-wrapped {border: 1px dashed gray;margin: 0 0.4em 0.5em 0.4em;box-sizing: border-box;padding-bottom: 0.4em;background-color: white;}#sk-container-id-1 div.sk-label label {font-family: monospace;font-weight: bold;display: inline-block;line-height: 1.2em;}#sk-container-id-1 div.sk-label-container {text-align: center;}#sk-container-id-1 div.sk-container {/* jupyter's `normalize.less` sets `[hidden] { display: none; }` but bootstrap.min.css set `[hidden] { display: none !important; }` so we also need the `!important` here to be able to override the default hidden behavior on the sphinx rendered scikit-learn.org. See: https://github.com/scikit-learn/scikit-learn/issues/21755 */display: inline-block !important;position: relative;}#sk-container-id-1 div.sk-text-repr-fallback {display: none;}</style><div id=\"sk-container-id-1\" class=\"sk-top-container\"><div class=\"sk-text-repr-fallback\"><pre>LogisticRegression(max_iter=1000)</pre><b>In a Jupyter environment, please rerun this cell to show the HTML representation or trust the notebook. <br />On GitHub, the HTML representation is unable to render, please try loading this page with nbviewer.org.</b></div><div class=\"sk-container\" hidden><div class=\"sk-item\"><div class=\"sk-estimator sk-toggleable\"><input class=\"sk-toggleable__control sk-hidden--visually\" id=\"sk-estimator-id-1\" type=\"checkbox\" checked><label for=\"sk-estimator-id-1\" class=\"sk-toggleable__label sk-toggleable__label-arrow\">LogisticRegression</label><div class=\"sk-toggleable__content\"><pre>LogisticRegression(max_iter=1000)</pre></div></div></div></div></div>"
      ],
      "text/plain": [
       "LogisticRegression(max_iter=1000)"
      ]
     },
     "execution_count": 92,
     "metadata": {},
     "output_type": "execute_result"
    }
   ],
   "source": [
    "model.fit(X_train, y_train)"
   ]
  },
  {
   "cell_type": "code",
   "execution_count": 93,
   "id": "381b7e0f",
   "metadata": {},
   "outputs": [
    {
     "data": {
      "text/plain": [
       "array([0.31517052, 0.41896978, 0.42180839, ..., 0.26915767, 0.3413154 ,\n",
       "       0.3485808 ])"
      ]
     },
     "execution_count": 93,
     "metadata": {},
     "output_type": "execute_result"
    }
   ],
   "source": [
    "y_pred = model.predict_proba(X_val)[:,1]\n",
    "y_pred"
   ]
  },
  {
   "cell_type": "code",
   "execution_count": 94,
   "id": "15f20dfc",
   "metadata": {},
   "outputs": [
    {
     "data": {
      "text/plain": [
       "array([False, False, False, ..., False, False, False])"
      ]
     },
     "execution_count": 94,
     "metadata": {},
     "output_type": "execute_result"
    }
   ],
   "source": [
    "heart_attack = y_pred >= 0.5\n",
    "heart_attack"
   ]
  },
  {
   "cell_type": "code",
   "execution_count": 95,
   "id": "e6c08700",
   "metadata": {},
   "outputs": [
    {
     "data": {
      "text/plain": [
       "0.6280661722760981"
      ]
     },
     "execution_count": 95,
     "metadata": {},
     "output_type": "execute_result"
    }
   ],
   "source": [
    "score = (y_val == heart_attack).mean()\n",
    "score"
   ]
  },
  {
   "cell_type": "code",
   "execution_count": 96,
   "id": "6788f60e",
   "metadata": {},
   "outputs": [
    {
     "data": {
      "text/plain": [
       "0.522"
      ]
     },
     "execution_count": 96,
     "metadata": {},
     "output_type": "execute_result"
    }
   ],
   "source": [
    "roc_auc_score(y_val, y_pred).round(3)"
   ]
  },
  {
   "cell_type": "markdown",
   "id": "78b49c24",
   "metadata": {},
   "source": [
    "### Looking inside the model :\n",
    "##### Weight of the features"
   ]
  },
  {
   "cell_type": "code",
   "execution_count": 97,
   "id": "ad1c28fb",
   "metadata": {},
   "outputs": [
    {
     "data": {
      "text/plain": [
       "0.4737698029095377"
      ]
     },
     "execution_count": 97,
     "metadata": {},
     "output_type": "execute_result"
    }
   ],
   "source": [
    "w0 = model.intercept_[0]\n",
    "sigmoid(w0)"
   ]
  },
  {
   "cell_type": "code",
   "execution_count": 98,
   "id": "bd136876",
   "metadata": {},
   "outputs": [
    {
     "data": {
      "text/plain": [
       "{'age': 0.002,\n",
       " 'alcohol_consumption': -0.072,\n",
       " 'blood_pressure_max': 0.0,\n",
       " 'blood_pressure_min': -0.002,\n",
       " 'bmi': -0.004,\n",
       " 'cholesterol': 0.0,\n",
       " 'continent=africa': -0.022,\n",
       " 'continent=asia': -0.092,\n",
       " 'continent=australia': 0.068,\n",
       " 'continent=europe': -0.085,\n",
       " 'continent=north_america': 0.057,\n",
       " 'continent=south_america': -0.029,\n",
       " 'country=argentina': -0.022,\n",
       " 'country=australia': 0.104,\n",
       " 'country=brazil': 0.019,\n",
       " 'country=canada': 0.017,\n",
       " 'country=china': 0.041,\n",
       " 'country=colombia': -0.027,\n",
       " 'country=france': 0.146,\n",
       " 'country=germany': -0.134,\n",
       " 'country=india': -0.144,\n",
       " 'country=italy': -0.183,\n",
       " 'country=japan': -0.159,\n",
       " 'country=new_zealand': -0.036,\n",
       " 'country=nigeria': 0.068,\n",
       " 'country=south_africa': -0.09,\n",
       " 'country=south_korea': 0.276,\n",
       " 'country=spain': 0.121,\n",
       " 'country=thailand': -0.04,\n",
       " 'country=united_kingdom': -0.035,\n",
       " 'country=united_states': 0.04,\n",
       " 'country=vietnam': -0.067,\n",
       " 'diabetes': 0.117,\n",
       " 'diet=average': -0.086,\n",
       " 'diet=healthy': 0.021,\n",
       " 'diet=unhealthy': -0.038,\n",
       " 'exercise_hours_per_week': 0.003,\n",
       " 'family_history': -0.039,\n",
       " 'heart_rate': -0.001,\n",
       " 'hemisphere=northern_hemisphere': -0.017,\n",
       " 'hemisphere=southern_hemisphere': -0.087,\n",
       " 'income_30k': 0.015,\n",
       " 'medication_use': 0.038,\n",
       " 'obesity': -0.076,\n",
       " 'physical_activity_days_per_week': 0.004,\n",
       " 'previous_heart_problems': 0.002,\n",
       " 'sedentary_hours_per_day': 0.007,\n",
       " 'sex=female': -0.072,\n",
       " 'sex=male': -0.032,\n",
       " 'sleep_hours_per_day': -0.026,\n",
       " 'smoking': -0.167,\n",
       " 'stress_level': 0.002,\n",
       " 'triglycerides': 0.0}"
      ]
     },
     "execution_count": 98,
     "metadata": {},
     "output_type": "execute_result"
    }
   ],
   "source": [
    "w = model.coef_[0]\n",
    "dict(zip(dv.get_feature_names_out(),w.round(3)))"
   ]
  },
  {
   "cell_type": "markdown",
   "id": "55e69ddf",
   "metadata": {},
   "source": [
    "## Train the final model - logistic regression :"
   ]
  },
  {
   "cell_type": "code",
   "execution_count": 99,
   "id": "dc20d871",
   "metadata": {},
   "outputs": [],
   "source": [
    "dicts_df_full_train = df_full_train[categorical + numerical].to_dict(orient='records')"
   ]
  },
  {
   "cell_type": "code",
   "execution_count": 100,
   "id": "c9667421",
   "metadata": {},
   "outputs": [],
   "source": [
    "#dicts_df_full_train"
   ]
  },
  {
   "cell_type": "code",
   "execution_count": 101,
   "id": "21dbb478",
   "metadata": {},
   "outputs": [],
   "source": [
    "dv = DictVectorizer(sparse = False)\n",
    "X_full_train = dv.fit_transform(dicts_df_full_train)\n",
    "y_full_train = df_full_train.heart_attack_risk.values"
   ]
  },
  {
   "cell_type": "code",
   "execution_count": 102,
   "id": "4f927640",
   "metadata": {},
   "outputs": [
    {
     "data": {
      "text/html": [
       "<style>#sk-container-id-2 {color: black;background-color: white;}#sk-container-id-2 pre{padding: 0;}#sk-container-id-2 div.sk-toggleable {background-color: white;}#sk-container-id-2 label.sk-toggleable__label {cursor: pointer;display: block;width: 100%;margin-bottom: 0;padding: 0.3em;box-sizing: border-box;text-align: center;}#sk-container-id-2 label.sk-toggleable__label-arrow:before {content: \"▸\";float: left;margin-right: 0.25em;color: #696969;}#sk-container-id-2 label.sk-toggleable__label-arrow:hover:before {color: black;}#sk-container-id-2 div.sk-estimator:hover label.sk-toggleable__label-arrow:before {color: black;}#sk-container-id-2 div.sk-toggleable__content {max-height: 0;max-width: 0;overflow: hidden;text-align: left;background-color: #f0f8ff;}#sk-container-id-2 div.sk-toggleable__content pre {margin: 0.2em;color: black;border-radius: 0.25em;background-color: #f0f8ff;}#sk-container-id-2 input.sk-toggleable__control:checked~div.sk-toggleable__content {max-height: 200px;max-width: 100%;overflow: auto;}#sk-container-id-2 input.sk-toggleable__control:checked~label.sk-toggleable__label-arrow:before {content: \"▾\";}#sk-container-id-2 div.sk-estimator input.sk-toggleable__control:checked~label.sk-toggleable__label {background-color: #d4ebff;}#sk-container-id-2 div.sk-label input.sk-toggleable__control:checked~label.sk-toggleable__label {background-color: #d4ebff;}#sk-container-id-2 input.sk-hidden--visually {border: 0;clip: rect(1px 1px 1px 1px);clip: rect(1px, 1px, 1px, 1px);height: 1px;margin: -1px;overflow: hidden;padding: 0;position: absolute;width: 1px;}#sk-container-id-2 div.sk-estimator {font-family: monospace;background-color: #f0f8ff;border: 1px dotted black;border-radius: 0.25em;box-sizing: border-box;margin-bottom: 0.5em;}#sk-container-id-2 div.sk-estimator:hover {background-color: #d4ebff;}#sk-container-id-2 div.sk-parallel-item::after {content: \"\";width: 100%;border-bottom: 1px solid gray;flex-grow: 1;}#sk-container-id-2 div.sk-label:hover label.sk-toggleable__label {background-color: #d4ebff;}#sk-container-id-2 div.sk-serial::before {content: \"\";position: absolute;border-left: 1px solid gray;box-sizing: border-box;top: 0;bottom: 0;left: 50%;z-index: 0;}#sk-container-id-2 div.sk-serial {display: flex;flex-direction: column;align-items: center;background-color: white;padding-right: 0.2em;padding-left: 0.2em;position: relative;}#sk-container-id-2 div.sk-item {position: relative;z-index: 1;}#sk-container-id-2 div.sk-parallel {display: flex;align-items: stretch;justify-content: center;background-color: white;position: relative;}#sk-container-id-2 div.sk-item::before, #sk-container-id-2 div.sk-parallel-item::before {content: \"\";position: absolute;border-left: 1px solid gray;box-sizing: border-box;top: 0;bottom: 0;left: 50%;z-index: -1;}#sk-container-id-2 div.sk-parallel-item {display: flex;flex-direction: column;z-index: 1;position: relative;background-color: white;}#sk-container-id-2 div.sk-parallel-item:first-child::after {align-self: flex-end;width: 50%;}#sk-container-id-2 div.sk-parallel-item:last-child::after {align-self: flex-start;width: 50%;}#sk-container-id-2 div.sk-parallel-item:only-child::after {width: 0;}#sk-container-id-2 div.sk-dashed-wrapped {border: 1px dashed gray;margin: 0 0.4em 0.5em 0.4em;box-sizing: border-box;padding-bottom: 0.4em;background-color: white;}#sk-container-id-2 div.sk-label label {font-family: monospace;font-weight: bold;display: inline-block;line-height: 1.2em;}#sk-container-id-2 div.sk-label-container {text-align: center;}#sk-container-id-2 div.sk-container {/* jupyter's `normalize.less` sets `[hidden] { display: none; }` but bootstrap.min.css set `[hidden] { display: none !important; }` so we also need the `!important` here to be able to override the default hidden behavior on the sphinx rendered scikit-learn.org. See: https://github.com/scikit-learn/scikit-learn/issues/21755 */display: inline-block !important;position: relative;}#sk-container-id-2 div.sk-text-repr-fallback {display: none;}</style><div id=\"sk-container-id-2\" class=\"sk-top-container\"><div class=\"sk-text-repr-fallback\"><pre>LogisticRegression(max_iter=1000)</pre><b>In a Jupyter environment, please rerun this cell to show the HTML representation or trust the notebook. <br />On GitHub, the HTML representation is unable to render, please try loading this page with nbviewer.org.</b></div><div class=\"sk-container\" hidden><div class=\"sk-item\"><div class=\"sk-estimator sk-toggleable\"><input class=\"sk-toggleable__control sk-hidden--visually\" id=\"sk-estimator-id-2\" type=\"checkbox\" checked><label for=\"sk-estimator-id-2\" class=\"sk-toggleable__label sk-toggleable__label-arrow\">LogisticRegression</label><div class=\"sk-toggleable__content\"><pre>LogisticRegression(max_iter=1000)</pre></div></div></div></div></div>"
      ],
      "text/plain": [
       "LogisticRegression(max_iter=1000)"
      ]
     },
     "execution_count": 102,
     "metadata": {},
     "output_type": "execute_result"
    }
   ],
   "source": [
    "model = LogisticRegression(max_iter=1000)\n",
    "model.fit(X_full_train, y_full_train)"
   ]
  },
  {
   "cell_type": "code",
   "execution_count": 103,
   "id": "90557978",
   "metadata": {},
   "outputs": [],
   "source": [
    "dicts_test = df_test[categorical + numerical].to_dict(orient='records')\n",
    "#dicts_test"
   ]
  },
  {
   "cell_type": "code",
   "execution_count": 104,
   "id": "382d9cdf",
   "metadata": {},
   "outputs": [],
   "source": [
    "X_test = dv.transform(dicts_test)"
   ]
  },
  {
   "cell_type": "code",
   "execution_count": 105,
   "id": "3a21d8a2",
   "metadata": {},
   "outputs": [],
   "source": [
    "y_pred = model.predict_proba(X_test)[:,1]"
   ]
  },
  {
   "cell_type": "code",
   "execution_count": 106,
   "id": "d5f77e0a",
   "metadata": {},
   "outputs": [
    {
     "data": {
      "text/plain": [
       "0.6508841985168283"
      ]
     },
     "execution_count": 106,
     "metadata": {},
     "output_type": "execute_result"
    }
   ],
   "source": [
    "accuracy_score(y_test,y_pred>=0.5)"
   ]
  },
  {
   "cell_type": "markdown",
   "id": "cf81f778",
   "metadata": {},
   "source": [
    "### Test the model on one  record :"
   ]
  },
  {
   "cell_type": "code",
   "execution_count": 107,
   "id": "7b59c651",
   "metadata": {},
   "outputs": [
    {
     "data": {
      "text/plain": [
       "{'sex': 'female',\n",
       " 'diet': 'unhealthy',\n",
       " 'country': 'canada',\n",
       " 'continent': 'north_america',\n",
       " 'hemisphere': 'northern_hemisphere',\n",
       " 'age': 61,\n",
       " 'cholesterol': 260,\n",
       " 'heart_rate': 52,\n",
       " 'diabetes': 0,\n",
       " 'family_history': 0,\n",
       " 'smoking': 1,\n",
       " 'obesity': 1,\n",
       " 'alcohol_consumption': 1,\n",
       " 'exercise_hours_per_week': 6,\n",
       " 'previous_heart_problems': 0,\n",
       " 'medication_use': 0,\n",
       " 'stress_level': 2,\n",
       " 'sedentary_hours_per_day': 8,\n",
       " 'bmi': 25,\n",
       " 'triglycerides': 260,\n",
       " 'physical_activity_days_per_week': 6,\n",
       " 'sleep_hours_per_day': 4,\n",
       " 'blood_pressure_min': 81,\n",
       " 'blood_pressure_max': 163,\n",
       " 'income_30k': 1}"
      ]
     },
     "execution_count": 107,
     "metadata": {},
     "output_type": "execute_result"
    }
   ],
   "source": [
    "patient = dicts_test[99] # pick up a random record \n",
    "patient"
   ]
  },
  {
   "cell_type": "code",
   "execution_count": 108,
   "id": "bea118ec",
   "metadata": {},
   "outputs": [],
   "source": [
    "X_small = dv.transform([patient]) "
   ]
  },
  {
   "cell_type": "code",
   "execution_count": 109,
   "id": "7b0eeff6",
   "metadata": {},
   "outputs": [
    {
     "data": {
      "text/plain": [
       "0.36936839630248214"
      ]
     },
     "execution_count": 109,
     "metadata": {},
     "output_type": "execute_result"
    }
   ],
   "source": [
    "model.predict_proba(X_small) [0,1]"
   ]
  },
  {
   "cell_type": "code",
   "execution_count": 110,
   "id": "7aa08f91",
   "metadata": {},
   "outputs": [
    {
     "data": {
      "text/plain": [
       "0"
      ]
     },
     "execution_count": 110,
     "metadata": {},
     "output_type": "execute_result"
    }
   ],
   "source": [
    "y_test[99] "
   ]
  },
  {
   "cell_type": "markdown",
   "id": "a0259e9a",
   "metadata": {},
   "source": [
    "## Accuracy :"
   ]
  },
  {
   "cell_type": "code",
   "execution_count": 111,
   "id": "185e961d",
   "metadata": {},
   "outputs": [
    {
     "data": {
      "text/plain": [
       "0.6286366229321164"
      ]
     },
     "execution_count": 111,
     "metadata": {},
     "output_type": "execute_result"
    }
   ],
   "source": [
    "accuracy_score(y_val,y_pred>=0.5)"
   ]
  },
  {
   "cell_type": "code",
   "execution_count": 112,
   "id": "835afde0",
   "metadata": {},
   "outputs": [],
   "source": [
    "scores = []\n",
    "thresholds =  np.linspace(0 ,1 ,21)"
   ]
  },
  {
   "cell_type": "code",
   "execution_count": 113,
   "id": "de46167b",
   "metadata": {},
   "outputs": [
    {
     "name": "stdout",
     "output_type": "stream",
     "text": [
      "0.00 0.372\n",
      "0.05 0.372\n",
      "0.10 0.372\n",
      "0.15 0.372\n",
      "0.20 0.372\n",
      "0.25 0.372\n",
      "0.30 0.395\n",
      "0.35 0.481\n",
      "0.40 0.587\n",
      "0.45 0.622\n",
      "0.50 0.629\n",
      "0.55 0.628\n",
      "0.60 0.628\n",
      "0.65 0.628\n",
      "0.70 0.628\n",
      "0.75 0.628\n",
      "0.80 0.628\n",
      "0.85 0.628\n",
      "0.90 0.628\n",
      "0.95 0.628\n",
      "1.00 0.628\n"
     ]
    }
   ],
   "source": [
    "for t in thresholds:\n",
    "    score = accuracy_score(y_val,y_pred >= t)\n",
    "    print('%.2f %.3f' % (t,score))\n",
    "    scores.append(score)"
   ]
  },
  {
   "cell_type": "code",
   "execution_count": 114,
   "id": "f2e1f519",
   "metadata": {},
   "outputs": [
    {
     "data": {
      "text/plain": [
       "[<matplotlib.lines.Line2D at 0x7f647ad0d720>]"
      ]
     },
     "execution_count": 114,
     "metadata": {},
     "output_type": "execute_result"
    },
    {
     "data": {
      "image/png": "[encoded data removed]",
      "text/plain": [
       "<Figure size 640x480 with 1 Axes>"
      ]
     },
     "metadata": {},
     "output_type": "display_data"
    }
   ],
   "source": [
    "plt.plot(thresholds, scores)"
   ]
  },
  {
   "cell_type": "code",
   "execution_count": 115,
   "id": "2cc851aa",
   "metadata": {},
   "outputs": [],
   "source": [
    "from collections import Counter"
   ]
  },
  {
   "cell_type": "code",
   "execution_count": 116,
   "id": "508ec42c",
   "metadata": {},
   "outputs": [
    {
     "data": {
      "text/plain": [
       "0.6286366229321164"
      ]
     },
     "execution_count": 116,
     "metadata": {},
     "output_type": "execute_result"
    }
   ],
   "source": [
    "score = accuracy_score(y_val,y_pred >= 0.5)\n",
    "score"
   ]
  },
  {
   "cell_type": "markdown",
   "id": "249b5f58",
   "metadata": {},
   "source": [
    "### AUC score :"
   ]
  },
  {
   "cell_type": "code",
   "execution_count": 117,
   "id": "1c8fe3d6",
   "metadata": {},
   "outputs": [
    {
     "data": {
      "text/plain": [
       "0.507979360648156"
      ]
     },
     "execution_count": 117,
     "metadata": {},
     "output_type": "execute_result"
    }
   ],
   "source": [
    "roc_auc_score(y_val, y_pred)"
   ]
  },
  {
   "cell_type": "code",
   "execution_count": 118,
   "id": "c7c0f256",
   "metadata": {},
   "outputs": [],
   "source": [
    "# it is pretty low!"
   ]
  },
  {
   "cell_type": "markdown",
   "id": "8d4a1b6a",
   "metadata": {},
   "source": [
    "### Let's try with cross validation :"
   ]
  },
  {
   "cell_type": "code",
   "execution_count": 119,
   "id": "dc97188c",
   "metadata": {},
   "outputs": [
    {
     "data": {
      "text/plain": [
       "(5257, 5257)"
      ]
     },
     "execution_count": 119,
     "metadata": {},
     "output_type": "execute_result"
    }
   ],
   "source": [
    "len(df_train), len(y_train)"
   ]
  },
  {
   "cell_type": "code",
   "execution_count": 121,
   "id": "2c5ba5c0",
   "metadata": {},
   "outputs": [],
   "source": [
    "def train(df_train, y_train, C=1.0):\n",
    "# convert dataFrame in list of dictionary\n",
    "    dicts = df_train[categorical + numerical].to_dict(orient='records')\n",
    "    \n",
    "    dv = DictVectorizer(sparse=False)\n",
    "    X_train = dv.fit_transform(dicts)\n",
    "    \n",
    "    model = LogisticRegression(C=C, max_iter=10000) \n",
    "    model.fit(X_train, y_train) # smaller values of C means stronger regularization\n",
    "    \n",
    "    return dv, model"
   ]
  },
  {
   "cell_type": "code",
   "execution_count": 122,
   "id": "6308a99b",
   "metadata": {},
   "outputs": [],
   "source": [
    "def predict(df, dv, model):\n",
    "    dicts = df[categorical + numerical].to_dict(orient='records')\n",
    "    \n",
    "    X = dv.transform(dicts)\n",
    "    y_pred = model.predict_proba(X)[:, 1]\n",
    "    \n",
    "    return y_pred"
   ]
  },
  {
   "cell_type": "code",
   "execution_count": 123,
   "id": "772c1eed",
   "metadata": {},
   "outputs": [
    {
     "data": {
      "application/vnd.jupyter.widget-view+json": {
       "model_id": "8e644e2898cc4510b29457b8b2acfc53",
       "version_major": 2,
       "version_minor": 0
      },
      "text/plain": [
       "0it [00:00, ?it/s]"
      ]
     },
     "metadata": {},
     "output_type": "display_data"
    }
   ],
   "source": [
    "kfold = KFold(n_splits=3, shuffle=True, random_state=1)\n",
    "\n",
    "scores = []\n",
    "\n",
    "for train_idx, val_idx in tqdm(kfold.split(df_full_train)):\n",
    "    \n",
    "    df_train = df_full_train.iloc[train_idx]\n",
    "    df_val = df_full_train.iloc[val_idx]\n",
    "    \n",
    "    y_train = df_train.heart_attack_risk.values\n",
    "    y_val = df_val.heart_attack_risk.values\n",
    "    \n",
    "    dv, model = train(df_train, y_train)\n",
    "    y_pred = predict(df_val, dv, model)\n",
    "    \n",
    "    auc = roc_auc_score(y_val, y_pred)\n",
    "    scores.append(auc)\n"
   ]
  },
  {
   "cell_type": "code",
   "execution_count": 124,
   "id": "63c21afe",
   "metadata": {},
   "outputs": [
    {
     "data": {
      "text/plain": [
       "[0.5211009247006807, 0.49797522722971355, 0.5222169003560249]"
      ]
     },
     "execution_count": 124,
     "metadata": {},
     "output_type": "execute_result"
    }
   ],
   "source": [
    "scores"
   ]
  },
  {
   "cell_type": "code",
   "execution_count": 125,
   "id": "2330a9b4",
   "metadata": {},
   "outputs": [
    {
     "name": "stdout",
     "output_type": "stream",
     "text": [
      "0.514 +- 0.011\n"
     ]
    }
   ],
   "source": [
    "print('%.3f +- %.3f' %(np.mean(scores), np.std(scores)))"
   ]
  },
  {
   "cell_type": "code",
   "execution_count": 126,
   "id": "364db946",
   "metadata": {},
   "outputs": [
    {
     "data": {
      "application/vnd.jupyter.widget-view+json": {
       "model_id": "91e2ab3d71f1409b9774d149d46f79ba",
       "version_major": 2,
       "version_minor": 0
      },
      "text/plain": [
       "  0%|          | 0/7 [00:00<?, ?it/s]"
      ]
     },
     "metadata": {},
     "output_type": "display_data"
    },
    {
     "name": "stdout",
     "output_type": "stream",
     "text": [
      "C=0.001 0.513 +- 0.012\n",
      "C=0.01 0.512 +- 0.009\n",
      "C=0.1 0.512 +- 0.007\n",
      "C=0.5 0.512 +- 0.006\n",
      "C=1 0.512 +- 0.007\n",
      "C=5 0.511 +- 0.006\n",
      "C=10 0.512 +- 0.005\n"
     ]
    }
   ],
   "source": [
    "n_splits = 5\n",
    "\n",
    "for C in tqdm([0.001, 0.01, 0.1, 0.5, 1, 5, 10]):\n",
    "    kfold = KFold(n_splits=n_splits, shuffle=True, random_state=1)\n",
    "\n",
    "    scores = []\n",
    "    \n",
    "    for train_idx, val_idx in kfold.split(df_full_train):\n",
    "        df_train = df_full_train.iloc[train_idx]\n",
    "        df_val = df_full_train.iloc[val_idx]\n",
    "\n",
    "        y_train = df_train.heart_attack_risk.values\n",
    "        y_val = df_val.heart_attack_risk.values\n",
    "\n",
    "        dv, model = train(df_train, y_train, C=C)\n",
    "        y_pred = predict(df_val, dv, model)\n",
    "\n",
    "        auc = roc_auc_score(y_val, y_pred)\n",
    "        scores.append(auc)\n",
    "    \n",
    "    print('C=%s %.3f +- %.3f' %(C, np.mean(scores), np.std(scores)))"
   ]
  },
  {
   "cell_type": "markdown",
   "id": "d31afb70",
   "metadata": {},
   "source": [
    "## Train final model - lr :"
   ]
  },
  {
   "cell_type": "code",
   "execution_count": 127,
   "id": "2ff41cf7",
   "metadata": {},
   "outputs": [
    {
     "data": {
      "text/plain": [
       "0.48"
      ]
     },
     "execution_count": 127,
     "metadata": {},
     "output_type": "execute_result"
    }
   ],
   "source": [
    "dv, model = train(df_full_train, df_full_train.heart_attack_risk.values, C=1.0)\n",
    "y_pred = predict(df_test, dv, model)\n",
    "auc = roc_auc_score(y_test, y_pred)\n",
    "auc.round(2)"
   ]
  },
  {
   "cell_type": "code",
   "execution_count": 128,
   "id": "d9e4d188",
   "metadata": {},
   "outputs": [
    {
     "data": {
      "text/plain": [
       "(array([0.38289605, 0.33418597, 0.3980647 , ..., 0.3529211 , 0.37875723,\n",
       "        0.33425287]),\n",
       " array([1, 0, 0, ..., 0, 0, 1]))"
      ]
     },
     "execution_count": 128,
     "metadata": {},
     "output_type": "execute_result"
    }
   ],
   "source": [
    "y_pred, y_test"
   ]
  },
  {
   "cell_type": "code",
   "execution_count": 129,
   "id": "f8f58f75",
   "metadata": {},
   "outputs": [
    {
     "data": {
      "text/plain": [
       "0.48"
      ]
     },
     "execution_count": 129,
     "metadata": {},
     "output_type": "execute_result"
    }
   ],
   "source": [
    "auc = roc_auc_score(y_test, y_pred)\n",
    "auc.round(2)"
   ]
  },
  {
   "cell_type": "code",
   "execution_count": 130,
   "id": "c961369c",
   "metadata": {},
   "outputs": [],
   "source": [
    "# very poor correlation in the data"
   ]
  },
  {
   "cell_type": "markdown",
   "id": "66fb88c1",
   "metadata": {},
   "source": [
    "# Try with different models, decision trees :"
   ]
  },
  {
   "cell_type": "markdown",
   "id": "bfcf8953",
   "metadata": {},
   "source": [
    "df.describe().round(2)"
   ]
  },
  {
   "cell_type": "code",
   "execution_count": 131,
   "id": "b3c03830",
   "metadata": {},
   "outputs": [],
   "source": [
    "df_full_train, df_test = train_test_split(df, test_size=0.2, random_state=11)\n",
    "df_train, df_val = train_test_split(df_full_train, test_size=0.25, random_state=11)"
   ]
  },
  {
   "cell_type": "code",
   "execution_count": 132,
   "id": "5b778c6a",
   "metadata": {},
   "outputs": [],
   "source": [
    "df_train = df_train.reset_index(drop=True)\n",
    "df_val = df_val.reset_index(drop=True)\n",
    "df_test = df_test.reset_index(drop=True)"
   ]
  },
  {
   "cell_type": "code",
   "execution_count": 133,
   "id": "2f039a0d",
   "metadata": {},
   "outputs": [],
   "source": [
    "y_train = df_train.heart_attack_risk.values\n",
    "y_val = df_val.heart_attack_risk.values\n",
    "y_test = df_val.heart_attack_risk.values"
   ]
  },
  {
   "cell_type": "code",
   "execution_count": 134,
   "id": "ae209dd2",
   "metadata": {},
   "outputs": [],
   "source": [
    "del df_train['heart_attack_risk']\n",
    "del df_val['heart_attack_risk']\n",
    "del df_test['heart_attack_risk']"
   ]
  },
  {
   "cell_type": "code",
   "execution_count": 135,
   "id": "97e225f3",
   "metadata": {},
   "outputs": [
    {
     "data": {
      "text/html": [
       "<div>\n",
       "<style scoped>\n",
       "    .dataframe tbody tr th:only-of-type {\n",
       "        vertical-align: middle;\n",
       "    }\n",
       "\n",
       "    .dataframe tbody tr th {\n",
       "        vertical-align: top;\n",
       "    }\n",
       "\n",
       "    .dataframe thead th {\n",
       "        text-align: right;\n",
       "    }\n",
       "</style>\n",
       "<table border=\"1\" class=\"dataframe\">\n",
       "  <thead>\n",
       "    <tr style=\"text-align: right;\">\n",
       "      <th></th>\n",
       "      <th>0</th>\n",
       "      <th>1</th>\n",
       "      <th>2</th>\n",
       "      <th>3</th>\n",
       "      <th>4</th>\n",
       "      <th>5</th>\n",
       "      <th>6</th>\n",
       "      <th>7</th>\n",
       "      <th>8</th>\n",
       "      <th>9</th>\n",
       "      <th>...</th>\n",
       "      <th>5247</th>\n",
       "      <th>5248</th>\n",
       "      <th>5249</th>\n",
       "      <th>5250</th>\n",
       "      <th>5251</th>\n",
       "      <th>5252</th>\n",
       "      <th>5253</th>\n",
       "      <th>5254</th>\n",
       "      <th>5255</th>\n",
       "      <th>5256</th>\n",
       "    </tr>\n",
       "  </thead>\n",
       "  <tbody>\n",
       "    <tr>\n",
       "      <th>patient_id</th>\n",
       "      <td>xec3315</td>\n",
       "      <td>nur0492</td>\n",
       "      <td>qmv8571</td>\n",
       "      <td>nnj7289</td>\n",
       "      <td>quo6782</td>\n",
       "      <td>onl5969</td>\n",
       "      <td>pzo0044</td>\n",
       "      <td>shw2926</td>\n",
       "      <td>etf0846</td>\n",
       "      <td>sqe8133</td>\n",
       "      <td>...</td>\n",
       "      <td>hqj0627</td>\n",
       "      <td>jds3385</td>\n",
       "      <td>nhx8643</td>\n",
       "      <td>pwo8077</td>\n",
       "      <td>qfm2664</td>\n",
       "      <td>jtc9113</td>\n",
       "      <td>hir1232</td>\n",
       "      <td>dlf2625</td>\n",
       "      <td>zsf7284</td>\n",
       "      <td>uir3262</td>\n",
       "    </tr>\n",
       "    <tr>\n",
       "      <th>age</th>\n",
       "      <td>87</td>\n",
       "      <td>29</td>\n",
       "      <td>80</td>\n",
       "      <td>73</td>\n",
       "      <td>87</td>\n",
       "      <td>31</td>\n",
       "      <td>39</td>\n",
       "      <td>58</td>\n",
       "      <td>83</td>\n",
       "      <td>28</td>\n",
       "      <td>...</td>\n",
       "      <td>41</td>\n",
       "      <td>30</td>\n",
       "      <td>31</td>\n",
       "      <td>42</td>\n",
       "      <td>58</td>\n",
       "      <td>39</td>\n",
       "      <td>25</td>\n",
       "      <td>75</td>\n",
       "      <td>79</td>\n",
       "      <td>55</td>\n",
       "    </tr>\n",
       "    <tr>\n",
       "      <th>sex</th>\n",
       "      <td>male</td>\n",
       "      <td>male</td>\n",
       "      <td>male</td>\n",
       "      <td>male</td>\n",
       "      <td>female</td>\n",
       "      <td>female</td>\n",
       "      <td>female</td>\n",
       "      <td>male</td>\n",
       "      <td>female</td>\n",
       "      <td>female</td>\n",
       "      <td>...</td>\n",
       "      <td>male</td>\n",
       "      <td>male</td>\n",
       "      <td>female</td>\n",
       "      <td>male</td>\n",
       "      <td>male</td>\n",
       "      <td>male</td>\n",
       "      <td>male</td>\n",
       "      <td>male</td>\n",
       "      <td>female</td>\n",
       "      <td>male</td>\n",
       "    </tr>\n",
       "    <tr>\n",
       "      <th>cholesterol</th>\n",
       "      <td>260</td>\n",
       "      <td>140</td>\n",
       "      <td>210</td>\n",
       "      <td>280</td>\n",
       "      <td>230</td>\n",
       "      <td>330</td>\n",
       "      <td>220</td>\n",
       "      <td>300</td>\n",
       "      <td>380</td>\n",
       "      <td>340</td>\n",
       "      <td>...</td>\n",
       "      <td>290</td>\n",
       "      <td>230</td>\n",
       "      <td>340</td>\n",
       "      <td>190</td>\n",
       "      <td>320</td>\n",
       "      <td>320</td>\n",
       "      <td>360</td>\n",
       "      <td>310</td>\n",
       "      <td>390</td>\n",
       "      <td>220</td>\n",
       "    </tr>\n",
       "    <tr>\n",
       "      <th>heart_rate</th>\n",
       "      <td>84</td>\n",
       "      <td>83</td>\n",
       "      <td>109</td>\n",
       "      <td>64</td>\n",
       "      <td>81</td>\n",
       "      <td>106</td>\n",
       "      <td>41</td>\n",
       "      <td>50</td>\n",
       "      <td>92</td>\n",
       "      <td>105</td>\n",
       "      <td>...</td>\n",
       "      <td>84</td>\n",
       "      <td>40</td>\n",
       "      <td>42</td>\n",
       "      <td>47</td>\n",
       "      <td>40</td>\n",
       "      <td>67</td>\n",
       "      <td>70</td>\n",
       "      <td>84</td>\n",
       "      <td>44</td>\n",
       "      <td>80</td>\n",
       "    </tr>\n",
       "    <tr>\n",
       "      <th>diabetes</th>\n",
       "      <td>1</td>\n",
       "      <td>1</td>\n",
       "      <td>1</td>\n",
       "      <td>1</td>\n",
       "      <td>1</td>\n",
       "      <td>1</td>\n",
       "      <td>1</td>\n",
       "      <td>1</td>\n",
       "      <td>1</td>\n",
       "      <td>0</td>\n",
       "      <td>...</td>\n",
       "      <td>0</td>\n",
       "      <td>1</td>\n",
       "      <td>1</td>\n",
       "      <td>0</td>\n",
       "      <td>1</td>\n",
       "      <td>0</td>\n",
       "      <td>1</td>\n",
       "      <td>1</td>\n",
       "      <td>1</td>\n",
       "      <td>1</td>\n",
       "    </tr>\n",
       "    <tr>\n",
       "      <th>family_history</th>\n",
       "      <td>1</td>\n",
       "      <td>1</td>\n",
       "      <td>1</td>\n",
       "      <td>1</td>\n",
       "      <td>0</td>\n",
       "      <td>0</td>\n",
       "      <td>0</td>\n",
       "      <td>1</td>\n",
       "      <td>0</td>\n",
       "      <td>0</td>\n",
       "      <td>...</td>\n",
       "      <td>0</td>\n",
       "      <td>1</td>\n",
       "      <td>0</td>\n",
       "      <td>0</td>\n",
       "      <td>1</td>\n",
       "      <td>1</td>\n",
       "      <td>1</td>\n",
       "      <td>1</td>\n",
       "      <td>1</td>\n",
       "      <td>0</td>\n",
       "    </tr>\n",
       "    <tr>\n",
       "      <th>smoking</th>\n",
       "      <td>1</td>\n",
       "      <td>1</td>\n",
       "      <td>1</td>\n",
       "      <td>1</td>\n",
       "      <td>1</td>\n",
       "      <td>0</td>\n",
       "      <td>0</td>\n",
       "      <td>1</td>\n",
       "      <td>1</td>\n",
       "      <td>0</td>\n",
       "      <td>...</td>\n",
       "      <td>1</td>\n",
       "      <td>1</td>\n",
       "      <td>0</td>\n",
       "      <td>1</td>\n",
       "      <td>1</td>\n",
       "      <td>1</td>\n",
       "      <td>1</td>\n",
       "      <td>1</td>\n",
       "      <td>1</td>\n",
       "      <td>1</td>\n",
       "    </tr>\n",
       "    <tr>\n",
       "      <th>obesity</th>\n",
       "      <td>1</td>\n",
       "      <td>0</td>\n",
       "      <td>0</td>\n",
       "      <td>1</td>\n",
       "      <td>1</td>\n",
       "      <td>0</td>\n",
       "      <td>0</td>\n",
       "      <td>0</td>\n",
       "      <td>1</td>\n",
       "      <td>0</td>\n",
       "      <td>...</td>\n",
       "      <td>1</td>\n",
       "      <td>0</td>\n",
       "      <td>1</td>\n",
       "      <td>0</td>\n",
       "      <td>1</td>\n",
       "      <td>1</td>\n",
       "      <td>0</td>\n",
       "      <td>1</td>\n",
       "      <td>0</td>\n",
       "      <td>1</td>\n",
       "    </tr>\n",
       "    <tr>\n",
       "      <th>alcohol_consumption</th>\n",
       "      <td>0</td>\n",
       "      <td>0</td>\n",
       "      <td>0</td>\n",
       "      <td>1</td>\n",
       "      <td>1</td>\n",
       "      <td>0</td>\n",
       "      <td>1</td>\n",
       "      <td>1</td>\n",
       "      <td>1</td>\n",
       "      <td>1</td>\n",
       "      <td>...</td>\n",
       "      <td>1</td>\n",
       "      <td>0</td>\n",
       "      <td>0</td>\n",
       "      <td>1</td>\n",
       "      <td>0</td>\n",
       "      <td>0</td>\n",
       "      <td>1</td>\n",
       "      <td>1</td>\n",
       "      <td>1</td>\n",
       "      <td>1</td>\n",
       "    </tr>\n",
       "    <tr>\n",
       "      <th>exercise_hours_per_week</th>\n",
       "      <td>2</td>\n",
       "      <td>11</td>\n",
       "      <td>10</td>\n",
       "      <td>6</td>\n",
       "      <td>15</td>\n",
       "      <td>16</td>\n",
       "      <td>19</td>\n",
       "      <td>12</td>\n",
       "      <td>16</td>\n",
       "      <td>1</td>\n",
       "      <td>...</td>\n",
       "      <td>16</td>\n",
       "      <td>15</td>\n",
       "      <td>12</td>\n",
       "      <td>7</td>\n",
       "      <td>6</td>\n",
       "      <td>6</td>\n",
       "      <td>16</td>\n",
       "      <td>9</td>\n",
       "      <td>7</td>\n",
       "      <td>4</td>\n",
       "    </tr>\n",
       "    <tr>\n",
       "      <th>diet</th>\n",
       "      <td>healthy</td>\n",
       "      <td>healthy</td>\n",
       "      <td>average</td>\n",
       "      <td>average</td>\n",
       "      <td>unhealthy</td>\n",
       "      <td>healthy</td>\n",
       "      <td>healthy</td>\n",
       "      <td>average</td>\n",
       "      <td>healthy</td>\n",
       "      <td>healthy</td>\n",
       "      <td>...</td>\n",
       "      <td>average</td>\n",
       "      <td>average</td>\n",
       "      <td>healthy</td>\n",
       "      <td>healthy</td>\n",
       "      <td>average</td>\n",
       "      <td>healthy</td>\n",
       "      <td>average</td>\n",
       "      <td>healthy</td>\n",
       "      <td>healthy</td>\n",
       "      <td>average</td>\n",
       "    </tr>\n",
       "    <tr>\n",
       "      <th>previous_heart_problems</th>\n",
       "      <td>1</td>\n",
       "      <td>0</td>\n",
       "      <td>0</td>\n",
       "      <td>1</td>\n",
       "      <td>1</td>\n",
       "      <td>1</td>\n",
       "      <td>1</td>\n",
       "      <td>1</td>\n",
       "      <td>1</td>\n",
       "      <td>1</td>\n",
       "      <td>...</td>\n",
       "      <td>1</td>\n",
       "      <td>1</td>\n",
       "      <td>0</td>\n",
       "      <td>1</td>\n",
       "      <td>0</td>\n",
       "      <td>1</td>\n",
       "      <td>1</td>\n",
       "      <td>1</td>\n",
       "      <td>1</td>\n",
       "      <td>0</td>\n",
       "    </tr>\n",
       "    <tr>\n",
       "      <th>medication_use</th>\n",
       "      <td>0</td>\n",
       "      <td>0</td>\n",
       "      <td>1</td>\n",
       "      <td>0</td>\n",
       "      <td>1</td>\n",
       "      <td>0</td>\n",
       "      <td>1</td>\n",
       "      <td>1</td>\n",
       "      <td>1</td>\n",
       "      <td>0</td>\n",
       "      <td>...</td>\n",
       "      <td>1</td>\n",
       "      <td>1</td>\n",
       "      <td>0</td>\n",
       "      <td>0</td>\n",
       "      <td>1</td>\n",
       "      <td>1</td>\n",
       "      <td>1</td>\n",
       "      <td>1</td>\n",
       "      <td>0</td>\n",
       "      <td>1</td>\n",
       "    </tr>\n",
       "    <tr>\n",
       "      <th>stress_level</th>\n",
       "      <td>10</td>\n",
       "      <td>8</td>\n",
       "      <td>9</td>\n",
       "      <td>1</td>\n",
       "      <td>1</td>\n",
       "      <td>2</td>\n",
       "      <td>9</td>\n",
       "      <td>4</td>\n",
       "      <td>9</td>\n",
       "      <td>5</td>\n",
       "      <td>...</td>\n",
       "      <td>8</td>\n",
       "      <td>6</td>\n",
       "      <td>5</td>\n",
       "      <td>2</td>\n",
       "      <td>1</td>\n",
       "      <td>8</td>\n",
       "      <td>8</td>\n",
       "      <td>2</td>\n",
       "      <td>9</td>\n",
       "      <td>5</td>\n",
       "    </tr>\n",
       "    <tr>\n",
       "      <th>sedentary_hours_per_day</th>\n",
       "      <td>11</td>\n",
       "      <td>5</td>\n",
       "      <td>7</td>\n",
       "      <td>2</td>\n",
       "      <td>6</td>\n",
       "      <td>5</td>\n",
       "      <td>7</td>\n",
       "      <td>2</td>\n",
       "      <td>4</td>\n",
       "      <td>8</td>\n",
       "      <td>...</td>\n",
       "      <td>6</td>\n",
       "      <td>3</td>\n",
       "      <td>7</td>\n",
       "      <td>9</td>\n",
       "      <td>6</td>\n",
       "      <td>7</td>\n",
       "      <td>8</td>\n",
       "      <td>5</td>\n",
       "      <td>9</td>\n",
       "      <td>11</td>\n",
       "    </tr>\n",
       "    <tr>\n",
       "      <th>bmi</th>\n",
       "      <td>28</td>\n",
       "      <td>39</td>\n",
       "      <td>21</td>\n",
       "      <td>29</td>\n",
       "      <td>37</td>\n",
       "      <td>18</td>\n",
       "      <td>28</td>\n",
       "      <td>25</td>\n",
       "      <td>26</td>\n",
       "      <td>37</td>\n",
       "      <td>...</td>\n",
       "      <td>21</td>\n",
       "      <td>21</td>\n",
       "      <td>35</td>\n",
       "      <td>22</td>\n",
       "      <td>33</td>\n",
       "      <td>31</td>\n",
       "      <td>38</td>\n",
       "      <td>36</td>\n",
       "      <td>21</td>\n",
       "      <td>24</td>\n",
       "    </tr>\n",
       "    <tr>\n",
       "      <th>triglycerides</th>\n",
       "      <td>260</td>\n",
       "      <td>140</td>\n",
       "      <td>210</td>\n",
       "      <td>280</td>\n",
       "      <td>230</td>\n",
       "      <td>330</td>\n",
       "      <td>220</td>\n",
       "      <td>300</td>\n",
       "      <td>380</td>\n",
       "      <td>340</td>\n",
       "      <td>...</td>\n",
       "      <td>290</td>\n",
       "      <td>230</td>\n",
       "      <td>340</td>\n",
       "      <td>190</td>\n",
       "      <td>320</td>\n",
       "      <td>320</td>\n",
       "      <td>360</td>\n",
       "      <td>310</td>\n",
       "      <td>390</td>\n",
       "      <td>220</td>\n",
       "    </tr>\n",
       "    <tr>\n",
       "      <th>physical_activity_days_per_week</th>\n",
       "      <td>1</td>\n",
       "      <td>6</td>\n",
       "      <td>0</td>\n",
       "      <td>6</td>\n",
       "      <td>0</td>\n",
       "      <td>7</td>\n",
       "      <td>2</td>\n",
       "      <td>5</td>\n",
       "      <td>7</td>\n",
       "      <td>5</td>\n",
       "      <td>...</td>\n",
       "      <td>1</td>\n",
       "      <td>3</td>\n",
       "      <td>5</td>\n",
       "      <td>6</td>\n",
       "      <td>6</td>\n",
       "      <td>1</td>\n",
       "      <td>1</td>\n",
       "      <td>2</td>\n",
       "      <td>4</td>\n",
       "      <td>2</td>\n",
       "    </tr>\n",
       "    <tr>\n",
       "      <th>sleep_hours_per_day</th>\n",
       "      <td>8</td>\n",
       "      <td>7</td>\n",
       "      <td>7</td>\n",
       "      <td>6</td>\n",
       "      <td>5</td>\n",
       "      <td>4</td>\n",
       "      <td>6</td>\n",
       "      <td>6</td>\n",
       "      <td>8</td>\n",
       "      <td>9</td>\n",
       "      <td>...</td>\n",
       "      <td>9</td>\n",
       "      <td>9</td>\n",
       "      <td>6</td>\n",
       "      <td>8</td>\n",
       "      <td>7</td>\n",
       "      <td>7</td>\n",
       "      <td>10</td>\n",
       "      <td>4</td>\n",
       "      <td>6</td>\n",
       "      <td>8</td>\n",
       "    </tr>\n",
       "    <tr>\n",
       "      <th>country</th>\n",
       "      <td>new_zealand</td>\n",
       "      <td>south_africa</td>\n",
       "      <td>italy</td>\n",
       "      <td>china</td>\n",
       "      <td>colombia</td>\n",
       "      <td>argentina</td>\n",
       "      <td>china</td>\n",
       "      <td>canada</td>\n",
       "      <td>argentina</td>\n",
       "      <td>spain</td>\n",
       "      <td>...</td>\n",
       "      <td>japan</td>\n",
       "      <td>colombia</td>\n",
       "      <td>brazil</td>\n",
       "      <td>spain</td>\n",
       "      <td>new_zealand</td>\n",
       "      <td>nigeria</td>\n",
       "      <td>nigeria</td>\n",
       "      <td>united_kingdom</td>\n",
       "      <td>china</td>\n",
       "      <td>nigeria</td>\n",
       "    </tr>\n",
       "    <tr>\n",
       "      <th>continent</th>\n",
       "      <td>australia</td>\n",
       "      <td>africa</td>\n",
       "      <td>europe</td>\n",
       "      <td>asia</td>\n",
       "      <td>south_america</td>\n",
       "      <td>south_america</td>\n",
       "      <td>asia</td>\n",
       "      <td>north_america</td>\n",
       "      <td>south_america</td>\n",
       "      <td>europe</td>\n",
       "      <td>...</td>\n",
       "      <td>asia</td>\n",
       "      <td>south_america</td>\n",
       "      <td>south_america</td>\n",
       "      <td>europe</td>\n",
       "      <td>australia</td>\n",
       "      <td>africa</td>\n",
       "      <td>africa</td>\n",
       "      <td>europe</td>\n",
       "      <td>asia</td>\n",
       "      <td>africa</td>\n",
       "    </tr>\n",
       "    <tr>\n",
       "      <th>hemisphere</th>\n",
       "      <td>southern_hemisphere</td>\n",
       "      <td>southern_hemisphere</td>\n",
       "      <td>southern_hemisphere</td>\n",
       "      <td>northern_hemisphere</td>\n",
       "      <td>northern_hemisphere</td>\n",
       "      <td>southern_hemisphere</td>\n",
       "      <td>northern_hemisphere</td>\n",
       "      <td>northern_hemisphere</td>\n",
       "      <td>southern_hemisphere</td>\n",
       "      <td>southern_hemisphere</td>\n",
       "      <td>...</td>\n",
       "      <td>northern_hemisphere</td>\n",
       "      <td>northern_hemisphere</td>\n",
       "      <td>southern_hemisphere</td>\n",
       "      <td>southern_hemisphere</td>\n",
       "      <td>southern_hemisphere</td>\n",
       "      <td>northern_hemisphere</td>\n",
       "      <td>northern_hemisphere</td>\n",
       "      <td>northern_hemisphere</td>\n",
       "      <td>northern_hemisphere</td>\n",
       "      <td>northern_hemisphere</td>\n",
       "    </tr>\n",
       "    <tr>\n",
       "      <th>blood_pressure_min</th>\n",
       "      <td>61</td>\n",
       "      <td>94</td>\n",
       "      <td>82</td>\n",
       "      <td>107</td>\n",
       "      <td>60</td>\n",
       "      <td>107</td>\n",
       "      <td>71</td>\n",
       "      <td>102</td>\n",
       "      <td>78</td>\n",
       "      <td>93</td>\n",
       "      <td>...</td>\n",
       "      <td>87</td>\n",
       "      <td>73</td>\n",
       "      <td>97</td>\n",
       "      <td>75</td>\n",
       "      <td>92</td>\n",
       "      <td>110</td>\n",
       "      <td>90</td>\n",
       "      <td>71</td>\n",
       "      <td>67</td>\n",
       "      <td>90</td>\n",
       "    </tr>\n",
       "    <tr>\n",
       "      <th>blood_pressure_max</th>\n",
       "      <td>168</td>\n",
       "      <td>110</td>\n",
       "      <td>137</td>\n",
       "      <td>117</td>\n",
       "      <td>107</td>\n",
       "      <td>168</td>\n",
       "      <td>165</td>\n",
       "      <td>104</td>\n",
       "      <td>103</td>\n",
       "      <td>139</td>\n",
       "      <td>...</td>\n",
       "      <td>158</td>\n",
       "      <td>115</td>\n",
       "      <td>131</td>\n",
       "      <td>162</td>\n",
       "      <td>149</td>\n",
       "      <td>126</td>\n",
       "      <td>91</td>\n",
       "      <td>169</td>\n",
       "      <td>160</td>\n",
       "      <td>156</td>\n",
       "    </tr>\n",
       "    <tr>\n",
       "      <th>income_30k</th>\n",
       "      <td>1</td>\n",
       "      <td>5</td>\n",
       "      <td>8</td>\n",
       "      <td>7</td>\n",
       "      <td>6</td>\n",
       "      <td>7</td>\n",
       "      <td>4</td>\n",
       "      <td>6</td>\n",
       "      <td>4</td>\n",
       "      <td>5</td>\n",
       "      <td>...</td>\n",
       "      <td>7</td>\n",
       "      <td>5</td>\n",
       "      <td>6</td>\n",
       "      <td>7</td>\n",
       "      <td>5</td>\n",
       "      <td>7</td>\n",
       "      <td>6</td>\n",
       "      <td>0</td>\n",
       "      <td>9</td>\n",
       "      <td>6</td>\n",
       "    </tr>\n",
       "  </tbody>\n",
       "</table>\n",
       "<p>26 rows × 5257 columns</p>\n",
       "</div>"
      ],
      "text/plain": [
       "                                                0                    1     \\\n",
       "patient_id                                   xec3315              nur0492   \n",
       "age                                               87                   29   \n",
       "sex                                             male                 male   \n",
       "cholesterol                                      260                  140   \n",
       "heart_rate                                        84                   83   \n",
       "diabetes                                           1                    1   \n",
       "family_history                                     1                    1   \n",
       "smoking                                            1                    1   \n",
       "obesity                                            1                    0   \n",
       "alcohol_consumption                                0                    0   \n",
       "exercise_hours_per_week                            2                   11   \n",
       "diet                                         healthy              healthy   \n",
       "previous_heart_problems                            1                    0   \n",
       "medication_use                                     0                    0   \n",
       "stress_level                                      10                    8   \n",
       "sedentary_hours_per_day                           11                    5   \n",
       "bmi                                               28                   39   \n",
       "triglycerides                                    260                  140   \n",
       "physical_activity_days_per_week                    1                    6   \n",
       "sleep_hours_per_day                                8                    7   \n",
       "country                                  new_zealand         south_africa   \n",
       "continent                                  australia               africa   \n",
       "hemisphere                       southern_hemisphere  southern_hemisphere   \n",
       "blood_pressure_min                                61                   94   \n",
       "blood_pressure_max                               168                  110   \n",
       "income_30k                                         1                    5   \n",
       "\n",
       "                                                2                    3     \\\n",
       "patient_id                                   qmv8571              nnj7289   \n",
       "age                                               80                   73   \n",
       "sex                                             male                 male   \n",
       "cholesterol                                      210                  280   \n",
       "heart_rate                                       109                   64   \n",
       "diabetes                                           1                    1   \n",
       "family_history                                     1                    1   \n",
       "smoking                                            1                    1   \n",
       "obesity                                            0                    1   \n",
       "alcohol_consumption                                0                    1   \n",
       "exercise_hours_per_week                           10                    6   \n",
       "diet                                         average              average   \n",
       "previous_heart_problems                            0                    1   \n",
       "medication_use                                     1                    0   \n",
       "stress_level                                       9                    1   \n",
       "sedentary_hours_per_day                            7                    2   \n",
       "bmi                                               21                   29   \n",
       "triglycerides                                    210                  280   \n",
       "physical_activity_days_per_week                    0                    6   \n",
       "sleep_hours_per_day                                7                    6   \n",
       "country                                        italy                china   \n",
       "continent                                     europe                 asia   \n",
       "hemisphere                       southern_hemisphere  northern_hemisphere   \n",
       "blood_pressure_min                                82                  107   \n",
       "blood_pressure_max                               137                  117   \n",
       "income_30k                                         8                    7   \n",
       "\n",
       "                                                4                    5     \\\n",
       "patient_id                                   quo6782              onl5969   \n",
       "age                                               87                   31   \n",
       "sex                                           female               female   \n",
       "cholesterol                                      230                  330   \n",
       "heart_rate                                        81                  106   \n",
       "diabetes                                           1                    1   \n",
       "family_history                                     0                    0   \n",
       "smoking                                            1                    0   \n",
       "obesity                                            1                    0   \n",
       "alcohol_consumption                                1                    0   \n",
       "exercise_hours_per_week                           15                   16   \n",
       "diet                                       unhealthy              healthy   \n",
       "previous_heart_problems                            1                    1   \n",
       "medication_use                                     1                    0   \n",
       "stress_level                                       1                    2   \n",
       "sedentary_hours_per_day                            6                    5   \n",
       "bmi                                               37                   18   \n",
       "triglycerides                                    230                  330   \n",
       "physical_activity_days_per_week                    0                    7   \n",
       "sleep_hours_per_day                                5                    4   \n",
       "country                                     colombia            argentina   \n",
       "continent                              south_america        south_america   \n",
       "hemisphere                       northern_hemisphere  southern_hemisphere   \n",
       "blood_pressure_min                                60                  107   \n",
       "blood_pressure_max                               107                  168   \n",
       "income_30k                                         6                    7   \n",
       "\n",
       "                                                6                    7     \\\n",
       "patient_id                                   pzo0044              shw2926   \n",
       "age                                               39                   58   \n",
       "sex                                           female                 male   \n",
       "cholesterol                                      220                  300   \n",
       "heart_rate                                        41                   50   \n",
       "diabetes                                           1                    1   \n",
       "family_history                                     0                    1   \n",
       "smoking                                            0                    1   \n",
       "obesity                                            0                    0   \n",
       "alcohol_consumption                                1                    1   \n",
       "exercise_hours_per_week                           19                   12   \n",
       "diet                                         healthy              average   \n",
       "previous_heart_problems                            1                    1   \n",
       "medication_use                                     1                    1   \n",
       "stress_level                                       9                    4   \n",
       "sedentary_hours_per_day                            7                    2   \n",
       "bmi                                               28                   25   \n",
       "triglycerides                                    220                  300   \n",
       "physical_activity_days_per_week                    2                    5   \n",
       "sleep_hours_per_day                                6                    6   \n",
       "country                                        china               canada   \n",
       "continent                                       asia        north_america   \n",
       "hemisphere                       northern_hemisphere  northern_hemisphere   \n",
       "blood_pressure_min                                71                  102   \n",
       "blood_pressure_max                               165                  104   \n",
       "income_30k                                         4                    6   \n",
       "\n",
       "                                                8                    9     \\\n",
       "patient_id                                   etf0846              sqe8133   \n",
       "age                                               83                   28   \n",
       "sex                                           female               female   \n",
       "cholesterol                                      380                  340   \n",
       "heart_rate                                        92                  105   \n",
       "diabetes                                           1                    0   \n",
       "family_history                                     0                    0   \n",
       "smoking                                            1                    0   \n",
       "obesity                                            1                    0   \n",
       "alcohol_consumption                                1                    1   \n",
       "exercise_hours_per_week                           16                    1   \n",
       "diet                                         healthy              healthy   \n",
       "previous_heart_problems                            1                    1   \n",
       "medication_use                                     1                    0   \n",
       "stress_level                                       9                    5   \n",
       "sedentary_hours_per_day                            4                    8   \n",
       "bmi                                               26                   37   \n",
       "triglycerides                                    380                  340   \n",
       "physical_activity_days_per_week                    7                    5   \n",
       "sleep_hours_per_day                                8                    9   \n",
       "country                                    argentina                spain   \n",
       "continent                              south_america               europe   \n",
       "hemisphere                       southern_hemisphere  southern_hemisphere   \n",
       "blood_pressure_min                                78                   93   \n",
       "blood_pressure_max                               103                  139   \n",
       "income_30k                                         4                    5   \n",
       "\n",
       "                                 ...                 5247  \\\n",
       "patient_id                       ...              hqj0627   \n",
       "age                              ...                   41   \n",
       "sex                              ...                 male   \n",
       "cholesterol                      ...                  290   \n",
       "heart_rate                       ...                   84   \n",
       "diabetes                         ...                    0   \n",
       "family_history                   ...                    0   \n",
       "smoking                          ...                    1   \n",
       "obesity                          ...                    1   \n",
       "alcohol_consumption              ...                    1   \n",
       "exercise_hours_per_week          ...                   16   \n",
       "diet                             ...              average   \n",
       "previous_heart_problems          ...                    1   \n",
       "medication_use                   ...                    1   \n",
       "stress_level                     ...                    8   \n",
       "sedentary_hours_per_day          ...                    6   \n",
       "bmi                              ...                   21   \n",
       "triglycerides                    ...                  290   \n",
       "physical_activity_days_per_week  ...                    1   \n",
       "sleep_hours_per_day              ...                    9   \n",
       "country                          ...                japan   \n",
       "continent                        ...                 asia   \n",
       "hemisphere                       ...  northern_hemisphere   \n",
       "blood_pressure_min               ...                   87   \n",
       "blood_pressure_max               ...                  158   \n",
       "income_30k                       ...                    7   \n",
       "\n",
       "                                                5248                 5249  \\\n",
       "patient_id                                   jds3385              nhx8643   \n",
       "age                                               30                   31   \n",
       "sex                                             male               female   \n",
       "cholesterol                                      230                  340   \n",
       "heart_rate                                        40                   42   \n",
       "diabetes                                           1                    1   \n",
       "family_history                                     1                    0   \n",
       "smoking                                            1                    0   \n",
       "obesity                                            0                    1   \n",
       "alcohol_consumption                                0                    0   \n",
       "exercise_hours_per_week                           15                   12   \n",
       "diet                                         average              healthy   \n",
       "previous_heart_problems                            1                    0   \n",
       "medication_use                                     1                    0   \n",
       "stress_level                                       6                    5   \n",
       "sedentary_hours_per_day                            3                    7   \n",
       "bmi                                               21                   35   \n",
       "triglycerides                                    230                  340   \n",
       "physical_activity_days_per_week                    3                    5   \n",
       "sleep_hours_per_day                                9                    6   \n",
       "country                                     colombia               brazil   \n",
       "continent                              south_america        south_america   \n",
       "hemisphere                       northern_hemisphere  southern_hemisphere   \n",
       "blood_pressure_min                                73                   97   \n",
       "blood_pressure_max                               115                  131   \n",
       "income_30k                                         5                    6   \n",
       "\n",
       "                                                5250                 5251  \\\n",
       "patient_id                                   pwo8077              qfm2664   \n",
       "age                                               42                   58   \n",
       "sex                                             male                 male   \n",
       "cholesterol                                      190                  320   \n",
       "heart_rate                                        47                   40   \n",
       "diabetes                                           0                    1   \n",
       "family_history                                     0                    1   \n",
       "smoking                                            1                    1   \n",
       "obesity                                            0                    1   \n",
       "alcohol_consumption                                1                    0   \n",
       "exercise_hours_per_week                            7                    6   \n",
       "diet                                         healthy              average   \n",
       "previous_heart_problems                            1                    0   \n",
       "medication_use                                     0                    1   \n",
       "stress_level                                       2                    1   \n",
       "sedentary_hours_per_day                            9                    6   \n",
       "bmi                                               22                   33   \n",
       "triglycerides                                    190                  320   \n",
       "physical_activity_days_per_week                    6                    6   \n",
       "sleep_hours_per_day                                8                    7   \n",
       "country                                        spain          new_zealand   \n",
       "continent                                     europe            australia   \n",
       "hemisphere                       southern_hemisphere  southern_hemisphere   \n",
       "blood_pressure_min                                75                   92   \n",
       "blood_pressure_max                               162                  149   \n",
       "income_30k                                         7                    5   \n",
       "\n",
       "                                                5252                 5253  \\\n",
       "patient_id                                   jtc9113              hir1232   \n",
       "age                                               39                   25   \n",
       "sex                                             male                 male   \n",
       "cholesterol                                      320                  360   \n",
       "heart_rate                                        67                   70   \n",
       "diabetes                                           0                    1   \n",
       "family_history                                     1                    1   \n",
       "smoking                                            1                    1   \n",
       "obesity                                            1                    0   \n",
       "alcohol_consumption                                0                    1   \n",
       "exercise_hours_per_week                            6                   16   \n",
       "diet                                         healthy              average   \n",
       "previous_heart_problems                            1                    1   \n",
       "medication_use                                     1                    1   \n",
       "stress_level                                       8                    8   \n",
       "sedentary_hours_per_day                            7                    8   \n",
       "bmi                                               31                   38   \n",
       "triglycerides                                    320                  360   \n",
       "physical_activity_days_per_week                    1                    1   \n",
       "sleep_hours_per_day                                7                   10   \n",
       "country                                      nigeria              nigeria   \n",
       "continent                                     africa               africa   \n",
       "hemisphere                       northern_hemisphere  northern_hemisphere   \n",
       "blood_pressure_min                               110                   90   \n",
       "blood_pressure_max                               126                   91   \n",
       "income_30k                                         7                    6   \n",
       "\n",
       "                                                5254                 5255  \\\n",
       "patient_id                                   dlf2625              zsf7284   \n",
       "age                                               75                   79   \n",
       "sex                                             male               female   \n",
       "cholesterol                                      310                  390   \n",
       "heart_rate                                        84                   44   \n",
       "diabetes                                           1                    1   \n",
       "family_history                                     1                    1   \n",
       "smoking                                            1                    1   \n",
       "obesity                                            1                    0   \n",
       "alcohol_consumption                                1                    1   \n",
       "exercise_hours_per_week                            9                    7   \n",
       "diet                                         healthy              healthy   \n",
       "previous_heart_problems                            1                    1   \n",
       "medication_use                                     1                    0   \n",
       "stress_level                                       2                    9   \n",
       "sedentary_hours_per_day                            5                    9   \n",
       "bmi                                               36                   21   \n",
       "triglycerides                                    310                  390   \n",
       "physical_activity_days_per_week                    2                    4   \n",
       "sleep_hours_per_day                                4                    6   \n",
       "country                               united_kingdom                china   \n",
       "continent                                     europe                 asia   \n",
       "hemisphere                       northern_hemisphere  northern_hemisphere   \n",
       "blood_pressure_min                                71                   67   \n",
       "blood_pressure_max                               169                  160   \n",
       "income_30k                                         0                    9   \n",
       "\n",
       "                                                5256  \n",
       "patient_id                                   uir3262  \n",
       "age                                               55  \n",
       "sex                                             male  \n",
       "cholesterol                                      220  \n",
       "heart_rate                                        80  \n",
       "diabetes                                           1  \n",
       "family_history                                     0  \n",
       "smoking                                            1  \n",
       "obesity                                            1  \n",
       "alcohol_consumption                                1  \n",
       "exercise_hours_per_week                            4  \n",
       "diet                                         average  \n",
       "previous_heart_problems                            0  \n",
       "medication_use                                     1  \n",
       "stress_level                                       5  \n",
       "sedentary_hours_per_day                           11  \n",
       "bmi                                               24  \n",
       "triglycerides                                    220  \n",
       "physical_activity_days_per_week                    2  \n",
       "sleep_hours_per_day                                8  \n",
       "country                                      nigeria  \n",
       "continent                                     africa  \n",
       "hemisphere                       northern_hemisphere  \n",
       "blood_pressure_min                                90  \n",
       "blood_pressure_max                               156  \n",
       "income_30k                                         6  \n",
       "\n",
       "[26 rows x 5257 columns]"
      ]
     },
     "execution_count": 135,
     "metadata": {},
     "output_type": "execute_result"
    }
   ],
   "source": [
    "df_train.T"
   ]
  },
  {
   "cell_type": "code",
   "execution_count": 136,
   "id": "9b7d1f30",
   "metadata": {},
   "outputs": [],
   "source": [
    "train_dicts = df_train[categorical + numerical].to_dict(orient='records')"
   ]
  },
  {
   "cell_type": "code",
   "execution_count": 137,
   "id": "0347923b",
   "metadata": {},
   "outputs": [],
   "source": [
    "dv = DictVectorizer(sparse=False)\n",
    "X_train = dv.fit_transform(train_dicts)"
   ]
  },
  {
   "cell_type": "code",
   "execution_count": 138,
   "id": "65b46aa5",
   "metadata": {},
   "outputs": [
    {
     "data": {
      "text/html": [
       "<style>#sk-container-id-3 {color: black;background-color: white;}#sk-container-id-3 pre{padding: 0;}#sk-container-id-3 div.sk-toggleable {background-color: white;}#sk-container-id-3 label.sk-toggleable__label {cursor: pointer;display: block;width: 100%;margin-bottom: 0;padding: 0.3em;box-sizing: border-box;text-align: center;}#sk-container-id-3 label.sk-toggleable__label-arrow:before {content: \"▸\";float: left;margin-right: 0.25em;color: #696969;}#sk-container-id-3 label.sk-toggleable__label-arrow:hover:before {color: black;}#sk-container-id-3 div.sk-estimator:hover label.sk-toggleable__label-arrow:before {color: black;}#sk-container-id-3 div.sk-toggleable__content {max-height: 0;max-width: 0;overflow: hidden;text-align: left;background-color: #f0f8ff;}#sk-container-id-3 div.sk-toggleable__content pre {margin: 0.2em;color: black;border-radius: 0.25em;background-color: #f0f8ff;}#sk-container-id-3 input.sk-toggleable__control:checked~div.sk-toggleable__content {max-height: 200px;max-width: 100%;overflow: auto;}#sk-container-id-3 input.sk-toggleable__control:checked~label.sk-toggleable__label-arrow:before {content: \"▾\";}#sk-container-id-3 div.sk-estimator input.sk-toggleable__control:checked~label.sk-toggleable__label {background-color: #d4ebff;}#sk-container-id-3 div.sk-label input.sk-toggleable__control:checked~label.sk-toggleable__label {background-color: #d4ebff;}#sk-container-id-3 input.sk-hidden--visually {border: 0;clip: rect(1px 1px 1px 1px);clip: rect(1px, 1px, 1px, 1px);height: 1px;margin: -1px;overflow: hidden;padding: 0;position: absolute;width: 1px;}#sk-container-id-3 div.sk-estimator {font-family: monospace;background-color: #f0f8ff;border: 1px dotted black;border-radius: 0.25em;box-sizing: border-box;margin-bottom: 0.5em;}#sk-container-id-3 div.sk-estimator:hover {background-color: #d4ebff;}#sk-container-id-3 div.sk-parallel-item::after {content: \"\";width: 100%;border-bottom: 1px solid gray;flex-grow: 1;}#sk-container-id-3 div.sk-label:hover label.sk-toggleable__label {background-color: #d4ebff;}#sk-container-id-3 div.sk-serial::before {content: \"\";position: absolute;border-left: 1px solid gray;box-sizing: border-box;top: 0;bottom: 0;left: 50%;z-index: 0;}#sk-container-id-3 div.sk-serial {display: flex;flex-direction: column;align-items: center;background-color: white;padding-right: 0.2em;padding-left: 0.2em;position: relative;}#sk-container-id-3 div.sk-item {position: relative;z-index: 1;}#sk-container-id-3 div.sk-parallel {display: flex;align-items: stretch;justify-content: center;background-color: white;position: relative;}#sk-container-id-3 div.sk-item::before, #sk-container-id-3 div.sk-parallel-item::before {content: \"\";position: absolute;border-left: 1px solid gray;box-sizing: border-box;top: 0;bottom: 0;left: 50%;z-index: -1;}#sk-container-id-3 div.sk-parallel-item {display: flex;flex-direction: column;z-index: 1;position: relative;background-color: white;}#sk-container-id-3 div.sk-parallel-item:first-child::after {align-self: flex-end;width: 50%;}#sk-container-id-3 div.sk-parallel-item:last-child::after {align-self: flex-start;width: 50%;}#sk-container-id-3 div.sk-parallel-item:only-child::after {width: 0;}#sk-container-id-3 div.sk-dashed-wrapped {border: 1px dashed gray;margin: 0 0.4em 0.5em 0.4em;box-sizing: border-box;padding-bottom: 0.4em;background-color: white;}#sk-container-id-3 div.sk-label label {font-family: monospace;font-weight: bold;display: inline-block;line-height: 1.2em;}#sk-container-id-3 div.sk-label-container {text-align: center;}#sk-container-id-3 div.sk-container {/* jupyter's `normalize.less` sets `[hidden] { display: none; }` but bootstrap.min.css set `[hidden] { display: none !important; }` so we also need the `!important` here to be able to override the default hidden behavior on the sphinx rendered scikit-learn.org. See: https://github.com/scikit-learn/scikit-learn/issues/21755 */display: inline-block !important;position: relative;}#sk-container-id-3 div.sk-text-repr-fallback {display: none;}</style><div id=\"sk-container-id-3\" class=\"sk-top-container\"><div class=\"sk-text-repr-fallback\"><pre>DecisionTreeClassifier()</pre><b>In a Jupyter environment, please rerun this cell to show the HTML representation or trust the notebook. <br />On GitHub, the HTML representation is unable to render, please try loading this page with nbviewer.org.</b></div><div class=\"sk-container\" hidden><div class=\"sk-item\"><div class=\"sk-estimator sk-toggleable\"><input class=\"sk-toggleable__control sk-hidden--visually\" id=\"sk-estimator-id-3\" type=\"checkbox\" checked><label for=\"sk-estimator-id-3\" class=\"sk-toggleable__label sk-toggleable__label-arrow\">DecisionTreeClassifier</label><div class=\"sk-toggleable__content\"><pre>DecisionTreeClassifier()</pre></div></div></div></div></div>"
      ],
      "text/plain": [
       "DecisionTreeClassifier()"
      ]
     },
     "execution_count": 138,
     "metadata": {},
     "output_type": "execute_result"
    }
   ],
   "source": [
    "dt = DecisionTreeClassifier()\n",
    "dt.fit(X_train, y_train)"
   ]
  },
  {
   "cell_type": "code",
   "execution_count": 139,
   "id": "9d148c16",
   "metadata": {},
   "outputs": [],
   "source": [
    "val_dicts = df_val[categorical + numerical].to_dict(orient='records')\n",
    "X_val = dv.transform(val_dicts)"
   ]
  },
  {
   "cell_type": "code",
   "execution_count": 140,
   "id": "0c5e4376",
   "metadata": {},
   "outputs": [
    {
     "data": {
      "text/plain": [
       "0.5162994556131852"
      ]
     },
     "execution_count": 140,
     "metadata": {},
     "output_type": "execute_result"
    }
   ],
   "source": [
    "y_pred = dt.predict_proba(X_val)[:,1]\n",
    "roc_auc_score(y_val, y_pred)"
   ]
  },
  {
   "cell_type": "markdown",
   "id": "eb4b271d",
   "metadata": {},
   "source": [
    "## Decision tree tuning parameters :"
   ]
  },
  {
   "cell_type": "code",
   "execution_count": 141,
   "id": "b7628abc",
   "metadata": {},
   "outputs": [
    {
     "data": {
      "text/plain": [
       "<Axes: xlabel='None-max_depth', ylabel='min_samples_leaf'>"
      ]
     },
     "execution_count": 141,
     "metadata": {},
     "output_type": "execute_result"
    },
    {
     "data": {
      "image/png": "[encoded data removed]",
      "text/plain": [
       "<Figure size 640x480 with 2 Axes>"
      ]
     },
     "metadata": {},
     "output_type": "display_data"
    }
   ],
   "source": [
    "scores = []\n",
    "\n",
    "for d in [4,5,6,7,10,15,20,None]:\n",
    "    for s in [1,2,5,10,15,20,100,200,500]:\n",
    "        dt = DecisionTreeClassifier(max_depth=d, min_samples_leaf=s)\n",
    "        dt.fit(X_train, y_train)\n",
    "\n",
    "        y_pred = dt.predict_proba(X_val)[:,1]\n",
    "        auc = roc_auc_score(y_val, y_pred)    \n",
    "    \n",
    "        scores.append((d,s,auc))\n",
    "\n",
    "columns = ['max_depth','min_samples_leaf','auc']\n",
    "df_scores = pd.DataFrame(scores, columns=columns)\n",
    "\n",
    "df_scores_pivot = df_scores.pivot(index='min_samples_leaf', columns=['max_depth'], values=['auc'])\n",
    "df_scores_pivot.round(3)\n",
    "sns.heatmap(df_scores_pivot, annot=True, fmt='.3f')"
   ]
  },
  {
   "cell_type": "code",
   "execution_count": 142,
   "id": "fa8e8afb",
   "metadata": {},
   "outputs": [
    {
     "data": {
      "text/html": [
       "<style>#sk-container-id-4 {color: black;background-color: white;}#sk-container-id-4 pre{padding: 0;}#sk-container-id-4 div.sk-toggleable {background-color: white;}#sk-container-id-4 label.sk-toggleable__label {cursor: pointer;display: block;width: 100%;margin-bottom: 0;padding: 0.3em;box-sizing: border-box;text-align: center;}#sk-container-id-4 label.sk-toggleable__label-arrow:before {content: \"▸\";float: left;margin-right: 0.25em;color: #696969;}#sk-container-id-4 label.sk-toggleable__label-arrow:hover:before {color: black;}#sk-container-id-4 div.sk-estimator:hover label.sk-toggleable__label-arrow:before {color: black;}#sk-container-id-4 div.sk-toggleable__content {max-height: 0;max-width: 0;overflow: hidden;text-align: left;background-color: #f0f8ff;}#sk-container-id-4 div.sk-toggleable__content pre {margin: 0.2em;color: black;border-radius: 0.25em;background-color: #f0f8ff;}#sk-container-id-4 input.sk-toggleable__control:checked~div.sk-toggleable__content {max-height: 200px;max-width: 100%;overflow: auto;}#sk-container-id-4 input.sk-toggleable__control:checked~label.sk-toggleable__label-arrow:before {content: \"▾\";}#sk-container-id-4 div.sk-estimator input.sk-toggleable__control:checked~label.sk-toggleable__label {background-color: #d4ebff;}#sk-container-id-4 div.sk-label input.sk-toggleable__control:checked~label.sk-toggleable__label {background-color: #d4ebff;}#sk-container-id-4 input.sk-hidden--visually {border: 0;clip: rect(1px 1px 1px 1px);clip: rect(1px, 1px, 1px, 1px);height: 1px;margin: -1px;overflow: hidden;padding: 0;position: absolute;width: 1px;}#sk-container-id-4 div.sk-estimator {font-family: monospace;background-color: #f0f8ff;border: 1px dotted black;border-radius: 0.25em;box-sizing: border-box;margin-bottom: 0.5em;}#sk-container-id-4 div.sk-estimator:hover {background-color: #d4ebff;}#sk-container-id-4 div.sk-parallel-item::after {content: \"\";width: 100%;border-bottom: 1px solid gray;flex-grow: 1;}#sk-container-id-4 div.sk-label:hover label.sk-toggleable__label {background-color: #d4ebff;}#sk-container-id-4 div.sk-serial::before {content: \"\";position: absolute;border-left: 1px solid gray;box-sizing: border-box;top: 0;bottom: 0;left: 50%;z-index: 0;}#sk-container-id-4 div.sk-serial {display: flex;flex-direction: column;align-items: center;background-color: white;padding-right: 0.2em;padding-left: 0.2em;position: relative;}#sk-container-id-4 div.sk-item {position: relative;z-index: 1;}#sk-container-id-4 div.sk-parallel {display: flex;align-items: stretch;justify-content: center;background-color: white;position: relative;}#sk-container-id-4 div.sk-item::before, #sk-container-id-4 div.sk-parallel-item::before {content: \"\";position: absolute;border-left: 1px solid gray;box-sizing: border-box;top: 0;bottom: 0;left: 50%;z-index: -1;}#sk-container-id-4 div.sk-parallel-item {display: flex;flex-direction: column;z-index: 1;position: relative;background-color: white;}#sk-container-id-4 div.sk-parallel-item:first-child::after {align-self: flex-end;width: 50%;}#sk-container-id-4 div.sk-parallel-item:last-child::after {align-self: flex-start;width: 50%;}#sk-container-id-4 div.sk-parallel-item:only-child::after {width: 0;}#sk-container-id-4 div.sk-dashed-wrapped {border: 1px dashed gray;margin: 0 0.4em 0.5em 0.4em;box-sizing: border-box;padding-bottom: 0.4em;background-color: white;}#sk-container-id-4 div.sk-label label {font-family: monospace;font-weight: bold;display: inline-block;line-height: 1.2em;}#sk-container-id-4 div.sk-label-container {text-align: center;}#sk-container-id-4 div.sk-container {/* jupyter's `normalize.less` sets `[hidden] { display: none; }` but bootstrap.min.css set `[hidden] { display: none !important; }` so we also need the `!important` here to be able to override the default hidden behavior on the sphinx rendered scikit-learn.org. See: https://github.com/scikit-learn/scikit-learn/issues/21755 */display: inline-block !important;position: relative;}#sk-container-id-4 div.sk-text-repr-fallback {display: none;}</style><div id=\"sk-container-id-4\" class=\"sk-top-container\"><div class=\"sk-text-repr-fallback\"><pre>DecisionTreeClassifier(max_depth=10, min_samples_leaf=100)</pre><b>In a Jupyter environment, please rerun this cell to show the HTML representation or trust the notebook. <br />On GitHub, the HTML representation is unable to render, please try loading this page with nbviewer.org.</b></div><div class=\"sk-container\" hidden><div class=\"sk-item\"><div class=\"sk-estimator sk-toggleable\"><input class=\"sk-toggleable__control sk-hidden--visually\" id=\"sk-estimator-id-4\" type=\"checkbox\" checked><label for=\"sk-estimator-id-4\" class=\"sk-toggleable__label sk-toggleable__label-arrow\">DecisionTreeClassifier</label><div class=\"sk-toggleable__content\"><pre>DecisionTreeClassifier(max_depth=10, min_samples_leaf=100)</pre></div></div></div></div></div>"
      ],
      "text/plain": [
       "DecisionTreeClassifier(max_depth=10, min_samples_leaf=100)"
      ]
     },
     "execution_count": 142,
     "metadata": {},
     "output_type": "execute_result"
    }
   ],
   "source": [
    "dt = DecisionTreeClassifier(max_depth=10, min_samples_leaf=100)\n",
    "dt.fit(X_train, y_train)"
   ]
  },
  {
   "cell_type": "code",
   "execution_count": 143,
   "id": "ac054b13",
   "metadata": {},
   "outputs": [],
   "source": [
    "val_dicts = df_val[categorical + numerical].to_dict(orient='records')\n",
    "X_val = dv.transform(val_dicts)"
   ]
  },
  {
   "cell_type": "code",
   "execution_count": 144,
   "id": "710de83a",
   "metadata": {},
   "outputs": [
    {
     "data": {
      "text/plain": [
       "0.5275751210939174"
      ]
     },
     "execution_count": 144,
     "metadata": {},
     "output_type": "execute_result"
    }
   ],
   "source": [
    "y_pred = dt.predict_proba(X_val)[:,1]\n",
    "roc_auc_score(y_val, y_pred)"
   ]
  },
  {
   "cell_type": "markdown",
   "id": "2028ff6b",
   "metadata": {},
   "source": [
    "## Ensemble Random Forest :"
   ]
  },
  {
   "cell_type": "code",
   "execution_count": 145,
   "id": "1c1a31ba",
   "metadata": {},
   "outputs": [
    {
     "data": {
      "text/html": [
       "<style>#sk-container-id-5 {color: black;background-color: white;}#sk-container-id-5 pre{padding: 0;}#sk-container-id-5 div.sk-toggleable {background-color: white;}#sk-container-id-5 label.sk-toggleable__label {cursor: pointer;display: block;width: 100%;margin-bottom: 0;padding: 0.3em;box-sizing: border-box;text-align: center;}#sk-container-id-5 label.sk-toggleable__label-arrow:before {content: \"▸\";float: left;margin-right: 0.25em;color: #696969;}#sk-container-id-5 label.sk-toggleable__label-arrow:hover:before {color: black;}#sk-container-id-5 div.sk-estimator:hover label.sk-toggleable__label-arrow:before {color: black;}#sk-container-id-5 div.sk-toggleable__content {max-height: 0;max-width: 0;overflow: hidden;text-align: left;background-color: #f0f8ff;}#sk-container-id-5 div.sk-toggleable__content pre {margin: 0.2em;color: black;border-radius: 0.25em;background-color: #f0f8ff;}#sk-container-id-5 input.sk-toggleable__control:checked~div.sk-toggleable__content {max-height: 200px;max-width: 100%;overflow: auto;}#sk-container-id-5 input.sk-toggleable__control:checked~label.sk-toggleable__label-arrow:before {content: \"▾\";}#sk-container-id-5 div.sk-estimator input.sk-toggleable__control:checked~label.sk-toggleable__label {background-color: #d4ebff;}#sk-container-id-5 div.sk-label input.sk-toggleable__control:checked~label.sk-toggleable__label {background-color: #d4ebff;}#sk-container-id-5 input.sk-hidden--visually {border: 0;clip: rect(1px 1px 1px 1px);clip: rect(1px, 1px, 1px, 1px);height: 1px;margin: -1px;overflow: hidden;padding: 0;position: absolute;width: 1px;}#sk-container-id-5 div.sk-estimator {font-family: monospace;background-color: #f0f8ff;border: 1px dotted black;border-radius: 0.25em;box-sizing: border-box;margin-bottom: 0.5em;}#sk-container-id-5 div.sk-estimator:hover {background-color: #d4ebff;}#sk-container-id-5 div.sk-parallel-item::after {content: \"\";width: 100%;border-bottom: 1px solid gray;flex-grow: 1;}#sk-container-id-5 div.sk-label:hover label.sk-toggleable__label {background-color: #d4ebff;}#sk-container-id-5 div.sk-serial::before {content: \"\";position: absolute;border-left: 1px solid gray;box-sizing: border-box;top: 0;bottom: 0;left: 50%;z-index: 0;}#sk-container-id-5 div.sk-serial {display: flex;flex-direction: column;align-items: center;background-color: white;padding-right: 0.2em;padding-left: 0.2em;position: relative;}#sk-container-id-5 div.sk-item {position: relative;z-index: 1;}#sk-container-id-5 div.sk-parallel {display: flex;align-items: stretch;justify-content: center;background-color: white;position: relative;}#sk-container-id-5 div.sk-item::before, #sk-container-id-5 div.sk-parallel-item::before {content: \"\";position: absolute;border-left: 1px solid gray;box-sizing: border-box;top: 0;bottom: 0;left: 50%;z-index: -1;}#sk-container-id-5 div.sk-parallel-item {display: flex;flex-direction: column;z-index: 1;position: relative;background-color: white;}#sk-container-id-5 div.sk-parallel-item:first-child::after {align-self: flex-end;width: 50%;}#sk-container-id-5 div.sk-parallel-item:last-child::after {align-self: flex-start;width: 50%;}#sk-container-id-5 div.sk-parallel-item:only-child::after {width: 0;}#sk-container-id-5 div.sk-dashed-wrapped {border: 1px dashed gray;margin: 0 0.4em 0.5em 0.4em;box-sizing: border-box;padding-bottom: 0.4em;background-color: white;}#sk-container-id-5 div.sk-label label {font-family: monospace;font-weight: bold;display: inline-block;line-height: 1.2em;}#sk-container-id-5 div.sk-label-container {text-align: center;}#sk-container-id-5 div.sk-container {/* jupyter's `normalize.less` sets `[hidden] { display: none; }` but bootstrap.min.css set `[hidden] { display: none !important; }` so we also need the `!important` here to be able to override the default hidden behavior on the sphinx rendered scikit-learn.org. See: https://github.com/scikit-learn/scikit-learn/issues/21755 */display: inline-block !important;position: relative;}#sk-container-id-5 div.sk-text-repr-fallback {display: none;}</style><div id=\"sk-container-id-5\" class=\"sk-top-container\"><div class=\"sk-text-repr-fallback\"><pre>RandomForestClassifier(n_estimators=10, random_state=1)</pre><b>In a Jupyter environment, please rerun this cell to show the HTML representation or trust the notebook. <br />On GitHub, the HTML representation is unable to render, please try loading this page with nbviewer.org.</b></div><div class=\"sk-container\" hidden><div class=\"sk-item\"><div class=\"sk-estimator sk-toggleable\"><input class=\"sk-toggleable__control sk-hidden--visually\" id=\"sk-estimator-id-5\" type=\"checkbox\" checked><label for=\"sk-estimator-id-5\" class=\"sk-toggleable__label sk-toggleable__label-arrow\">RandomForestClassifier</label><div class=\"sk-toggleable__content\"><pre>RandomForestClassifier(n_estimators=10, random_state=1)</pre></div></div></div></div></div>"
      ],
      "text/plain": [
       "RandomForestClassifier(n_estimators=10, random_state=1)"
      ]
     },
     "execution_count": 145,
     "metadata": {},
     "output_type": "execute_result"
    }
   ],
   "source": [
    "rf = RandomForestClassifier(n_estimators=10, random_state=1) \n",
    "rf.fit(X_train, y_train)"
   ]
  },
  {
   "cell_type": "code",
   "execution_count": 146,
   "id": "8fcb7e43",
   "metadata": {},
   "outputs": [],
   "source": [
    "y_pred = rf.predict_proba(X_val)[:,1]"
   ]
  },
  {
   "cell_type": "code",
   "execution_count": 147,
   "id": "ffcafd77",
   "metadata": {},
   "outputs": [
    {
     "data": {
      "text/plain": [
       "0.5110463371769043"
      ]
     },
     "execution_count": 147,
     "metadata": {},
     "output_type": "execute_result"
    }
   ],
   "source": [
    "roc_auc_score(y_val, y_pred)"
   ]
  },
  {
   "cell_type": "code",
   "execution_count": 148,
   "id": "08348975",
   "metadata": {},
   "outputs": [
    {
     "data": {
      "application/vnd.jupyter.widget-view+json": {
       "model_id": "c2261057974c4a54bfdd00deddf12f59",
       "version_major": 2,
       "version_minor": 0
      },
      "text/plain": [
       "  0%|          | 0/20 [00:00<?, ?it/s]"
      ]
     },
     "metadata": {},
     "output_type": "display_data"
    },
    {
     "data": {
      "application/vnd.jupyter.widget-view+json": {
       "model_id": "77a60e582f5e46b4bbb8fcda8bf6616e",
       "version_major": 2,
       "version_minor": 0
      },
      "text/plain": [
       "  0%|          | 0/20 [00:00<?, ?it/s]"
      ]
     },
     "metadata": {},
     "output_type": "display_data"
    },
    {
     "data": {
      "application/vnd.jupyter.widget-view+json": {
       "model_id": "2ee2690b45294d0bb646af0c3f176ebd",
       "version_major": 2,
       "version_minor": 0
      },
      "text/plain": [
       "  0%|          | 0/20 [00:00<?, ?it/s]"
      ]
     },
     "metadata": {},
     "output_type": "display_data"
    },
    {
     "data": {
      "text/html": [
       "<div>\n",
       "<style scoped>\n",
       "    .dataframe tbody tr th:only-of-type {\n",
       "        vertical-align: middle;\n",
       "    }\n",
       "\n",
       "    .dataframe tbody tr th {\n",
       "        vertical-align: top;\n",
       "    }\n",
       "\n",
       "    .dataframe thead th {\n",
       "        text-align: right;\n",
       "    }\n",
       "</style>\n",
       "<table border=\"1\" class=\"dataframe\">\n",
       "  <thead>\n",
       "    <tr style=\"text-align: right;\">\n",
       "      <th></th>\n",
       "      <th>max_depth</th>\n",
       "      <th>n_estimators</th>\n",
       "      <th>auc</th>\n",
       "    </tr>\n",
       "  </thead>\n",
       "  <tbody>\n",
       "    <tr>\n",
       "      <th>0</th>\n",
       "      <td>15</td>\n",
       "      <td>10</td>\n",
       "      <td>0.506910</td>\n",
       "    </tr>\n",
       "    <tr>\n",
       "      <th>1</th>\n",
       "      <td>15</td>\n",
       "      <td>20</td>\n",
       "      <td>0.506588</td>\n",
       "    </tr>\n",
       "    <tr>\n",
       "      <th>2</th>\n",
       "      <td>15</td>\n",
       "      <td>30</td>\n",
       "      <td>0.509692</td>\n",
       "    </tr>\n",
       "    <tr>\n",
       "      <th>3</th>\n",
       "      <td>15</td>\n",
       "      <td>40</td>\n",
       "      <td>0.506930</td>\n",
       "    </tr>\n",
       "    <tr>\n",
       "      <th>4</th>\n",
       "      <td>15</td>\n",
       "      <td>50</td>\n",
       "      <td>0.511282</td>\n",
       "    </tr>\n",
       "  </tbody>\n",
       "</table>\n",
       "</div>"
      ],
      "text/plain": [
       "   max_depth  n_estimators       auc\n",
       "0         15            10  0.506910\n",
       "1         15            20  0.506588\n",
       "2         15            30  0.509692\n",
       "3         15            40  0.506930\n",
       "4         15            50  0.511282"
      ]
     },
     "execution_count": 148,
     "metadata": {},
     "output_type": "execute_result"
    }
   ],
   "source": [
    "scores = []\n",
    "\n",
    "for d in [15, 20, 25]:\n",
    "\n",
    "    for n in tqdm(range(10,201,10)):\n",
    "        #print(n)\n",
    "\n",
    "        rf = RandomForestClassifier(n_estimators=n, \n",
    "                                    max_depth=d, # set max_depth\n",
    "                                    random_state=1)         \n",
    "\n",
    "        rf.fit(X_train, y_train)\n",
    "        y_pred = rf.predict_proba(X_val)[:,1]\n",
    "        auc = roc_auc_score(y_val, y_pred)\n",
    "\n",
    "        scores.append((d, n, auc))\n",
    "\n",
    "columns=['max_depth','n_estimators','auc']\n",
    "\n",
    "df_scores= pd.DataFrame(scores, columns=columns)\n",
    "df_scores.head()"
   ]
  },
  {
   "cell_type": "code",
   "execution_count": 149,
   "id": "fdb228dd",
   "metadata": {},
   "outputs": [
    {
     "data": {
      "text/plain": [
       "<matplotlib.legend.Legend at 0x7f647d169db0>"
      ]
     },
     "execution_count": 149,
     "metadata": {},
     "output_type": "execute_result"
    },
    {
     "data": {
      "image/png": "[encoded data removed]",
      "text/plain": [
       "<Figure size 640x480 with 1 Axes>"
      ]
     },
     "metadata": {},
     "output_type": "display_data"
    }
   ],
   "source": [
    "for d in [15, 20, 25]:\n",
    "    df_subset=df_scores[df_scores.max_depth==d]\n",
    "    plt.plot(df_subset.n_estimators, \n",
    "              df_subset.auc,\n",
    "              label='max_depth=%d'%d)\n",
    "plt.legend()   "
   ]
  },
  {
   "cell_type": "code",
   "execution_count": 150,
   "id": "171569d2",
   "metadata": {},
   "outputs": [],
   "source": [
    "max_depth = 15"
   ]
  },
  {
   "cell_type": "code",
   "execution_count": 151,
   "id": "294d8d7a",
   "metadata": {},
   "outputs": [
    {
     "data": {
      "application/vnd.jupyter.widget-view+json": {
       "model_id": "ba38746fc81e4c11a724d2a2dedf85b5",
       "version_major": 2,
       "version_minor": 0
      },
      "text/plain": [
       "  0%|          | 0/20 [00:00<?, ?it/s]"
      ]
     },
     "metadata": {},
     "output_type": "display_data"
    },
    {
     "data": {
      "application/vnd.jupyter.widget-view+json": {
       "model_id": "090ceb0c49b642da9dfa5e274d6e6254",
       "version_major": 2,
       "version_minor": 0
      },
      "text/plain": [
       "  0%|          | 0/20 [00:00<?, ?it/s]"
      ]
     },
     "metadata": {},
     "output_type": "display_data"
    },
    {
     "data": {
      "application/vnd.jupyter.widget-view+json": {
       "model_id": "a2794f76a6b3469e8aefba1160e45f74",
       "version_major": 2,
       "version_minor": 0
      },
      "text/plain": [
       "  0%|          | 0/20 [00:00<?, ?it/s]"
      ]
     },
     "metadata": {},
     "output_type": "display_data"
    },
    {
     "data": {
      "application/vnd.jupyter.widget-view+json": {
       "model_id": "ee9e6936e03444809b1778541cb85635",
       "version_major": 2,
       "version_minor": 0
      },
      "text/plain": [
       "  0%|          | 0/20 [00:00<?, ?it/s]"
      ]
     },
     "metadata": {},
     "output_type": "display_data"
    },
    {
     "data": {
      "application/vnd.jupyter.widget-view+json": {
       "model_id": "e9e106a0a00344fa976d443366c6dd38",
       "version_major": 2,
       "version_minor": 0
      },
      "text/plain": [
       "  0%|          | 0/20 [00:00<?, ?it/s]"
      ]
     },
     "metadata": {},
     "output_type": "display_data"
    },
    {
     "data": {
      "text/html": [
       "<div>\n",
       "<style scoped>\n",
       "    .dataframe tbody tr th:only-of-type {\n",
       "        vertical-align: middle;\n",
       "    }\n",
       "\n",
       "    .dataframe tbody tr th {\n",
       "        vertical-align: top;\n",
       "    }\n",
       "\n",
       "    .dataframe thead th {\n",
       "        text-align: right;\n",
       "    }\n",
       "</style>\n",
       "<table border=\"1\" class=\"dataframe\">\n",
       "  <thead>\n",
       "    <tr style=\"text-align: right;\">\n",
       "      <th></th>\n",
       "      <th>min_samples_leaf</th>\n",
       "      <th>n_estimators</th>\n",
       "      <th>auc</th>\n",
       "    </tr>\n",
       "  </thead>\n",
       "  <tbody>\n",
       "    <tr>\n",
       "      <th>0</th>\n",
       "      <td>1</td>\n",
       "      <td>10</td>\n",
       "      <td>0.506910</td>\n",
       "    </tr>\n",
       "    <tr>\n",
       "      <th>1</th>\n",
       "      <td>1</td>\n",
       "      <td>20</td>\n",
       "      <td>0.506588</td>\n",
       "    </tr>\n",
       "    <tr>\n",
       "      <th>2</th>\n",
       "      <td>1</td>\n",
       "      <td>30</td>\n",
       "      <td>0.509692</td>\n",
       "    </tr>\n",
       "    <tr>\n",
       "      <th>3</th>\n",
       "      <td>1</td>\n",
       "      <td>40</td>\n",
       "      <td>0.506930</td>\n",
       "    </tr>\n",
       "    <tr>\n",
       "      <th>4</th>\n",
       "      <td>1</td>\n",
       "      <td>50</td>\n",
       "      <td>0.511282</td>\n",
       "    </tr>\n",
       "  </tbody>\n",
       "</table>\n",
       "</div>"
      ],
      "text/plain": [
       "   min_samples_leaf  n_estimators       auc\n",
       "0                 1            10  0.506910\n",
       "1                 1            20  0.506588\n",
       "2                 1            30  0.509692\n",
       "3                 1            40  0.506930\n",
       "4                 1            50  0.511282"
      ]
     },
     "execution_count": 151,
     "metadata": {},
     "output_type": "execute_result"
    }
   ],
   "source": [
    "scores = []\n",
    "\n",
    "for s in [1,3,5,10,50]: #min_sample_leaf\n",
    "\n",
    "    for n in tqdm(range(10,201,10)):\n",
    "        #print(n)\n",
    "\n",
    "        rf = RandomForestClassifier(n_estimators=n, \n",
    "                                    max_depth=max_depth, \n",
    "                                    min_samples_leaf=s, \n",
    "                                    random_state=1)         \n",
    "\n",
    "        rf.fit(X_train, y_train)\n",
    "        y_pred = rf.predict_proba(X_val)[:,1]\n",
    "        auc = roc_auc_score(y_val, y_pred)\n",
    "\n",
    "        scores.append((s, n, auc))\n",
    "\n",
    "columns=['min_samples_leaf','n_estimators','auc']\n",
    "df_scores= pd.DataFrame(scores, columns=columns)\n",
    "df_scores.head()"
   ]
  },
  {
   "cell_type": "code",
   "execution_count": 152,
   "id": "61cde301",
   "metadata": {},
   "outputs": [
    {
     "data": {
      "text/plain": [
       "<matplotlib.legend.Legend at 0x7f647b24b4c0>"
      ]
     },
     "execution_count": 152,
     "metadata": {},
     "output_type": "execute_result"
    },
    {
     "data": {
      "image/png": "[encoded data removed]",
      "text/plain": [
       "<Figure size 640x480 with 1 Axes>"
      ]
     },
     "metadata": {},
     "output_type": "display_data"
    }
   ],
   "source": [
    "for s in [1,3,5,10,50]:\n",
    "    df_subset=df_scores[df_scores.min_samples_leaf==s]\n",
    "    plt.plot(df_subset.n_estimators, \n",
    "              df_subset.auc,\n",
    "              label='min_samples_leaf=%d'%s)\n",
    "plt.legend()   "
   ]
  },
  {
   "cell_type": "code",
   "execution_count": 153,
   "id": "2c4991e3",
   "metadata": {},
   "outputs": [],
   "source": [
    "min_sample_leaf = 1\n",
    "n = 40\n",
    "max_depth=6"
   ]
  },
  {
   "cell_type": "code",
   "execution_count": 154,
   "id": "1c0c33e0",
   "metadata": {},
   "outputs": [
    {
     "data": {
      "text/html": [
       "<style>#sk-container-id-6 {color: black;background-color: white;}#sk-container-id-6 pre{padding: 0;}#sk-container-id-6 div.sk-toggleable {background-color: white;}#sk-container-id-6 label.sk-toggleable__label {cursor: pointer;display: block;width: 100%;margin-bottom: 0;padding: 0.3em;box-sizing: border-box;text-align: center;}#sk-container-id-6 label.sk-toggleable__label-arrow:before {content: \"▸\";float: left;margin-right: 0.25em;color: #696969;}#sk-container-id-6 label.sk-toggleable__label-arrow:hover:before {color: black;}#sk-container-id-6 div.sk-estimator:hover label.sk-toggleable__label-arrow:before {color: black;}#sk-container-id-6 div.sk-toggleable__content {max-height: 0;max-width: 0;overflow: hidden;text-align: left;background-color: #f0f8ff;}#sk-container-id-6 div.sk-toggleable__content pre {margin: 0.2em;color: black;border-radius: 0.25em;background-color: #f0f8ff;}#sk-container-id-6 input.sk-toggleable__control:checked~div.sk-toggleable__content {max-height: 200px;max-width: 100%;overflow: auto;}#sk-container-id-6 input.sk-toggleable__control:checked~label.sk-toggleable__label-arrow:before {content: \"▾\";}#sk-container-id-6 div.sk-estimator input.sk-toggleable__control:checked~label.sk-toggleable__label {background-color: #d4ebff;}#sk-container-id-6 div.sk-label input.sk-toggleable__control:checked~label.sk-toggleable__label {background-color: #d4ebff;}#sk-container-id-6 input.sk-hidden--visually {border: 0;clip: rect(1px 1px 1px 1px);clip: rect(1px, 1px, 1px, 1px);height: 1px;margin: -1px;overflow: hidden;padding: 0;position: absolute;width: 1px;}#sk-container-id-6 div.sk-estimator {font-family: monospace;background-color: #f0f8ff;border: 1px dotted black;border-radius: 0.25em;box-sizing: border-box;margin-bottom: 0.5em;}#sk-container-id-6 div.sk-estimator:hover {background-color: #d4ebff;}#sk-container-id-6 div.sk-parallel-item::after {content: \"\";width: 100%;border-bottom: 1px solid gray;flex-grow: 1;}#sk-container-id-6 div.sk-label:hover label.sk-toggleable__label {background-color: #d4ebff;}#sk-container-id-6 div.sk-serial::before {content: \"\";position: absolute;border-left: 1px solid gray;box-sizing: border-box;top: 0;bottom: 0;left: 50%;z-index: 0;}#sk-container-id-6 div.sk-serial {display: flex;flex-direction: column;align-items: center;background-color: white;padding-right: 0.2em;padding-left: 0.2em;position: relative;}#sk-container-id-6 div.sk-item {position: relative;z-index: 1;}#sk-container-id-6 div.sk-parallel {display: flex;align-items: stretch;justify-content: center;background-color: white;position: relative;}#sk-container-id-6 div.sk-item::before, #sk-container-id-6 div.sk-parallel-item::before {content: \"\";position: absolute;border-left: 1px solid gray;box-sizing: border-box;top: 0;bottom: 0;left: 50%;z-index: -1;}#sk-container-id-6 div.sk-parallel-item {display: flex;flex-direction: column;z-index: 1;position: relative;background-color: white;}#sk-container-id-6 div.sk-parallel-item:first-child::after {align-self: flex-end;width: 50%;}#sk-container-id-6 div.sk-parallel-item:last-child::after {align-self: flex-start;width: 50%;}#sk-container-id-6 div.sk-parallel-item:only-child::after {width: 0;}#sk-container-id-6 div.sk-dashed-wrapped {border: 1px dashed gray;margin: 0 0.4em 0.5em 0.4em;box-sizing: border-box;padding-bottom: 0.4em;background-color: white;}#sk-container-id-6 div.sk-label label {font-family: monospace;font-weight: bold;display: inline-block;line-height: 1.2em;}#sk-container-id-6 div.sk-label-container {text-align: center;}#sk-container-id-6 div.sk-container {/* jupyter's `normalize.less` sets `[hidden] { display: none; }` but bootstrap.min.css set `[hidden] { display: none !important; }` so we also need the `!important` here to be able to override the default hidden behavior on the sphinx rendered scikit-learn.org. See: https://github.com/scikit-learn/scikit-learn/issues/21755 */display: inline-block !important;position: relative;}#sk-container-id-6 div.sk-text-repr-fallback {display: none;}</style><div id=\"sk-container-id-6\" class=\"sk-top-container\"><div class=\"sk-text-repr-fallback\"><pre>RandomForestClassifier(max_depth=6, n_estimators=40)</pre><b>In a Jupyter environment, please rerun this cell to show the HTML representation or trust the notebook. <br />On GitHub, the HTML representation is unable to render, please try loading this page with nbviewer.org.</b></div><div class=\"sk-container\" hidden><div class=\"sk-item\"><div class=\"sk-estimator sk-toggleable\"><input class=\"sk-toggleable__control sk-hidden--visually\" id=\"sk-estimator-id-6\" type=\"checkbox\" checked><label for=\"sk-estimator-id-6\" class=\"sk-toggleable__label sk-toggleable__label-arrow\">RandomForestClassifier</label><div class=\"sk-toggleable__content\"><pre>RandomForestClassifier(max_depth=6, n_estimators=40)</pre></div></div></div></div></div>"
      ],
      "text/plain": [
       "RandomForestClassifier(max_depth=6, n_estimators=40)"
      ]
     },
     "execution_count": 154,
     "metadata": {},
     "output_type": "execute_result"
    }
   ],
   "source": [
    "rf = RandomForestClassifier(n_estimators=n, \n",
    "                            max_depth=max_depth,\n",
    "                            min_samples_leaf=min_sample_leaf)\n",
    "\n",
    "rf.fit(X_train, y_train)"
   ]
  },
  {
   "cell_type": "code",
   "execution_count": 155,
   "id": "84a24338",
   "metadata": {},
   "outputs": [],
   "source": [
    "y_pred = rf.predict_proba(X_val)[:,1]"
   ]
  },
  {
   "cell_type": "code",
   "execution_count": 156,
   "id": "844f4063",
   "metadata": {},
   "outputs": [
    {
     "data": {
      "text/plain": [
       "0.5052824095903525"
      ]
     },
     "execution_count": 156,
     "metadata": {},
     "output_type": "execute_result"
    }
   ],
   "source": [
    "roc_auc_score(y_val, y_pred)"
   ]
  },
  {
   "cell_type": "markdown",
   "id": "927a6297",
   "metadata": {},
   "source": [
    "## Xgboost :"
   ]
  },
  {
   "cell_type": "code",
   "execution_count": 157,
   "id": "70e145bb",
   "metadata": {},
   "outputs": [
    {
     "data": {
      "text/plain": [
       "array(['age', 'alcohol_consumption', 'blood_pressure_max',\n",
       "       'blood_pressure_min', 'bmi', 'cholesterol', 'continent=africa',\n",
       "       'continent=asia', 'continent=australia', 'continent=europe',\n",
       "       'continent=north_america', 'continent=south_america',\n",
       "       'country=argentina', 'country=australia', 'country=brazil',\n",
       "       'country=canada', 'country=china', 'country=colombia',\n",
       "       'country=france', 'country=germany', 'country=india',\n",
       "       'country=italy', 'country=japan', 'country=new_zealand',\n",
       "       'country=nigeria', 'country=south_africa', 'country=south_korea',\n",
       "       'country=spain', 'country=thailand', 'country=united_kingdom',\n",
       "       'country=united_states', 'country=vietnam', 'diabetes',\n",
       "       'diet=average', 'diet=healthy', 'diet=unhealthy',\n",
       "       'exercise_hours_per_week', 'family_history', 'heart_rate',\n",
       "       'hemisphere=northern_hemisphere', 'hemisphere=southern_hemisphere',\n",
       "       'income_30k', 'medication_use', 'obesity',\n",
       "       'physical_activity_days_per_week', 'previous_heart_problems',\n",
       "       'sedentary_hours_per_day', 'sex=female', 'sex=male',\n",
       "       'sleep_hours_per_day', 'smoking', 'stress_level', 'triglycerides'],\n",
       "      dtype=object)"
      ]
     },
     "execution_count": 157,
     "metadata": {},
     "output_type": "execute_result"
    }
   ],
   "source": [
    "dv.get_feature_names_out()"
   ]
  },
  {
   "cell_type": "code",
   "execution_count": 158,
   "id": "54a6a40d",
   "metadata": {},
   "outputs": [],
   "source": [
    "dtrain = xgb.DMatrix(X_train, label=y_train, feature_names=dv.get_feature_names_out())\n",
    "dval = xgb.DMatrix(X_val, label=y_val, feature_names=dv.get_feature_names_out())"
   ]
  },
  {
   "cell_type": "code",
   "execution_count": 159,
   "id": "739cd498",
   "metadata": {},
   "outputs": [],
   "source": [
    "xgb_params = {\n",
    "    'eta':0.3,                 \n",
    "    'max_depth' :6,\n",
    "    'min_child_weight': 1,\n",
    "    \n",
    "    'objective':'binary:logistic',\n",
    "    'nthread':8,\n",
    "    'seed':1,\n",
    "    'verbosity':1                                    \n",
    "}\n",
    "\n",
    "model = xgb.train(xgb_params, dtrain, num_boost_round=200)"
   ]
  },
  {
   "cell_type": "code",
   "execution_count": 160,
   "id": "c2c26e84",
   "metadata": {},
   "outputs": [],
   "source": [
    "y_pred = model.predict(dval)"
   ]
  },
  {
   "cell_type": "code",
   "execution_count": 161,
   "id": "0abb0701",
   "metadata": {},
   "outputs": [
    {
     "data": {
      "text/plain": [
       "0.5182169545772787"
      ]
     },
     "execution_count": 161,
     "metadata": {},
     "output_type": "execute_result"
    }
   ],
   "source": [
    "roc_auc_score(y_val, y_pred)"
   ]
  },
  {
   "cell_type": "markdown",
   "id": "56f5d2fb",
   "metadata": {},
   "source": [
    "### Tuning Xgboost : "
   ]
  },
  {
   "cell_type": "code",
   "execution_count": 162,
   "id": "b94f2475",
   "metadata": {},
   "outputs": [],
   "source": [
    "def parse_xgb_output(output):\n",
    "    results= []\n",
    "   \n",
    "    for line in output.stdout.strip().split('\\n'):\n",
    "        it_line, train_line, val_line = line.split('\\t')\n",
    "        \n",
    "        it = int(it_line.strip('[]'))\n",
    "        train = float(train_line.split(':')[1])\n",
    "        val = float(val_line.split(':')[1])\n",
    "        \n",
    "        results.append((it, train, val))\n",
    "        \n",
    "    columns = ['num_iteration','auc_train','auc_val']\n",
    "    df_results = pd.DataFrame(results, columns=columns )    \n",
    "        \n",
    "    return df_results"
   ]
  },
  {
   "cell_type": "code",
   "execution_count": 163,
   "id": "326c7798",
   "metadata": {},
   "outputs": [],
   "source": [
    "watchlist = [(dtrain,'train'),(dval,'val')]"
   ]
  },
  {
   "cell_type": "code",
   "execution_count": 164,
   "id": "88d39477",
   "metadata": {},
   "outputs": [
    {
     "name": "stdout",
     "output_type": "stream",
     "text": [
      "[0]\ttrain-auc:0.60291\tval-auc:0.49018\n",
      "[5]\ttrain-auc:0.78336\tval-auc:0.51209\n",
      "[10]\ttrain-auc:0.84992\tval-auc:0.51569\n",
      "[15]\ttrain-auc:0.90330\tval-auc:0.52717\n",
      "[20]\ttrain-auc:0.93612\tval-auc:0.53002\n",
      "[25]\ttrain-auc:0.95555\tval-auc:0.53134\n",
      "[30]\ttrain-auc:0.96955\tval-auc:0.52374\n",
      "[35]\ttrain-auc:0.98092\tval-auc:0.53193\n",
      "[40]\ttrain-auc:0.98644\tval-auc:0.52548\n",
      "[45]\ttrain-auc:0.99195\tval-auc:0.52541\n",
      "[50]\ttrain-auc:0.99494\tval-auc:0.52756\n",
      "[55]\ttrain-auc:0.99658\tval-auc:0.53341\n",
      "[60]\ttrain-auc:0.99824\tval-auc:0.53226\n",
      "[65]\ttrain-auc:0.99894\tval-auc:0.53340\n",
      "[70]\ttrain-auc:0.99934\tval-auc:0.53520\n",
      "[75]\ttrain-auc:0.99959\tval-auc:0.53324\n",
      "[80]\ttrain-auc:0.99971\tval-auc:0.53157\n",
      "[85]\ttrain-auc:0.99981\tval-auc:0.52849\n",
      "[90]\ttrain-auc:0.99989\tval-auc:0.52651\n",
      "[95]\ttrain-auc:0.99992\tval-auc:0.52428\n",
      "[100]\ttrain-auc:0.99994\tval-auc:0.52538\n",
      "[105]\ttrain-auc:0.99998\tval-auc:0.52585\n",
      "[110]\ttrain-auc:0.99998\tval-auc:0.52400\n",
      "[115]\ttrain-auc:0.99999\tval-auc:0.52355\n",
      "[120]\ttrain-auc:1.00000\tval-auc:0.52274\n",
      "[125]\ttrain-auc:1.00000\tval-auc:0.52345\n",
      "[130]\ttrain-auc:1.00000\tval-auc:0.52406\n",
      "[135]\ttrain-auc:1.00000\tval-auc:0.52333\n",
      "[140]\ttrain-auc:1.00000\tval-auc:0.52198\n",
      "[145]\ttrain-auc:1.00000\tval-auc:0.52380\n",
      "[150]\ttrain-auc:1.00000\tval-auc:0.52045\n",
      "[155]\ttrain-auc:1.00000\tval-auc:0.52146\n",
      "[160]\ttrain-auc:1.00000\tval-auc:0.52114\n",
      "[165]\ttrain-auc:1.00000\tval-auc:0.51918\n",
      "[170]\ttrain-auc:1.00000\tval-auc:0.51699\n",
      "[175]\ttrain-auc:1.00000\tval-auc:0.51611\n",
      "[180]\ttrain-auc:1.00000\tval-auc:0.51685\n",
      "[185]\ttrain-auc:1.00000\tval-auc:0.52015\n",
      "[190]\ttrain-auc:1.00000\tval-auc:0.51904\n",
      "[195]\ttrain-auc:1.00000\tval-auc:0.51784\n",
      "[199]\ttrain-auc:1.00000\tval-auc:0.51822\n"
     ]
    }
   ],
   "source": [
    "xgb_params = {\n",
    "    'eta':0.3,               \n",
    "    'max_depth' :6,\n",
    "    'min_child_weight': 1,   \n",
    "    \n",
    "    'objective':'binary:logistic',\n",
    "    'eval_metric':'auc',\n",
    "    \n",
    "    'nthread':8,\n",
    "    'seed':1,\n",
    "    'verbosity':1                               \n",
    "}\n",
    "\n",
    "model = xgb.train(xgb_params, dtrain,num_boost_round=200,verbose_eval=5,\n",
    "                  evals= watchlist\n",
    "                 )\n"
   ]
  },
  {
   "cell_type": "markdown",
   "id": "42319d60",
   "metadata": {},
   "source": [
    "## Tuning 'eta' parameter :"
   ]
  },
  {
   "cell_type": "code",
   "execution_count": 165,
   "id": "67891998",
   "metadata": {},
   "outputs": [],
   "source": [
    "scores = {}\n",
    "num_boost_round = 300"
   ]
  },
  {
   "cell_type": "code",
   "execution_count": 166,
   "id": "45414bb7",
   "metadata": {},
   "outputs": [],
   "source": [
    "%%capture output\n",
    "\n",
    "watchlist = [(dtrain,'train'),(dval,'val')]\n",
    "\n",
    "xgb_params = {\n",
    "    'eta':0.02,               \n",
    "    'max_depth' :6,\n",
    "    'min_child_weight': 1,   \n",
    "    \n",
    "    'objective':'binary:logistic',\n",
    "    'eval_metric':'auc',\n",
    "    \n",
    "    'nthread':8,\n",
    "    'seed':1,\n",
    "    'verbosity':1                               \n",
    "}\n",
    "\n",
    "model = xgb.train(xgb_params, dtrain,num_boost_round=num_boost_round,verbose_eval=5,\n",
    "                  evals= watchlist\n",
    "                 )"
   ]
  },
  {
   "cell_type": "code",
   "execution_count": 167,
   "id": "64d16be7",
   "metadata": {},
   "outputs": [],
   "source": [
    "key = 'eta=%s' % xgb_params['eta']"
   ]
  },
  {
   "cell_type": "code",
   "execution_count": 168,
   "id": "7d11ed02",
   "metadata": {
    "scrolled": true
   },
   "outputs": [],
   "source": [
    "scores[key] = parse_xgb_output(output)"
   ]
  },
  {
   "cell_type": "code",
   "execution_count": 169,
   "id": "4c593ea3",
   "metadata": {},
   "outputs": [],
   "source": [
    "%%capture output\n",
    "\n",
    "watchlist = [(dtrain,'train'),(dval,'val')]\n",
    "\n",
    "xgb_params = {\n",
    "    'eta':0.01,               \n",
    "    'max_depth' :6,\n",
    "    'min_child_weight': 1,   \n",
    "    \n",
    "    'objective':'binary:logistic',\n",
    "    'eval_metric':'auc',\n",
    "    \n",
    "    'nthread':8,\n",
    "    'seed':1,\n",
    "    'verbosity':1                               \n",
    "}\n",
    "\n",
    "model = xgb.train(xgb_params, dtrain,num_boost_round=num_boost_round,verbose_eval=5,\n",
    "                  evals= watchlist\n",
    "                 )"
   ]
  },
  {
   "cell_type": "code",
   "execution_count": 170,
   "id": "ddb42e37",
   "metadata": {},
   "outputs": [],
   "source": [
    "key = 'eta=%s' % xgb_params['eta']"
   ]
  },
  {
   "cell_type": "code",
   "execution_count": 171,
   "id": "721f5bce",
   "metadata": {},
   "outputs": [],
   "source": [
    "scores[key] = parse_xgb_output(output)"
   ]
  },
  {
   "cell_type": "code",
   "execution_count": 172,
   "id": "d838ea56",
   "metadata": {},
   "outputs": [
    {
     "data": {
      "text/plain": [
       "dict_keys(['eta=0.02', 'eta=0.01'])"
      ]
     },
     "execution_count": 172,
     "metadata": {},
     "output_type": "execute_result"
    }
   ],
   "source": [
    "scores.keys()"
   ]
  },
  {
   "cell_type": "code",
   "execution_count": 173,
   "id": "b56d9bc9",
   "metadata": {},
   "outputs": [],
   "source": [
    "%%capture output\n",
    "\n",
    "watchlist = [(dtrain,'train'),(dval,'val')]\n",
    "\n",
    "xgb_params = {\n",
    "    'eta':1.0,               \n",
    "    'max_depth' :6,\n",
    "    'min_child_weight': 1,   \n",
    "    \n",
    "    'objective':'binary:logistic',\n",
    "    'eval_metric':'auc',\n",
    "    \n",
    "    'nthread':8,\n",
    "    'seed':1,\n",
    "    'verbosity':1                               \n",
    "}\n",
    "\n",
    "model = xgb.train(xgb_params, dtrain,num_boost_round=num_boost_round,verbose_eval=5,\n",
    "                  evals= watchlist\n",
    "                 )"
   ]
  },
  {
   "cell_type": "code",
   "execution_count": 174,
   "id": "57e16814",
   "metadata": {},
   "outputs": [],
   "source": [
    "key = 'eta=%s' % xgb_params['eta']"
   ]
  },
  {
   "cell_type": "code",
   "execution_count": 175,
   "id": "975c203f",
   "metadata": {},
   "outputs": [],
   "source": [
    "scores[key] = parse_xgb_output(output)"
   ]
  },
  {
   "cell_type": "code",
   "execution_count": 176,
   "id": "377d8b05",
   "metadata": {},
   "outputs": [],
   "source": [
    "%%capture output\n",
    "\n",
    "watchlist = [(dtrain,'train'),(dval,'val')]\n",
    "\n",
    "xgb_params = {\n",
    "    'eta':0.1,               \n",
    "    'max_depth' :6,\n",
    "    'min_child_weight': 1,   \n",
    "    \n",
    "    'objective':'binary:logistic',\n",
    "    'eval_metric':'auc',\n",
    "    \n",
    "    'nthread':8,\n",
    "    'seed':1,\n",
    "    'verbosity':1                               \n",
    "}\n",
    "\n",
    "model = xgb.train(xgb_params, dtrain,num_boost_round=num_boost_round,verbose_eval=5,\n",
    "                  evals= watchlist\n",
    "                 )"
   ]
  },
  {
   "cell_type": "code",
   "execution_count": 177,
   "id": "a6b4385f",
   "metadata": {},
   "outputs": [],
   "source": [
    "key = 'eta=%s' % xgb_params['eta']"
   ]
  },
  {
   "cell_type": "code",
   "execution_count": 178,
   "id": "fa5913dc",
   "metadata": {},
   "outputs": [],
   "source": [
    "scores[key] = parse_xgb_output(output)"
   ]
  },
  {
   "cell_type": "code",
   "execution_count": 179,
   "id": "63c5e7d9",
   "metadata": {},
   "outputs": [],
   "source": [
    "%%capture output\n",
    "\n",
    "watchlist = [(dtrain,'train'),(dval,'val')]\n",
    "\n",
    "xgb_params = {\n",
    "    'eta':0.03,               \n",
    "    'max_depth' :6,\n",
    "    'min_child_weight': 1,   \n",
    "    \n",
    "    'objective':'binary:logistic',\n",
    "    'eval_metric':'auc',\n",
    "    \n",
    "    'nthread':8,\n",
    "    'seed':1,\n",
    "    'verbosity':1                               \n",
    "}\n",
    "\n",
    "model = xgb.train(xgb_params, dtrain,num_boost_round=num_boost_round,verbose_eval=5,\n",
    "                  evals= watchlist\n",
    "                 )"
   ]
  },
  {
   "cell_type": "code",
   "execution_count": 180,
   "id": "fa8e7f9a",
   "metadata": {},
   "outputs": [],
   "source": [
    "key = 'eta=%s' % xgb_params['eta']"
   ]
  },
  {
   "cell_type": "code",
   "execution_count": 181,
   "id": "377e9eb9",
   "metadata": {},
   "outputs": [],
   "source": [
    "scores[key] = parse_xgb_output(output)"
   ]
  },
  {
   "cell_type": "code",
   "execution_count": 182,
   "id": "8c669358",
   "metadata": {},
   "outputs": [],
   "source": [
    "%%capture output\n",
    "\n",
    "watchlist = [(dtrain,'train'),(dval,'val')]\n",
    "\n",
    "xgb_params = {\n",
    "    'eta':0.05,               \n",
    "    'max_depth' :6,\n",
    "    'min_child_weight': 1,   \n",
    "    \n",
    "    'objective':'binary:logistic',\n",
    "    'eval_metric':'auc',\n",
    "    \n",
    "    'nthread':8,\n",
    "    'seed':1,\n",
    "    'verbosity':1                               \n",
    "}\n",
    "\n",
    "model = xgb.train(xgb_params, dtrain,num_boost_round=num_boost_round,verbose_eval=5,\n",
    "                  evals= watchlist\n",
    "                 )"
   ]
  },
  {
   "cell_type": "code",
   "execution_count": 183,
   "id": "82359b13",
   "metadata": {},
   "outputs": [],
   "source": [
    "key = 'eta=%s' % xgb_params['eta']"
   ]
  },
  {
   "cell_type": "code",
   "execution_count": 184,
   "id": "50cae4e5",
   "metadata": {},
   "outputs": [],
   "source": [
    "scores[key] = parse_xgb_output(output)"
   ]
  },
  {
   "cell_type": "code",
   "execution_count": 185,
   "id": "c7138358",
   "metadata": {},
   "outputs": [
    {
     "data": {
      "text/plain": [
       "dict_keys(['eta=0.02', 'eta=0.01', 'eta=1.0', 'eta=0.1', 'eta=0.03', 'eta=0.05'])"
      ]
     },
     "execution_count": 185,
     "metadata": {},
     "output_type": "execute_result"
    }
   ],
   "source": [
    "scores.keys()"
   ]
  },
  {
   "cell_type": "code",
   "execution_count": 186,
   "id": "6c1dc720",
   "metadata": {},
   "outputs": [
    {
     "data": {
      "text/plain": [
       "<matplotlib.legend.Legend at 0x7f647b12bf40>"
      ]
     },
     "execution_count": 186,
     "metadata": {},
     "output_type": "execute_result"
    },
    {
     "data": {
      "image/png": "[encoded data removed]",
      "text/plain": [
       "<Figure size 640x480 with 1 Axes>"
      ]
     },
     "metadata": {},
     "output_type": "display_data"
    }
   ],
   "source": [
    "for key, df_scores in scores.items():\n",
    "    plt.plot(df_scores.num_iteration, df_scores.auc_val, label=key)\n",
    "plt.legend()"
   ]
  },
  {
   "cell_type": "code",
   "execution_count": 187,
   "id": "6e522e49",
   "metadata": {},
   "outputs": [],
   "source": [
    "eta = 0.05"
   ]
  },
  {
   "cell_type": "markdown",
   "id": "be29b286",
   "metadata": {},
   "source": [
    "### Tuning 'max_depth' parameter :"
   ]
  },
  {
   "cell_type": "code",
   "execution_count": 188,
   "id": "172bd950",
   "metadata": {},
   "outputs": [],
   "source": [
    "scores = {}"
   ]
  },
  {
   "cell_type": "code",
   "execution_count": 189,
   "id": "75716bb6",
   "metadata": {},
   "outputs": [],
   "source": [
    "%%capture output \n",
    "\n",
    "watchlist = [(dtrain,'train'),(dval,'val')]\n",
    "\n",
    "xgb_params = {\n",
    "    'eta':eta,               \n",
    "    'max_depth' :4,\n",
    "    'min_child_weight': 1,   \n",
    "    \n",
    "    'objective':'binary:logistic',\n",
    "    'eval_metric':'auc',\n",
    "    \n",
    "    'nthread':8,\n",
    "    'seed':1,\n",
    "    'verbosity':1                               \n",
    "}\n",
    "\n",
    "model = xgb.train(xgb_params, dtrain,num_boost_round=num_boost_round,verbose_eval=5,\n",
    "                  evals= watchlist)"
   ]
  },
  {
   "cell_type": "code",
   "execution_count": 190,
   "id": "907585a6",
   "metadata": {},
   "outputs": [],
   "source": [
    "key = 'max_depth=%s' % xgb_params['max_depth']\n",
    "scores[key] = parse_xgb_output(output)"
   ]
  },
  {
   "cell_type": "code",
   "execution_count": 191,
   "id": "087a8bea",
   "metadata": {},
   "outputs": [],
   "source": [
    "%%capture output \n",
    "\n",
    "watchlist = [(dtrain,'train'),(dval,'val')]\n",
    "\n",
    "xgb_params = {\n",
    "    'eta':eta,               \n",
    "    'max_depth' :5,\n",
    "    'min_child_weight': 1,   \n",
    "    \n",
    "    'objective':'binary:logistic',\n",
    "    'eval_metric':'auc',\n",
    "    \n",
    "    'nthread':8,\n",
    "    'seed':1,\n",
    "    'verbosity':1                               \n",
    "}\n",
    "\n",
    "model = xgb.train(xgb_params, dtrain,num_boost_round=num_boost_round,verbose_eval=5,\n",
    "                  evals= watchlist)"
   ]
  },
  {
   "cell_type": "code",
   "execution_count": 192,
   "id": "e80b73ba",
   "metadata": {},
   "outputs": [],
   "source": [
    "key = 'max_depth=%s' % xgb_params['max_depth']\n",
    "scores[key] = parse_xgb_output(output)"
   ]
  },
  {
   "cell_type": "code",
   "execution_count": 193,
   "id": "8ae17058",
   "metadata": {},
   "outputs": [],
   "source": [
    "%%capture output \n",
    "\n",
    "watchlist = [(dtrain,'train'),(dval,'val')]\n",
    "\n",
    "xgb_params = {\n",
    "    'eta':eta,               \n",
    "    'max_depth' :6,\n",
    "    'min_child_weight': 1,   \n",
    "    \n",
    "    'objective':'binary:logistic',\n",
    "    'eval_metric':'auc',\n",
    "    \n",
    "    'nthread':8,\n",
    "    'seed':1,\n",
    "    'verbosity':1                               \n",
    "}\n",
    "\n",
    "model = xgb.train(xgb_params, dtrain,num_boost_round=num_boost_round,verbose_eval=5,\n",
    "                  evals= watchlist)"
   ]
  },
  {
   "cell_type": "code",
   "execution_count": 194,
   "id": "5bf5f6f0",
   "metadata": {},
   "outputs": [],
   "source": [
    "key = 'max_depth=%s' % xgb_params['max_depth']\n",
    "scores[key] = parse_xgb_output(output)"
   ]
  },
  {
   "cell_type": "code",
   "execution_count": 195,
   "id": "e62f7946",
   "metadata": {},
   "outputs": [],
   "source": [
    "%%capture output \n",
    "\n",
    "watchlist = [(dtrain,'train'),(dval,'val')]\n",
    "\n",
    "xgb_params = {\n",
    "    'eta':eta,               \n",
    "    'max_depth' :3,\n",
    "    'min_child_weight': 1,   \n",
    "    \n",
    "    'objective':'binary:logistic',\n",
    "    'eval_metric':'auc',\n",
    "    \n",
    "    'nthread':8,\n",
    "    'seed':1,\n",
    "    'verbosity':1                               \n",
    "}\n",
    "\n",
    "model = xgb.train(xgb_params, dtrain,num_boost_round=num_boost_round,verbose_eval=5,\n",
    "                  evals= watchlist)"
   ]
  },
  {
   "cell_type": "code",
   "execution_count": 196,
   "id": "697c928c",
   "metadata": {},
   "outputs": [],
   "source": [
    "key = 'max_depth=%s' % xgb_params['max_depth']\n",
    "scores[key] = parse_xgb_output(output)"
   ]
  },
  {
   "cell_type": "code",
   "execution_count": 197,
   "id": "27a839db",
   "metadata": {},
   "outputs": [],
   "source": [
    "%%capture output \n",
    "\n",
    "watchlist = [(dtrain,'train'),(dval,'val')]\n",
    "\n",
    "xgb_params = {\n",
    "    'eta':eta,               \n",
    "    'max_depth' :10,\n",
    "    'min_child_weight': 1,   \n",
    "    \n",
    "    'objective':'binary:logistic',\n",
    "    'eval_metric':'auc',\n",
    "    \n",
    "    'nthread':8,\n",
    "    'seed':1,\n",
    "    'verbosity':1                               \n",
    "}\n",
    "\n",
    "model = xgb.train(xgb_params, dtrain,num_boost_round=num_boost_round,verbose_eval=5,\n",
    "                  evals= watchlist)"
   ]
  },
  {
   "cell_type": "code",
   "execution_count": 198,
   "id": "3ff9971a",
   "metadata": {},
   "outputs": [],
   "source": [
    "key = 'max_depth=%s' % xgb_params['max_depth']\n",
    "scores[key] = parse_xgb_output(output)"
   ]
  },
  {
   "cell_type": "code",
   "execution_count": 199,
   "id": "f7394b73",
   "metadata": {},
   "outputs": [
    {
     "data": {
      "text/plain": [
       "dict_keys(['max_depth=4', 'max_depth=5', 'max_depth=6', 'max_depth=3', 'max_depth=10'])"
      ]
     },
     "execution_count": 199,
     "metadata": {},
     "output_type": "execute_result"
    }
   ],
   "source": [
    "scores.keys()"
   ]
  },
  {
   "cell_type": "code",
   "execution_count": 200,
   "id": "715a180e",
   "metadata": {
    "scrolled": false
   },
   "outputs": [
    {
     "data": {
      "text/plain": [
       "<matplotlib.legend.Legend at 0x7f647ae0a290>"
      ]
     },
     "execution_count": 200,
     "metadata": {},
     "output_type": "execute_result"
    },
    {
     "data": {
      "image/png": "[encoded data removed]",
      "text/plain": [
       "<Figure size 640x480 with 1 Axes>"
      ]
     },
     "metadata": {},
     "output_type": "display_data"
    }
   ],
   "source": [
    "for key, df_scores in scores.items():\n",
    "    plt.plot(df_scores.num_iteration, df_scores.auc_val, label=key)\n",
    "plt.legend()"
   ]
  },
  {
   "cell_type": "code",
   "execution_count": 201,
   "id": "14f60002",
   "metadata": {},
   "outputs": [],
   "source": [
    "max_depth = 6"
   ]
  },
  {
   "cell_type": "markdown",
   "id": "ff267486",
   "metadata": {},
   "source": [
    "### min_child_weight :"
   ]
  },
  {
   "cell_type": "code",
   "execution_count": 202,
   "id": "cff175e5",
   "metadata": {},
   "outputs": [],
   "source": [
    "scores={}"
   ]
  },
  {
   "cell_type": "code",
   "execution_count": 203,
   "id": "cc3944ce",
   "metadata": {},
   "outputs": [],
   "source": [
    "%%capture output \n",
    "\n",
    "watchlist = [(dtrain,'train'),(dval,'val')]\n",
    "\n",
    "xgb_params = {\n",
    "    'eta':eta,               \n",
    "    'max_depth':max_depth,\n",
    "    'min_child_weight': 1,   \n",
    "    \n",
    "    'objective':'binary:logistic',\n",
    "    'eval_metric':'auc',\n",
    "    \n",
    "    'nthread':8,\n",
    "    'seed':1,\n",
    "    'verbosity':1                               \n",
    "}\n",
    "\n",
    "model = xgb.train(xgb_params, dtrain,num_boost_round=num_boost_round,verbose_eval=5,\n",
    "                  evals= watchlist)"
   ]
  },
  {
   "cell_type": "code",
   "execution_count": 204,
   "id": "29250c1d",
   "metadata": {},
   "outputs": [],
   "source": [
    "key = 'min_child_weight=%s' % xgb_params['min_child_weight']\n",
    "scores[key] = parse_xgb_output(output)"
   ]
  },
  {
   "cell_type": "code",
   "execution_count": 205,
   "id": "8b19148c",
   "metadata": {},
   "outputs": [],
   "source": [
    "%%capture output \n",
    "\n",
    "watchlist = [(dtrain,'train'),(dval,'val')]\n",
    "\n",
    "xgb_params = {\n",
    "    'eta':eta,               \n",
    "    'max_depth':max_depth,\n",
    "    'min_child_weight': 10,   \n",
    "    \n",
    "    'objective':'binary:logistic',\n",
    "    'eval_metric':'auc',\n",
    "    \n",
    "    'nthread':8,\n",
    "    'seed':1,\n",
    "    'verbosity':1                               \n",
    "}\n",
    "\n",
    "model = xgb.train(xgb_params, dtrain,num_boost_round=num_boost_round,verbose_eval=5,\n",
    "                  evals= watchlist)"
   ]
  },
  {
   "cell_type": "code",
   "execution_count": 206,
   "id": "443ee039",
   "metadata": {},
   "outputs": [],
   "source": [
    "key = 'min_child_weight=%s' % xgb_params['min_child_weight']\n",
    "scores[key] = parse_xgb_output(output)"
   ]
  },
  {
   "cell_type": "code",
   "execution_count": 207,
   "id": "4c06c422",
   "metadata": {},
   "outputs": [],
   "source": [
    "%%capture output \n",
    "\n",
    "watchlist = [(dtrain,'train'),(dval,'val')]\n",
    "\n",
    "xgb_params = {\n",
    "    'eta':eta,               \n",
    "    'max_depth':max_depth,\n",
    "    'min_child_weight': 30,   \n",
    "    \n",
    "    'objective':'binary:logistic',\n",
    "    'eval_metric':'auc',\n",
    "    \n",
    "    'nthread':8,\n",
    "    'seed':1,\n",
    "    'verbosity':1                               \n",
    "}\n",
    "\n",
    "model = xgb.train(xgb_params, dtrain,num_boost_round=num_boost_round,verbose_eval=5,\n",
    "                  evals= watchlist)"
   ]
  },
  {
   "cell_type": "code",
   "execution_count": 208,
   "id": "2b46c099",
   "metadata": {},
   "outputs": [],
   "source": [
    "key = 'min_child_weight=%s' % xgb_params['min_child_weight']\n",
    "scores[key] = parse_xgb_output(output)"
   ]
  },
  {
   "cell_type": "code",
   "execution_count": 209,
   "id": "91f48bb4",
   "metadata": {},
   "outputs": [
    {
     "data": {
      "text/plain": [
       "dict_keys(['min_child_weight=1', 'min_child_weight=10', 'min_child_weight=30'])"
      ]
     },
     "execution_count": 209,
     "metadata": {},
     "output_type": "execute_result"
    }
   ],
   "source": [
    "scores.keys()"
   ]
  },
  {
   "cell_type": "code",
   "execution_count": 210,
   "id": "f7a04259",
   "metadata": {},
   "outputs": [
    {
     "data": {
      "text/plain": [
       "<matplotlib.legend.Legend at 0x7f647aebadd0>"
      ]
     },
     "execution_count": 210,
     "metadata": {},
     "output_type": "execute_result"
    },
    {
     "data": {
      "image/png": "[encoded data removed]",
      "text/plain": [
       "<Figure size 640x480 with 1 Axes>"
      ]
     },
     "metadata": {},
     "output_type": "display_data"
    }
   ],
   "source": [
    "for key, df_scores in scores.items():\n",
    "    plt.plot(df_scores.num_iteration, df_scores.auc_val, label=key)\n",
    "plt.legend()"
   ]
  },
  {
   "cell_type": "code",
   "execution_count": 211,
   "id": "af6fe6cc",
   "metadata": {},
   "outputs": [],
   "source": [
    "min_child_weight = 1\n",
    "num_boost_round = 125"
   ]
  },
  {
   "cell_type": "markdown",
   "id": "3acd731b",
   "metadata": {},
   "source": [
    "### Deployng final Xgboost model :"
   ]
  },
  {
   "cell_type": "code",
   "execution_count": 212,
   "id": "225327d0",
   "metadata": {},
   "outputs": [
    {
     "data": {
      "text/plain": [
       "(0.05, 6, 1, 125)"
      ]
     },
     "execution_count": 212,
     "metadata": {},
     "output_type": "execute_result"
    }
   ],
   "source": [
    "eta, max_depth, min_child_weight, num_boost_round"
   ]
  },
  {
   "cell_type": "code",
   "execution_count": 213,
   "id": "97ff0fa7",
   "metadata": {},
   "outputs": [],
   "source": [
    "xgb_params = {\n",
    "    'eta':0.05,               \n",
    "    'max_depth' :6,\n",
    "    'min_child_weight': 1,   \n",
    "    'objective':'binary:logistic',\n",
    "    'eval_metric':'auc',\n",
    "    'nthread':8,\n",
    "    'seed':1,\n",
    "    'verbosity':1                               \n",
    "}\n",
    "\n",
    "model = xgb.train(xgb_params, dtrain,num_boost_round=125)"
   ]
  },
  {
   "cell_type": "markdown",
   "id": "e76eecf8",
   "metadata": {},
   "source": [
    "## Selecting final model :"
   ]
  },
  {
   "cell_type": "markdown",
   "id": "817f4048",
   "metadata": {},
   "source": [
    "#### Decision tree :"
   ]
  },
  {
   "cell_type": "code",
   "execution_count": 214,
   "id": "d6f0cfd8",
   "metadata": {},
   "outputs": [
    {
     "data": {
      "text/html": [
       "<style>#sk-container-id-7 {color: black;background-color: white;}#sk-container-id-7 pre{padding: 0;}#sk-container-id-7 div.sk-toggleable {background-color: white;}#sk-container-id-7 label.sk-toggleable__label {cursor: pointer;display: block;width: 100%;margin-bottom: 0;padding: 0.3em;box-sizing: border-box;text-align: center;}#sk-container-id-7 label.sk-toggleable__label-arrow:before {content: \"▸\";float: left;margin-right: 0.25em;color: #696969;}#sk-container-id-7 label.sk-toggleable__label-arrow:hover:before {color: black;}#sk-container-id-7 div.sk-estimator:hover label.sk-toggleable__label-arrow:before {color: black;}#sk-container-id-7 div.sk-toggleable__content {max-height: 0;max-width: 0;overflow: hidden;text-align: left;background-color: #f0f8ff;}#sk-container-id-7 div.sk-toggleable__content pre {margin: 0.2em;color: black;border-radius: 0.25em;background-color: #f0f8ff;}#sk-container-id-7 input.sk-toggleable__control:checked~div.sk-toggleable__content {max-height: 200px;max-width: 100%;overflow: auto;}#sk-container-id-7 input.sk-toggleable__control:checked~label.sk-toggleable__label-arrow:before {content: \"▾\";}#sk-container-id-7 div.sk-estimator input.sk-toggleable__control:checked~label.sk-toggleable__label {background-color: #d4ebff;}#sk-container-id-7 div.sk-label input.sk-toggleable__control:checked~label.sk-toggleable__label {background-color: #d4ebff;}#sk-container-id-7 input.sk-hidden--visually {border: 0;clip: rect(1px 1px 1px 1px);clip: rect(1px, 1px, 1px, 1px);height: 1px;margin: -1px;overflow: hidden;padding: 0;position: absolute;width: 1px;}#sk-container-id-7 div.sk-estimator {font-family: monospace;background-color: #f0f8ff;border: 1px dotted black;border-radius: 0.25em;box-sizing: border-box;margin-bottom: 0.5em;}#sk-container-id-7 div.sk-estimator:hover {background-color: #d4ebff;}#sk-container-id-7 div.sk-parallel-item::after {content: \"\";width: 100%;border-bottom: 1px solid gray;flex-grow: 1;}#sk-container-id-7 div.sk-label:hover label.sk-toggleable__label {background-color: #d4ebff;}#sk-container-id-7 div.sk-serial::before {content: \"\";position: absolute;border-left: 1px solid gray;box-sizing: border-box;top: 0;bottom: 0;left: 50%;z-index: 0;}#sk-container-id-7 div.sk-serial {display: flex;flex-direction: column;align-items: center;background-color: white;padding-right: 0.2em;padding-left: 0.2em;position: relative;}#sk-container-id-7 div.sk-item {position: relative;z-index: 1;}#sk-container-id-7 div.sk-parallel {display: flex;align-items: stretch;justify-content: center;background-color: white;position: relative;}#sk-container-id-7 div.sk-item::before, #sk-container-id-7 div.sk-parallel-item::before {content: \"\";position: absolute;border-left: 1px solid gray;box-sizing: border-box;top: 0;bottom: 0;left: 50%;z-index: -1;}#sk-container-id-7 div.sk-parallel-item {display: flex;flex-direction: column;z-index: 1;position: relative;background-color: white;}#sk-container-id-7 div.sk-parallel-item:first-child::after {align-self: flex-end;width: 50%;}#sk-container-id-7 div.sk-parallel-item:last-child::after {align-self: flex-start;width: 50%;}#sk-container-id-7 div.sk-parallel-item:only-child::after {width: 0;}#sk-container-id-7 div.sk-dashed-wrapped {border: 1px dashed gray;margin: 0 0.4em 0.5em 0.4em;box-sizing: border-box;padding-bottom: 0.4em;background-color: white;}#sk-container-id-7 div.sk-label label {font-family: monospace;font-weight: bold;display: inline-block;line-height: 1.2em;}#sk-container-id-7 div.sk-label-container {text-align: center;}#sk-container-id-7 div.sk-container {/* jupyter's `normalize.less` sets `[hidden] { display: none; }` but bootstrap.min.css set `[hidden] { display: none !important; }` so we also need the `!important` here to be able to override the default hidden behavior on the sphinx rendered scikit-learn.org. See: https://github.com/scikit-learn/scikit-learn/issues/21755 */display: inline-block !important;position: relative;}#sk-container-id-7 div.sk-text-repr-fallback {display: none;}</style><div id=\"sk-container-id-7\" class=\"sk-top-container\"><div class=\"sk-text-repr-fallback\"><pre>DecisionTreeClassifier(max_depth=10, min_samples_leaf=100)</pre><b>In a Jupyter environment, please rerun this cell to show the HTML representation or trust the notebook. <br />On GitHub, the HTML representation is unable to render, please try loading this page with nbviewer.org.</b></div><div class=\"sk-container\" hidden><div class=\"sk-item\"><div class=\"sk-estimator sk-toggleable\"><input class=\"sk-toggleable__control sk-hidden--visually\" id=\"sk-estimator-id-7\" type=\"checkbox\" checked><label for=\"sk-estimator-id-7\" class=\"sk-toggleable__label sk-toggleable__label-arrow\">DecisionTreeClassifier</label><div class=\"sk-toggleable__content\"><pre>DecisionTreeClassifier(max_depth=10, min_samples_leaf=100)</pre></div></div></div></div></div>"
      ],
      "text/plain": [
       "DecisionTreeClassifier(max_depth=10, min_samples_leaf=100)"
      ]
     },
     "execution_count": 214,
     "metadata": {},
     "output_type": "execute_result"
    }
   ],
   "source": [
    "dt = DecisionTreeClassifier(max_depth=10, min_samples_leaf=100)\n",
    "dt.fit(X_train, y_train)"
   ]
  },
  {
   "cell_type": "code",
   "execution_count": 215,
   "id": "b5d35882",
   "metadata": {},
   "outputs": [],
   "source": [
    "val_dicts = df_val[categorical + numerical].to_dict(orient='records')\n",
    "X_val = dv.transform(val_dicts)"
   ]
  },
  {
   "cell_type": "code",
   "execution_count": 216,
   "id": "91cec604",
   "metadata": {},
   "outputs": [
    {
     "data": {
      "text/plain": [
       "0.528"
      ]
     },
     "execution_count": 216,
     "metadata": {},
     "output_type": "execute_result"
    }
   ],
   "source": [
    "y_pred = dt.predict_proba(X_val)[:,1]\n",
    "roc_auc_score(y_val, y_pred).round(3)"
   ]
  },
  {
   "cell_type": "markdown",
   "id": "9263759c",
   "metadata": {},
   "source": [
    "#### Random forest :"
   ]
  },
  {
   "cell_type": "code",
   "execution_count": 217,
   "id": "f119a713",
   "metadata": {},
   "outputs": [],
   "source": [
    "# rf parameters after tuning :\n",
    "\n",
    "min_sample_leaf = 1\n",
    "n = 40\n",
    "max_depth=6"
   ]
  },
  {
   "cell_type": "code",
   "execution_count": 218,
   "id": "5d659dfe",
   "metadata": {},
   "outputs": [
    {
     "data": {
      "text/html": [
       "<style>#sk-container-id-8 {color: black;background-color: white;}#sk-container-id-8 pre{padding: 0;}#sk-container-id-8 div.sk-toggleable {background-color: white;}#sk-container-id-8 label.sk-toggleable__label {cursor: pointer;display: block;width: 100%;margin-bottom: 0;padding: 0.3em;box-sizing: border-box;text-align: center;}#sk-container-id-8 label.sk-toggleable__label-arrow:before {content: \"▸\";float: left;margin-right: 0.25em;color: #696969;}#sk-container-id-8 label.sk-toggleable__label-arrow:hover:before {color: black;}#sk-container-id-8 div.sk-estimator:hover label.sk-toggleable__label-arrow:before {color: black;}#sk-container-id-8 div.sk-toggleable__content {max-height: 0;max-width: 0;overflow: hidden;text-align: left;background-color: #f0f8ff;}#sk-container-id-8 div.sk-toggleable__content pre {margin: 0.2em;color: black;border-radius: 0.25em;background-color: #f0f8ff;}#sk-container-id-8 input.sk-toggleable__control:checked~div.sk-toggleable__content {max-height: 200px;max-width: 100%;overflow: auto;}#sk-container-id-8 input.sk-toggleable__control:checked~label.sk-toggleable__label-arrow:before {content: \"▾\";}#sk-container-id-8 div.sk-estimator input.sk-toggleable__control:checked~label.sk-toggleable__label {background-color: #d4ebff;}#sk-container-id-8 div.sk-label input.sk-toggleable__control:checked~label.sk-toggleable__label {background-color: #d4ebff;}#sk-container-id-8 input.sk-hidden--visually {border: 0;clip: rect(1px 1px 1px 1px);clip: rect(1px, 1px, 1px, 1px);height: 1px;margin: -1px;overflow: hidden;padding: 0;position: absolute;width: 1px;}#sk-container-id-8 div.sk-estimator {font-family: monospace;background-color: #f0f8ff;border: 1px dotted black;border-radius: 0.25em;box-sizing: border-box;margin-bottom: 0.5em;}#sk-container-id-8 div.sk-estimator:hover {background-color: #d4ebff;}#sk-container-id-8 div.sk-parallel-item::after {content: \"\";width: 100%;border-bottom: 1px solid gray;flex-grow: 1;}#sk-container-id-8 div.sk-label:hover label.sk-toggleable__label {background-color: #d4ebff;}#sk-container-id-8 div.sk-serial::before {content: \"\";position: absolute;border-left: 1px solid gray;box-sizing: border-box;top: 0;bottom: 0;left: 50%;z-index: 0;}#sk-container-id-8 div.sk-serial {display: flex;flex-direction: column;align-items: center;background-color: white;padding-right: 0.2em;padding-left: 0.2em;position: relative;}#sk-container-id-8 div.sk-item {position: relative;z-index: 1;}#sk-container-id-8 div.sk-parallel {display: flex;align-items: stretch;justify-content: center;background-color: white;position: relative;}#sk-container-id-8 div.sk-item::before, #sk-container-id-8 div.sk-parallel-item::before {content: \"\";position: absolute;border-left: 1px solid gray;box-sizing: border-box;top: 0;bottom: 0;left: 50%;z-index: -1;}#sk-container-id-8 div.sk-parallel-item {display: flex;flex-direction: column;z-index: 1;position: relative;background-color: white;}#sk-container-id-8 div.sk-parallel-item:first-child::after {align-self: flex-end;width: 50%;}#sk-container-id-8 div.sk-parallel-item:last-child::after {align-self: flex-start;width: 50%;}#sk-container-id-8 div.sk-parallel-item:only-child::after {width: 0;}#sk-container-id-8 div.sk-dashed-wrapped {border: 1px dashed gray;margin: 0 0.4em 0.5em 0.4em;box-sizing: border-box;padding-bottom: 0.4em;background-color: white;}#sk-container-id-8 div.sk-label label {font-family: monospace;font-weight: bold;display: inline-block;line-height: 1.2em;}#sk-container-id-8 div.sk-label-container {text-align: center;}#sk-container-id-8 div.sk-container {/* jupyter's `normalize.less` sets `[hidden] { display: none; }` but bootstrap.min.css set `[hidden] { display: none !important; }` so we also need the `!important` here to be able to override the default hidden behavior on the sphinx rendered scikit-learn.org. See: https://github.com/scikit-learn/scikit-learn/issues/21755 */display: inline-block !important;position: relative;}#sk-container-id-8 div.sk-text-repr-fallback {display: none;}</style><div id=\"sk-container-id-8\" class=\"sk-top-container\"><div class=\"sk-text-repr-fallback\"><pre>RandomForestClassifier(max_depth=6, n_estimators=40)</pre><b>In a Jupyter environment, please rerun this cell to show the HTML representation or trust the notebook. <br />On GitHub, the HTML representation is unable to render, please try loading this page with nbviewer.org.</b></div><div class=\"sk-container\" hidden><div class=\"sk-item\"><div class=\"sk-estimator sk-toggleable\"><input class=\"sk-toggleable__control sk-hidden--visually\" id=\"sk-estimator-id-8\" type=\"checkbox\" checked><label for=\"sk-estimator-id-8\" class=\"sk-toggleable__label sk-toggleable__label-arrow\">RandomForestClassifier</label><div class=\"sk-toggleable__content\"><pre>RandomForestClassifier(max_depth=6, n_estimators=40)</pre></div></div></div></div></div>"
      ],
      "text/plain": [
       "RandomForestClassifier(max_depth=6, n_estimators=40)"
      ]
     },
     "execution_count": 218,
     "metadata": {},
     "output_type": "execute_result"
    }
   ],
   "source": [
    "rf = RandomForestClassifier(n_estimators=n, \n",
    "                            max_depth=max_depth,\n",
    "                            min_samples_leaf=min_sample_leaf)\n",
    "\n",
    "rf.fit(X_train, y_train)"
   ]
  },
  {
   "cell_type": "code",
   "execution_count": 219,
   "id": "7a4b69f8",
   "metadata": {},
   "outputs": [],
   "source": [
    "y_pred = rf.predict_proba(X_val)[:,1]"
   ]
  },
  {
   "cell_type": "code",
   "execution_count": 220,
   "id": "30e5d989",
   "metadata": {},
   "outputs": [
    {
     "data": {
      "text/plain": [
       "0.514"
      ]
     },
     "execution_count": 220,
     "metadata": {},
     "output_type": "execute_result"
    }
   ],
   "source": [
    "roc_auc_score(y_val,y_pred).round(3)"
   ]
  },
  {
   "cell_type": "markdown",
   "id": "c68a64b8",
   "metadata": {},
   "source": [
    "#### Xgboost :"
   ]
  },
  {
   "cell_type": "code",
   "execution_count": 221,
   "id": "5409c7cb",
   "metadata": {},
   "outputs": [],
   "source": [
    "# xgboost parameters after tuning :\n",
    "\n",
    "eta = 0.05\n",
    "max_depth = 6\n",
    "min_child_weight = 1\n",
    "num_boost_round = 125"
   ]
  },
  {
   "cell_type": "code",
   "execution_count": 222,
   "id": "6c3123eb",
   "metadata": {},
   "outputs": [],
   "source": [
    "xgb_params = {\n",
    "    'eta':eta,               \n",
    "    'max_depth' : max_depth,\n",
    "    'min_child_weight': min_child_weight,   \n",
    "    'objective':'binary:logistic',\n",
    "    'eval_metric':'auc',\n",
    "    'nthread':8,\n",
    "    'seed':1,\n",
    "    'verbosity':1                               \n",
    "}\n",
    "\n",
    "model = xgb.train(xgb_params, dtrain,num_boost_round=num_boost_round)"
   ]
  },
  {
   "cell_type": "code",
   "execution_count": 223,
   "id": "3e267b22",
   "metadata": {},
   "outputs": [
    {
     "data": {
      "text/plain": [
       "0.55"
      ]
     },
     "execution_count": 223,
     "metadata": {},
     "output_type": "execute_result"
    }
   ],
   "source": [
    "y_pred = model.predict(dval)\n",
    "roc_auc_score(y_val, y_pred).round(3)"
   ]
  },
  {
   "cell_type": "code",
   "execution_count": 224,
   "id": "6583d0cd",
   "metadata": {},
   "outputs": [],
   "source": [
    "def tpr_dfr_dataframe(y_val, y_pred):\n",
    "\n",
    "    scores = []\n",
    "    threshold = np.linspace (0, 1, 101)\n",
    "\n",
    "    for t in threshold:\n",
    "        actual_positive = (y_val == 1)\n",
    "        actual_negative = (y_val == 0)\n",
    "\n",
    "        predict_positive = (y_pred >= t)\n",
    "        predict_negative = (y_pred < t)\n",
    "\n",
    "        tp = (actual_positive & predict_positive).sum() \n",
    "        tn = (actual_negative & predict_negative).sum() \n",
    "        fp = (actual_negative & predict_positive).sum() \n",
    "        fn = (actual_positive & predict_negative).sum() \n",
    "\n",
    "        scores.append((t, tp, fp, fn, tn))\n",
    "        \n",
    "    columns = ('threshold', 'tp', 'fp', 'fn', 'tn')\n",
    "    df_scores = pd.DataFrame(scores, columns=columns)\n",
    "\n",
    "    df_scores['tpr'] = df_scores.tp / (df_scores.fn + df_scores.tp)\n",
    "    df_scores['fpr'] = df_scores.fp / (df_scores.tn + df_scores.fp)\n",
    "\n",
    "    return df_scores"
   ]
  },
  {
   "cell_type": "code",
   "execution_count": 225,
   "id": "3f9e497a",
   "metadata": {},
   "outputs": [
    {
     "data": {
      "text/plain": [
       "<matplotlib.legend.Legend at 0x7f647b26a230>"
      ]
     },
     "execution_count": 225,
     "metadata": {},
     "output_type": "execute_result"
    },
    {
     "data": {
      "image/png": "[encoded data removed]",
      "text/plain": [
       "<Figure size 500x500 with 1 Axes>"
      ]
     },
     "metadata": {},
     "output_type": "display_data"
    }
   ],
   "source": [
    "df_scores = tpr_dfr_dataframe(y_val, y_pred)\n",
    "\n",
    "plt.figure(figsize=(5, 5))\n",
    "\n",
    "plt.plot(df_scores.fpr, df_scores.tpr, label='model')\n",
    "plt.plot([0,1],[0,1], label='random')\n",
    "\n",
    "plt.xlabel('FPR')\n",
    "plt.ylabel('TPR')\n",
    "\n",
    "plt.legend()"
   ]
  },
  {
   "cell_type": "markdown",
   "id": "abee6c8c",
   "metadata": {},
   "source": [
    "### Our best model is Xgboost\n",
    "### Here we train it on df_full_train dataset :"
   ]
  },
  {
   "cell_type": "code",
   "execution_count": 226,
   "id": "d88bc516",
   "metadata": {},
   "outputs": [],
   "source": [
    "df_full_train = df_full_train.reset_index(drop=True)"
   ]
  },
  {
   "cell_type": "code",
   "execution_count": 227,
   "id": "2c1c1f31",
   "metadata": {},
   "outputs": [],
   "source": [
    "y_full_train = df_full_train['heart_attack_risk']"
   ]
  },
  {
   "cell_type": "code",
   "execution_count": 228,
   "id": "de7c2472",
   "metadata": {},
   "outputs": [],
   "source": [
    "del df_full_train['heart_attack_risk']"
   ]
  },
  {
   "cell_type": "code",
   "execution_count": 229,
   "id": "694dc457",
   "metadata": {},
   "outputs": [],
   "source": [
    "dicts_df_full_train = df_full_train[categorical + numerical].to_dict(orient='records')\n",
    "\n",
    "dv=DictVectorizer(sparse=False)\n",
    "X_full_train = dv.fit_transform(dicts_df_full_train)\n",
    "\n",
    "dicts_test = df_test[categorical + numerical].to_dict(orient='records')\n",
    "X_test = dv.transform(dicts_test)"
   ]
  },
  {
   "cell_type": "code",
   "execution_count": 230,
   "id": "2d4a9b19",
   "metadata": {},
   "outputs": [],
   "source": [
    "dfulltrain = xgb.DMatrix(X_full_train, label=y_full_train, feature_names=dv.get_feature_names_out())\n",
    "dtest = xgb.DMatrix(X_test, feature_names=dv.get_feature_names_out())"
   ]
  },
  {
   "cell_type": "code",
   "execution_count": 231,
   "id": "11269e20",
   "metadata": {},
   "outputs": [],
   "source": [
    "# xgboost parameters after tuning :\n",
    "\n",
    "eta = 0.05\n",
    "max_depth = 6\n",
    "min_child_weight = 1\n",
    "num_boost_round = 125"
   ]
  },
  {
   "cell_type": "code",
   "execution_count": 232,
   "id": "9e1a620d",
   "metadata": {},
   "outputs": [],
   "source": [
    "xgb_params = {\n",
    "    'eta':0.05,               \n",
    "    'max_depth' : 6,\n",
    "    'min_child_weight': 1,   \n",
    "    'objective':'binary:logistic',\n",
    "    'eval_metric':'auc',\n",
    "    'nthread':8,\n",
    "    'seed':1,\n",
    "    'verbosity':1                               \n",
    "}\n",
    "\n",
    "model = xgb.train(xgb_params, dfulltrain,num_boost_round = 125)"
   ]
  },
  {
   "cell_type": "code",
   "execution_count": 233,
   "id": "587e88ad",
   "metadata": {},
   "outputs": [],
   "source": [
    "y_pred = model.predict(dtest)"
   ]
  },
  {
   "cell_type": "code",
   "execution_count": 234,
   "id": "7559288a",
   "metadata": {},
   "outputs": [
    {
     "data": {
      "text/plain": [
       "0.523"
      ]
     },
     "execution_count": 234,
     "metadata": {},
     "output_type": "execute_result"
    }
   ],
   "source": [
    "roc_auc_score(y_test, y_pred).round(3)"
   ]
  },
  {
   "cell_type": "code",
   "execution_count": 235,
   "id": "ae1661ac",
   "metadata": {},
   "outputs": [],
   "source": [
    "# our model does not perform so much!"
   ]
  },
  {
   "cell_type": "markdown",
   "id": "2c2f8984",
   "metadata": {},
   "source": [
    "##  Export model :"
   ]
  },
  {
   "cell_type": "code",
   "execution_count": 236,
   "id": "b39bba78",
   "metadata": {},
   "outputs": [],
   "source": [
    "output_file = 'model_xgb.bin'"
   ]
  },
  {
   "cell_type": "code",
   "execution_count": 237,
   "id": "9f4e5c8b",
   "metadata": {},
   "outputs": [],
   "source": [
    "f_out = open(output_file, 'wb')\n",
    "pickle.dump((model, dv), f_out)   \n",
    "f_out.close() "
   ]
  }
 ],
 "metadata": {
  "kernelspec": {
   "display_name": "Python 3 (ipykernel)",
   "language": "python",
   "name": "python3"
  },
  "language_info": {
   "codemirror_mode": {
    "name": "ipython",
    "version": 3
   },
   "file_extension": ".py",
   "mimetype": "text/x-python",
   "name": "python",
   "nbconvert_exporter": "python",
   "pygments_lexer": "ipython3",
   "version": "3.10.9"
  }
 },
 "nbformat": 4,
 "nbformat_minor": 5
}
